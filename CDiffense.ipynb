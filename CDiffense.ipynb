{
 "cells": [
  {
   "cell_type": "code",
   "execution_count": 1,
   "metadata": {},
   "outputs": [],
   "source": [
    "import psycopg2\n",
    "import pandas as pd\n",
    "import matplotlib.lines as mlines\n",
    "import matplotlib.pyplot as plt\n",
    "import re\n",
    "import datetime\n",
    "import random\n",
    "import nltk\n",
    "import numpy as np"
   ]
  },
  {
   "cell_type": "code",
   "execution_count": 5,
   "metadata": {},
   "outputs": [],
   "source": [
    "ADMISSIONS_df = pd.read_csv(\"ADMISSIONS.csv\")\n",
    "DIAGNOSES_ICD_df = pd.read_csv(\"DIAGNOSES_ICD.csv\")"
   ]
  },
  {
   "cell_type": "code",
   "execution_count": 3,
   "metadata": {},
   "outputs": [
    {
     "data": {
      "text/html": [
       "<div>\n",
       "<style scoped>\n",
       "    .dataframe tbody tr th:only-of-type {\n",
       "        vertical-align: middle;\n",
       "    }\n",
       "\n",
       "    .dataframe tbody tr th {\n",
       "        vertical-align: top;\n",
       "    }\n",
       "\n",
       "    .dataframe thead th {\n",
       "        text-align: right;\n",
       "    }\n",
       "</style>\n",
       "<table border=\"1\" class=\"dataframe\">\n",
       "  <thead>\n",
       "    <tr style=\"text-align: right;\">\n",
       "      <th></th>\n",
       "      <th>ROW_ID</th>\n",
       "      <th>SUBJECT_ID</th>\n",
       "      <th>HADM_ID</th>\n",
       "      <th>ADMITTIME</th>\n",
       "      <th>DISCHTIME</th>\n",
       "      <th>DEATHTIME</th>\n",
       "      <th>ADMISSION_TYPE</th>\n",
       "      <th>ADMISSION_LOCATION</th>\n",
       "      <th>DISCHARGE_LOCATION</th>\n",
       "      <th>INSURANCE</th>\n",
       "      <th>LANGUAGE</th>\n",
       "      <th>RELIGION</th>\n",
       "      <th>MARITAL_STATUS</th>\n",
       "      <th>ETHNICITY</th>\n",
       "      <th>EDREGTIME</th>\n",
       "      <th>EDOUTTIME</th>\n",
       "      <th>DIAGNOSIS</th>\n",
       "      <th>HOSPITAL_EXPIRE_FLAG</th>\n",
       "      <th>HAS_CHARTEVENTS_DATA</th>\n",
       "    </tr>\n",
       "  </thead>\n",
       "  <tbody>\n",
       "    <tr>\n",
       "      <th>0</th>\n",
       "      <td>21</td>\n",
       "      <td>22</td>\n",
       "      <td>165315</td>\n",
       "      <td>2196-04-09 12:26:00</td>\n",
       "      <td>2196-04-10 15:54:00</td>\n",
       "      <td>NaN</td>\n",
       "      <td>EMERGENCY</td>\n",
       "      <td>EMERGENCY ROOM ADMIT</td>\n",
       "      <td>DISC-TRAN CANCER/CHLDRN H</td>\n",
       "      <td>Private</td>\n",
       "      <td>NaN</td>\n",
       "      <td>UNOBTAINABLE</td>\n",
       "      <td>MARRIED</td>\n",
       "      <td>WHITE</td>\n",
       "      <td>2196-04-09 10:06:00</td>\n",
       "      <td>2196-04-09 13:24:00</td>\n",
       "      <td>BENZODIAZEPINE OVERDOSE</td>\n",
       "      <td>0</td>\n",
       "      <td>1</td>\n",
       "    </tr>\n",
       "    <tr>\n",
       "      <th>1</th>\n",
       "      <td>22</td>\n",
       "      <td>23</td>\n",
       "      <td>152223</td>\n",
       "      <td>2153-09-03 07:15:00</td>\n",
       "      <td>2153-09-08 19:10:00</td>\n",
       "      <td>NaN</td>\n",
       "      <td>ELECTIVE</td>\n",
       "      <td>PHYS REFERRAL/NORMAL DELI</td>\n",
       "      <td>HOME HEALTH CARE</td>\n",
       "      <td>Medicare</td>\n",
       "      <td>NaN</td>\n",
       "      <td>CATHOLIC</td>\n",
       "      <td>MARRIED</td>\n",
       "      <td>WHITE</td>\n",
       "      <td>NaN</td>\n",
       "      <td>NaN</td>\n",
       "      <td>CORONARY ARTERY DISEASE\\CORONARY ARTERY BYPASS...</td>\n",
       "      <td>0</td>\n",
       "      <td>1</td>\n",
       "    </tr>\n",
       "    <tr>\n",
       "      <th>2</th>\n",
       "      <td>23</td>\n",
       "      <td>23</td>\n",
       "      <td>124321</td>\n",
       "      <td>2157-10-18 19:34:00</td>\n",
       "      <td>2157-10-25 14:00:00</td>\n",
       "      <td>NaN</td>\n",
       "      <td>EMERGENCY</td>\n",
       "      <td>TRANSFER FROM HOSP/EXTRAM</td>\n",
       "      <td>HOME HEALTH CARE</td>\n",
       "      <td>Medicare</td>\n",
       "      <td>ENGL</td>\n",
       "      <td>CATHOLIC</td>\n",
       "      <td>MARRIED</td>\n",
       "      <td>WHITE</td>\n",
       "      <td>NaN</td>\n",
       "      <td>NaN</td>\n",
       "      <td>BRAIN MASS</td>\n",
       "      <td>0</td>\n",
       "      <td>1</td>\n",
       "    </tr>\n",
       "    <tr>\n",
       "      <th>3</th>\n",
       "      <td>24</td>\n",
       "      <td>24</td>\n",
       "      <td>161859</td>\n",
       "      <td>2139-06-06 16:14:00</td>\n",
       "      <td>2139-06-09 12:48:00</td>\n",
       "      <td>NaN</td>\n",
       "      <td>EMERGENCY</td>\n",
       "      <td>TRANSFER FROM HOSP/EXTRAM</td>\n",
       "      <td>HOME</td>\n",
       "      <td>Private</td>\n",
       "      <td>NaN</td>\n",
       "      <td>PROTESTANT QUAKER</td>\n",
       "      <td>SINGLE</td>\n",
       "      <td>WHITE</td>\n",
       "      <td>NaN</td>\n",
       "      <td>NaN</td>\n",
       "      <td>INTERIOR MYOCARDIAL INFARCTION</td>\n",
       "      <td>0</td>\n",
       "      <td>1</td>\n",
       "    </tr>\n",
       "    <tr>\n",
       "      <th>4</th>\n",
       "      <td>25</td>\n",
       "      <td>25</td>\n",
       "      <td>129635</td>\n",
       "      <td>2160-11-02 02:06:00</td>\n",
       "      <td>2160-11-05 14:55:00</td>\n",
       "      <td>NaN</td>\n",
       "      <td>EMERGENCY</td>\n",
       "      <td>EMERGENCY ROOM ADMIT</td>\n",
       "      <td>HOME</td>\n",
       "      <td>Private</td>\n",
       "      <td>NaN</td>\n",
       "      <td>UNOBTAINABLE</td>\n",
       "      <td>MARRIED</td>\n",
       "      <td>WHITE</td>\n",
       "      <td>2160-11-02 01:01:00</td>\n",
       "      <td>2160-11-02 04:27:00</td>\n",
       "      <td>ACUTE CORONARY SYNDROME</td>\n",
       "      <td>0</td>\n",
       "      <td>1</td>\n",
       "    </tr>\n",
       "  </tbody>\n",
       "</table>\n",
       "</div>"
      ],
      "text/plain": [
       "   ROW_ID  SUBJECT_ID  HADM_ID            ADMITTIME            DISCHTIME  \\\n",
       "0      21          22   165315  2196-04-09 12:26:00  2196-04-10 15:54:00   \n",
       "1      22          23   152223  2153-09-03 07:15:00  2153-09-08 19:10:00   \n",
       "2      23          23   124321  2157-10-18 19:34:00  2157-10-25 14:00:00   \n",
       "3      24          24   161859  2139-06-06 16:14:00  2139-06-09 12:48:00   \n",
       "4      25          25   129635  2160-11-02 02:06:00  2160-11-05 14:55:00   \n",
       "\n",
       "  DEATHTIME ADMISSION_TYPE         ADMISSION_LOCATION  \\\n",
       "0       NaN      EMERGENCY       EMERGENCY ROOM ADMIT   \n",
       "1       NaN       ELECTIVE  PHYS REFERRAL/NORMAL DELI   \n",
       "2       NaN      EMERGENCY  TRANSFER FROM HOSP/EXTRAM   \n",
       "3       NaN      EMERGENCY  TRANSFER FROM HOSP/EXTRAM   \n",
       "4       NaN      EMERGENCY       EMERGENCY ROOM ADMIT   \n",
       "\n",
       "          DISCHARGE_LOCATION INSURANCE LANGUAGE           RELIGION  \\\n",
       "0  DISC-TRAN CANCER/CHLDRN H   Private      NaN       UNOBTAINABLE   \n",
       "1           HOME HEALTH CARE  Medicare      NaN           CATHOLIC   \n",
       "2           HOME HEALTH CARE  Medicare     ENGL           CATHOLIC   \n",
       "3                       HOME   Private      NaN  PROTESTANT QUAKER   \n",
       "4                       HOME   Private      NaN       UNOBTAINABLE   \n",
       "\n",
       "  MARITAL_STATUS ETHNICITY            EDREGTIME            EDOUTTIME  \\\n",
       "0        MARRIED     WHITE  2196-04-09 10:06:00  2196-04-09 13:24:00   \n",
       "1        MARRIED     WHITE                  NaN                  NaN   \n",
       "2        MARRIED     WHITE                  NaN                  NaN   \n",
       "3         SINGLE     WHITE                  NaN                  NaN   \n",
       "4        MARRIED     WHITE  2160-11-02 01:01:00  2160-11-02 04:27:00   \n",
       "\n",
       "                                           DIAGNOSIS  HOSPITAL_EXPIRE_FLAG  \\\n",
       "0                            BENZODIAZEPINE OVERDOSE                     0   \n",
       "1  CORONARY ARTERY DISEASE\\CORONARY ARTERY BYPASS...                     0   \n",
       "2                                         BRAIN MASS                     0   \n",
       "3                     INTERIOR MYOCARDIAL INFARCTION                     0   \n",
       "4                            ACUTE CORONARY SYNDROME                     0   \n",
       "\n",
       "   HAS_CHARTEVENTS_DATA  \n",
       "0                     1  \n",
       "1                     1  \n",
       "2                     1  \n",
       "3                     1  \n",
       "4                     1  "
      ]
     },
     "execution_count": 3,
     "metadata": {},
     "output_type": "execute_result"
    }
   ],
   "source": [
    "ADMISSIONS_df.head()"
   ]
  },
  {
   "cell_type": "markdown",
   "metadata": {},
   "source": [
    "### Organize ethnic groups into fewer groups "
   ]
  },
  {
   "cell_type": "code",
   "execution_count": 4,
   "metadata": {},
   "outputs": [
    {
     "data": {
      "text/plain": [
       "WHITE       41325\n",
       "OTHER        7744\n",
       "BLACK        5785\n",
       "HISPANIC     2115\n",
       "ASIAN        2007\n",
       "Name: ETHNICITY, dtype: int64"
      ]
     },
     "execution_count": 4,
     "metadata": {},
     "output_type": "execute_result"
    }
   ],
   "source": [
    "ethnicity_df = ADMISSIONS_df[\"ETHNICITY\"].copy()\n",
    "ethnicity_df.replace(to_replace=' - [A-Z]*',value='',regex=True, inplace=True)\n",
    "ethnicity_df.replace(to_replace='/[A-Z]*',value='',regex=True, inplace=True)\n",
    "ethnicity_df.replace(to_replace=' [A-Z]*',value='',regex=True,inplace=True)\n",
    "ethnicity_df.replace(to_replace=['UNKNOWN','UNABLE','PATIENT','MULTI','AMERICAN','PORTUGUESE','MIDDLE','NATIVE','HISPANIC(OTHER)','CARIBBEAN','SOUTH'],value='OTHER',inplace=True)\n",
    "ethnicity_df.value_counts()"
   ]
  },
  {
   "cell_type": "markdown",
   "metadata": {},
   "source": [
    "### Clean up Diagnosis"
   ]
  },
  {
   "cell_type": "code",
   "execution_count": 6,
   "metadata": {},
   "outputs": [],
   "source": [
    "diagnosis_df = ADMISSIONS_df[\"DIAGNOSIS\"].copy()"
   ]
  },
  {
   "cell_type": "code",
   "execution_count": 7,
   "metadata": {},
   "outputs": [],
   "source": [
    "diagnosis_df = diagnosis_df.to_frame()"
   ]
  },
  {
   "cell_type": "code",
   "execution_count": 8,
   "metadata": {},
   "outputs": [],
   "source": [
    "diagnosis_df[\"D1\"]='k'\n",
    "diagnosis_df[\"D2\"]='k'\n",
    "diagnosis_df[\"D3\"]='k'\n",
    "diagnosis_df[\"D4\"]='k'\n",
    "diagnosis_df[\"D5\"]='k'\n",
    "diagnosis_df[\"D6\"]='k'"
   ]
  },
  {
   "cell_type": "code",
   "execution_count": 9,
   "metadata": {},
   "outputs": [],
   "source": [
    "for idx,row in enumerate(diagnosis_df.itertuples(),1):\n",
    "    if type(row.DIAGNOSIS) == str:\n",
    "        diag_list_semi = row.DIAGNOSIS.split(';')\n",
    "        diag_list_back_slash = row.DIAGNOSIS.split('\\\\')\n",
    "        if len(diag_list_back_slash) >= len(diag_list_semi):\n",
    "                if len(diag_list_back_slash) == 1:\n",
    "                    diagnosis_df.at[row.Index,\"D1\"]=diag_list_back_slash[0]\n",
    "                    diagnosis_df.at[row.Index,\"D2\"]=diag_list_back_slash[0]\n",
    "                    diagnosis_df.at[row.Index,\"D3\"]=diag_list_back_slash[0]\n",
    "                    diagnosis_df.at[row.Index,\"D4\"]=diag_list_back_slash[0]\n",
    "                    diagnosis_df.at[row.Index,\"D5\"]=diag_list_back_slash[0]\n",
    "                    diagnosis_df.at[row.Index,\"D6\"]=diag_list_back_slash[0]                   \n",
    "                elif len(diag_list_back_slash) == 2:\n",
    "                    diagnosis_df.at[row.Index,\"D1\"]=diag_list_back_slash[0]\n",
    "                    diagnosis_df.at[row.Index,\"D2\"]=diag_list_back_slash[1]\n",
    "                    diagnosis_df.at[row.Index,\"D3\"]=random.choice(diag_list_back_slash)\n",
    "                    diagnosis_df.at[row.Index,\"D4\"]=random.choice(diag_list_back_slash)\n",
    "                    diagnosis_df.at[row.Index,\"D5\"]=random.choice(diag_list_back_slash)\n",
    "                    diagnosis_df.at[row.Index,\"D6\"]=random.choice(diag_list_back_slash)\n",
    "                elif len(diag_list_back_slash) == 3:\n",
    "                    diagnosis_df.at[row.Index,\"D1\"]=diag_list_back_slash[0]\n",
    "                    diagnosis_df.at[row.Index,\"D2\"]=diag_list_back_slash[1]\n",
    "                    diagnosis_df.at[row.Index,\"D3\"]=diag_list_back_slash[2]\n",
    "                    diagnosis_df.at[row.Index,\"D4\"]=random.choice(diag_list_back_slash)\n",
    "                    diagnosis_df.at[row.Index,\"D5\"]=random.choice(diag_list_back_slash)\n",
    "                    diagnosis_df.at[row.Index,\"D6\"]=random.choice(diag_list_back_slash)\n",
    "                elif len(diag_list_back_slash) == 4:\n",
    "                    diagnosis_df.at[row.Index,\"D1\"]=diag_list_back_slash[0]\n",
    "                    diagnosis_df.at[row.Index,\"D2\"]=diag_list_back_slash[1]\n",
    "                    diagnosis_df.at[row.Index,\"D3\"]=diag_list_back_slash[2]\n",
    "                    diagnosis_df.at[row.Index,\"D4\"]=diag_list_back_slash[3]\n",
    "                    diagnosis_df.at[row.Index,\"D5\"]=random.choice(diag_list_back_slash)\n",
    "                    diagnosis_df.at[row.Index,\"D6\"]=random.choice(diag_list_back_slash)                   \n",
    "                elif len(diag_list_back_slash) == 5:\n",
    "                    diagnosis_df.at[row.Index,\"D1\"]=diag_list_back_slash[0]\n",
    "                    diagnosis_df.at[row.Index,\"D2\"]=diag_list_back_slash[1]\n",
    "                    diagnosis_df.at[row.Index,\"D3\"]=diag_list_back_slash[2]\n",
    "                    diagnosis_df.at[row.Index,\"D4\"]=diag_list_back_slash[3]\n",
    "                    diagnosis_df.at[row.Index,\"D5\"]=diag_list_back_slash[4]\n",
    "                    diagnosis_df.at[row.Index,\"D6\"]=random.choice(diag_list_back_slash)\n",
    "                elif len(diag_list_back_slash) == 6:\n",
    "                    diagnosis_df.at[row.Index,\"D1\"]=diag_list_back_slash[0]\n",
    "                    diagnosis_df.at[row.Index,\"D2\"]=diag_list_back_slash[1]\n",
    "                    diagnosis_df.at[row.Index,\"D3\"]=diag_list_back_slash[2]\n",
    "                    diagnosis_df.at[row.Index,\"D4\"]=diag_list_back_slash[3]\n",
    "                    diagnosis_df.at[row.Index,\"D5\"]=diag_list_back_slash[4]\n",
    "                    diagnosis_df.at[row.Index,\"D6\"]=diag_list_back_slash[5]           \n",
    "        else:\n",
    "                if len(diag_list_semi) == 1:\n",
    "                    diagnosis_df.at[row.Index,\"D1\"]=diag_list_semi[0]\n",
    "                    diagnosis_df.at[row.Index,\"D2\"]=diag_list_semi[0]\n",
    "                    diagnosis_df.at[row.Index,\"D3\"]=diag_list_semi[0]\n",
    "                    diagnosis_df.at[row.Index,\"D4\"]=diag_list_semi[0]\n",
    "                    diagnosis_df.at[row.Index,\"D5\"]=diag_list_semi[0]\n",
    "                    diagnosis_df.at[row.Index,\"D6\"]=diag_list_semi[0]                   \n",
    "                elif len(diag_list_semi) == 2:\n",
    "                    diagnosis_df.at[row.Index,\"D1\"]=diag_list_semi[0]\n",
    "                    diagnosis_df.at[row.Index,\"D2\"]=diag_list_semi[1]\n",
    "                    diagnosis_df.at[row.Index,\"D3\"]=random.choice(diag_list_semi)\n",
    "                    diagnosis_df.at[row.Index,\"D4\"]=random.choice(diag_list_semi)\n",
    "                    diagnosis_df.at[row.Index,\"D5\"]=random.choice(diag_list_semi)\n",
    "                    diagnosis_df.at[row.Index,\"D6\"]=random.choice(diag_list_semi)\n",
    "                elif len(diag_list_semi) == 3:\n",
    "                    diagnosis_df.at[row.Index,\"D1\"]=diag_list_semi[0]\n",
    "                    diagnosis_df.at[row.Index,\"D2\"]=diag_list_semi[1]\n",
    "                    diagnosis_df.at[row.Index,\"D3\"]=diag_list_semi[2]\n",
    "                    diagnosis_df.at[row.Index,\"D4\"]=random.choice(diag_list_semi)\n",
    "                    diagnosis_df.at[row.Index,\"D5\"]=random.choice(diag_list_semi)\n",
    "                    diagnosis_df.at[row.Index,\"D6\"]=random.choice(diag_list_semi)\n",
    "                elif len(diag_list_semi) == 4:\n",
    "                    diagnosis_df.at[row.Index,\"D1\"]=diag_list_semi[0]\n",
    "                    diagnosis_df.at[row.Index,\"D2\"]=diag_list_semi[1]\n",
    "                    diagnosis_df.at[row.Index,\"D3\"]=diag_list_semi[2]\n",
    "                    diagnosis_df.at[row.Index,\"D4\"]=diag_list_semi[3]\n",
    "                    diagnosis_df.at[row.Index,\"D5\"]=random.choice(diag_list_semi)\n",
    "                    diagnosis_df.at[row.Index,\"D6\"]=random.choice(diag_list_semi)\n",
    "                elif len(diag_list_semi) == 5:\n",
    "                    diagnosis_df.at[row.Index,\"D1\"]=diag_list_semi[0]\n",
    "                    diagnosis_df.at[row.Index,\"D2\"]=diag_list_semi[1]\n",
    "                    diagnosis_df.at[row.Index,\"D3\"]=diag_list_semi[2]\n",
    "                    diagnosis_df.at[row.Index,\"D4\"]=diag_list_semi[3]\n",
    "                    diagnosis_df.at[row.Index,\"D5\"]=diag_list_semi[4]\n",
    "                    diagnosis_df.at[row.Index,\"D6\"]=random.choice(diag_list_semi)\n",
    "                elif len(diag_list_semi) == 6:\n",
    "                    diagnosis_df.at[row.Index,\"D1\"]=diag_list_semi[0]\n",
    "                    diagnosis_df.at[row.Index,\"D2\"]=diag_list_semi[1]\n",
    "                    diagnosis_df.at[row.Index,\"D3\"]=diag_list_semi[2]\n",
    "                    diagnosis_df.at[row.Index,\"D4\"]=diag_list_semi[3]\n",
    "                    diagnosis_df.at[row.Index,\"D5\"]=diag_list_semi[4]\n",
    "                    diagnosis_df.at[row.Index,\"D6\"]=diag_list_semi[5]\n",
    "    else:\n",
    "        diagnosis_df.at[row.Index,\"DIAGNOSIS\"] = 'NONE'\n",
    "        diagnosis_df.at[row.Index,\"D1\"]='NONE'\n",
    "        diagnosis_df.at[row.Index,\"D2\"]='NONE'\n",
    "        diagnosis_df.at[row.Index,\"D3\"]='NONE'\n",
    "        diagnosis_df.at[row.Index,\"D4\"]='NONE'\n",
    "        diagnosis_df.at[row.Index,\"D5\"]='NONE'\n",
    "        diagnosis_df.at[row.Index,\"D6\"]='NONE'"
   ]
  },
  {
   "cell_type": "code",
   "execution_count": 10,
   "metadata": {
    "scrolled": true
   },
   "outputs": [
    {
     "data": {
      "text/html": [
       "<div>\n",
       "<style scoped>\n",
       "    .dataframe tbody tr th:only-of-type {\n",
       "        vertical-align: middle;\n",
       "    }\n",
       "\n",
       "    .dataframe tbody tr th {\n",
       "        vertical-align: top;\n",
       "    }\n",
       "\n",
       "    .dataframe thead th {\n",
       "        text-align: right;\n",
       "    }\n",
       "</style>\n",
       "<table border=\"1\" class=\"dataframe\">\n",
       "  <thead>\n",
       "    <tr style=\"text-align: right;\">\n",
       "      <th></th>\n",
       "      <th>DIAGNOSIS</th>\n",
       "      <th>D1</th>\n",
       "      <th>D2</th>\n",
       "      <th>D3</th>\n",
       "      <th>D4</th>\n",
       "      <th>D5</th>\n",
       "      <th>D6</th>\n",
       "    </tr>\n",
       "  </thead>\n",
       "  <tbody>\n",
       "    <tr>\n",
       "      <th>0</th>\n",
       "      <td>BENZODIAZEPINE OVERDOSE</td>\n",
       "      <td>BENZODIAZEPINE OVERDOSE</td>\n",
       "      <td>BENZODIAZEPINE OVERDOSE</td>\n",
       "      <td>BENZODIAZEPINE OVERDOSE</td>\n",
       "      <td>BENZODIAZEPINE OVERDOSE</td>\n",
       "      <td>BENZODIAZEPINE OVERDOSE</td>\n",
       "      <td>BENZODIAZEPINE OVERDOSE</td>\n",
       "    </tr>\n",
       "    <tr>\n",
       "      <th>1</th>\n",
       "      <td>CORONARY ARTERY DISEASE\\CORONARY ARTERY BYPASS...</td>\n",
       "      <td>CORONARY ARTERY DISEASE</td>\n",
       "      <td>CORONARY ARTERY BYPASS GRAFT/SDA</td>\n",
       "      <td>CORONARY ARTERY BYPASS GRAFT/SDA</td>\n",
       "      <td>CORONARY ARTERY DISEASE</td>\n",
       "      <td>CORONARY ARTERY BYPASS GRAFT/SDA</td>\n",
       "      <td>CORONARY ARTERY DISEASE</td>\n",
       "    </tr>\n",
       "    <tr>\n",
       "      <th>2</th>\n",
       "      <td>BRAIN MASS</td>\n",
       "      <td>BRAIN MASS</td>\n",
       "      <td>BRAIN MASS</td>\n",
       "      <td>BRAIN MASS</td>\n",
       "      <td>BRAIN MASS</td>\n",
       "      <td>BRAIN MASS</td>\n",
       "      <td>BRAIN MASS</td>\n",
       "    </tr>\n",
       "    <tr>\n",
       "      <th>3</th>\n",
       "      <td>INTERIOR MYOCARDIAL INFARCTION</td>\n",
       "      <td>INTERIOR MYOCARDIAL INFARCTION</td>\n",
       "      <td>INTERIOR MYOCARDIAL INFARCTION</td>\n",
       "      <td>INTERIOR MYOCARDIAL INFARCTION</td>\n",
       "      <td>INTERIOR MYOCARDIAL INFARCTION</td>\n",
       "      <td>INTERIOR MYOCARDIAL INFARCTION</td>\n",
       "      <td>INTERIOR MYOCARDIAL INFARCTION</td>\n",
       "    </tr>\n",
       "    <tr>\n",
       "      <th>4</th>\n",
       "      <td>ACUTE CORONARY SYNDROME</td>\n",
       "      <td>ACUTE CORONARY SYNDROME</td>\n",
       "      <td>ACUTE CORONARY SYNDROME</td>\n",
       "      <td>ACUTE CORONARY SYNDROME</td>\n",
       "      <td>ACUTE CORONARY SYNDROME</td>\n",
       "      <td>ACUTE CORONARY SYNDROME</td>\n",
       "      <td>ACUTE CORONARY SYNDROME</td>\n",
       "    </tr>\n",
       "  </tbody>\n",
       "</table>\n",
       "</div>"
      ],
      "text/plain": [
       "                                           DIAGNOSIS  \\\n",
       "0                            BENZODIAZEPINE OVERDOSE   \n",
       "1  CORONARY ARTERY DISEASE\\CORONARY ARTERY BYPASS...   \n",
       "2                                         BRAIN MASS   \n",
       "3                     INTERIOR MYOCARDIAL INFARCTION   \n",
       "4                            ACUTE CORONARY SYNDROME   \n",
       "\n",
       "                               D1                                D2  \\\n",
       "0         BENZODIAZEPINE OVERDOSE           BENZODIAZEPINE OVERDOSE   \n",
       "1         CORONARY ARTERY DISEASE  CORONARY ARTERY BYPASS GRAFT/SDA   \n",
       "2                      BRAIN MASS                        BRAIN MASS   \n",
       "3  INTERIOR MYOCARDIAL INFARCTION    INTERIOR MYOCARDIAL INFARCTION   \n",
       "4         ACUTE CORONARY SYNDROME           ACUTE CORONARY SYNDROME   \n",
       "\n",
       "                                 D3                              D4  \\\n",
       "0           BENZODIAZEPINE OVERDOSE         BENZODIAZEPINE OVERDOSE   \n",
       "1  CORONARY ARTERY BYPASS GRAFT/SDA         CORONARY ARTERY DISEASE   \n",
       "2                        BRAIN MASS                      BRAIN MASS   \n",
       "3    INTERIOR MYOCARDIAL INFARCTION  INTERIOR MYOCARDIAL INFARCTION   \n",
       "4           ACUTE CORONARY SYNDROME         ACUTE CORONARY SYNDROME   \n",
       "\n",
       "                                 D5                              D6  \n",
       "0           BENZODIAZEPINE OVERDOSE         BENZODIAZEPINE OVERDOSE  \n",
       "1  CORONARY ARTERY BYPASS GRAFT/SDA         CORONARY ARTERY DISEASE  \n",
       "2                        BRAIN MASS                      BRAIN MASS  \n",
       "3    INTERIOR MYOCARDIAL INFARCTION  INTERIOR MYOCARDIAL INFARCTION  \n",
       "4           ACUTE CORONARY SYNDROME         ACUTE CORONARY SYNDROME  "
      ]
     },
     "execution_count": 10,
     "metadata": {},
     "output_type": "execute_result"
    }
   ],
   "source": [
    "diagnosis_df.head()"
   ]
  },
  {
   "cell_type": "markdown",
   "metadata": {},
   "source": [
    "## Get Patient vitals"
   ]
  },
  {
   "cell_type": "code",
   "execution_count": 12,
   "metadata": {},
   "outputs": [],
   "source": [
    "df_temperatures = pd.read_csv(\"./temps/temperatures_trunc.csv\",header=None)\n",
    "df_temperatures.rename(columns={0:\"SUBJECT_ID\",1:\"HADM_ID\",2:\"temperature_F\"},inplace=True)\n",
    "df_temperatures.drop_duplicates(subset=[\"SUBJECT_ID\",\"HADM_ID\"],inplace=True)\n",
    "df_temperatures[\"temperature_F\"] = df_temperatures[\"temperature_F\"].round(2)"
   ]
  },
  {
   "cell_type": "code",
   "execution_count": 13,
   "metadata": {},
   "outputs": [
    {
     "data": {
      "text/html": [
       "<div>\n",
       "<style scoped>\n",
       "    .dataframe tbody tr th:only-of-type {\n",
       "        vertical-align: middle;\n",
       "    }\n",
       "\n",
       "    .dataframe tbody tr th {\n",
       "        vertical-align: top;\n",
       "    }\n",
       "\n",
       "    .dataframe thead th {\n",
       "        text-align: right;\n",
       "    }\n",
       "</style>\n",
       "<table border=\"1\" class=\"dataframe\">\n",
       "  <thead>\n",
       "    <tr style=\"text-align: right;\">\n",
       "      <th></th>\n",
       "      <th>SUBJECT_ID</th>\n",
       "      <th>HADM_ID</th>\n",
       "      <th>temperature_F</th>\n",
       "    </tr>\n",
       "  </thead>\n",
       "  <tbody>\n",
       "    <tr>\n",
       "      <th>0</th>\n",
       "      <td>36</td>\n",
       "      <td>165660</td>\n",
       "      <td>97.3</td>\n",
       "    </tr>\n",
       "    <tr>\n",
       "      <th>1</th>\n",
       "      <td>34</td>\n",
       "      <td>144319</td>\n",
       "      <td>97.0</td>\n",
       "    </tr>\n",
       "    <tr>\n",
       "      <th>2</th>\n",
       "      <td>23</td>\n",
       "      <td>124321</td>\n",
       "      <td>98.4</td>\n",
       "    </tr>\n",
       "    <tr>\n",
       "      <th>31</th>\n",
       "      <td>85</td>\n",
       "      <td>112077</td>\n",
       "      <td>98.2</td>\n",
       "    </tr>\n",
       "    <tr>\n",
       "      <th>49</th>\n",
       "      <td>107</td>\n",
       "      <td>182383</td>\n",
       "      <td>97.6</td>\n",
       "    </tr>\n",
       "  </tbody>\n",
       "</table>\n",
       "</div>"
      ],
      "text/plain": [
       "    SUBJECT_ID  HADM_ID  temperature_F\n",
       "0           36   165660           97.3\n",
       "1           34   144319           97.0\n",
       "2           23   124321           98.4\n",
       "31          85   112077           98.2\n",
       "49         107   182383           97.6"
      ]
     },
     "execution_count": 13,
     "metadata": {},
     "output_type": "execute_result"
    }
   ],
   "source": [
    "df_temperatures.head()"
   ]
  },
  {
   "cell_type": "code",
   "execution_count": 14,
   "metadata": {},
   "outputs": [
    {
     "data": {
      "text/html": [
       "<div>\n",
       "<style scoped>\n",
       "    .dataframe tbody tr th:only-of-type {\n",
       "        vertical-align: middle;\n",
       "    }\n",
       "\n",
       "    .dataframe tbody tr th {\n",
       "        vertical-align: top;\n",
       "    }\n",
       "\n",
       "    .dataframe thead th {\n",
       "        text-align: right;\n",
       "    }\n",
       "</style>\n",
       "<table border=\"1\" class=\"dataframe\">\n",
       "  <thead>\n",
       "    <tr style=\"text-align: right;\">\n",
       "      <th></th>\n",
       "      <th>SUBJECT_ID</th>\n",
       "      <th>HADM_ID</th>\n",
       "      <th>heart_rate_bps</th>\n",
       "    </tr>\n",
       "  </thead>\n",
       "  <tbody>\n",
       "    <tr>\n",
       "      <th>0</th>\n",
       "      <td>36</td>\n",
       "      <td>165660</td>\n",
       "      <td>86.0</td>\n",
       "    </tr>\n",
       "    <tr>\n",
       "      <th>4</th>\n",
       "      <td>34</td>\n",
       "      <td>144319</td>\n",
       "      <td>44.0</td>\n",
       "    </tr>\n",
       "    <tr>\n",
       "      <th>6</th>\n",
       "      <td>23</td>\n",
       "      <td>124321</td>\n",
       "      <td>85.0</td>\n",
       "    </tr>\n",
       "    <tr>\n",
       "      <th>141</th>\n",
       "      <td>85</td>\n",
       "      <td>112077</td>\n",
       "      <td>100.0</td>\n",
       "    </tr>\n",
       "    <tr>\n",
       "      <th>213</th>\n",
       "      <td>107</td>\n",
       "      <td>182383</td>\n",
       "      <td>73.0</td>\n",
       "    </tr>\n",
       "  </tbody>\n",
       "</table>\n",
       "</div>"
      ],
      "text/plain": [
       "     SUBJECT_ID  HADM_ID  heart_rate_bps\n",
       "0            36   165660            86.0\n",
       "4            34   144319            44.0\n",
       "6            23   124321            85.0\n",
       "141          85   112077           100.0\n",
       "213         107   182383            73.0"
      ]
     },
     "execution_count": 14,
     "metadata": {},
     "output_type": "execute_result"
    }
   ],
   "source": [
    "df_heart_rate = pd.read_csv(\"./heart_rates/heart_rates_trunc.csv\",header=None)\n",
    "df_heart_rate.rename(columns={0:\"SUBJECT_ID\",1:\"HADM_ID\",2:\"heart_rate_bps\"},inplace=True)\n",
    "df_heart_rate.drop_duplicates(subset=[\"SUBJECT_ID\",\"HADM_ID\"],inplace=True)\n",
    "df_heart_rate.head()"
   ]
  },
  {
   "cell_type": "code",
   "execution_count": 25,
   "metadata": {},
   "outputs": [],
   "source": [
    "# information used to create a database connection\n",
    "sqluser = 'walter'\n",
    "dbname = 'mimic'\n",
    "schema_name = 'mimiciii'\n",
    "\n",
    "# Connect to postgres with a copy of the MIMIC-III database\n",
    "con = psycopg2.connect(host=\"localhost\",dbname=dbname, user=sqluser, password=\"walters\")\n",
    "\n",
    "\n",
    "# the below statement is prepended to queries to ensure they select from the right schema\n",
    "query_schema = 'set search_path to ' + schema_name + ';'"
   ]
  },
  {
   "cell_type": "code",
   "execution_count": 26,
   "metadata": {},
   "outputs": [],
   "source": [
    "query = query_schema + \"\"\"\n",
    "WITH co AS\n",
    "(\n",
    "SELECT adm.subject_id, adm.hadm_id\n",
    ", adm.admittime - pat.dob AS age\n",
    "FROM admissions adm\n",
    "INNER JOIN patients pat\n",
    "  ON adm.subject_id = pat.subject_id\n",
    ")\n",
    "SELECT\n",
    "  co.subject_id, co.hadm_id, co.age\n",
    "  , EXTRACT('year' FROM co.age) as age_extract_year \n",
    "  , EXTRACT('year' FROM co.age) \n",
    "    + EXTRACT('months' FROM co.age) / 12.0\n",
    "    + EXTRACT('days' FROM co.age) / 365.242\n",
    "    + EXTRACT('hours' FROM co.age) / 24.0 / 364.242\n",
    "    as age_extract_precise\n",
    "  , EXTRACT('epoch' from co.age) / 60.0 / 60.0 / 24.0 / 365.242 as age_extract_epoch\n",
    "FROM co\n",
    "\"\"\"\n",
    "df_ages = pd.read_sql_query(query, con)\n"
   ]
  },
  {
   "cell_type": "code",
   "execution_count": 27,
   "metadata": {},
   "outputs": [],
   "source": [
    "df_ages.drop(columns=[\"age\",\"age_extract_year\",\"age_extract_epoch\"],inplace=True)\n",
    "df_ages.rename(columns={\"subject_id\":\"SUBJECT_ID\",\"hadm_id\":\"HADM_ID\"},inplace=True)"
   ]
  },
  {
   "cell_type": "code",
   "execution_count": 28,
   "metadata": {},
   "outputs": [
    {
     "data": {
      "text/html": [
       "<div>\n",
       "<style scoped>\n",
       "    .dataframe tbody tr th:only-of-type {\n",
       "        vertical-align: middle;\n",
       "    }\n",
       "\n",
       "    .dataframe tbody tr th {\n",
       "        vertical-align: top;\n",
       "    }\n",
       "\n",
       "    .dataframe thead th {\n",
       "        text-align: right;\n",
       "    }\n",
       "</style>\n",
       "<table border=\"1\" class=\"dataframe\">\n",
       "  <thead>\n",
       "    <tr style=\"text-align: right;\">\n",
       "      <th></th>\n",
       "      <th>SUBJECT_ID</th>\n",
       "      <th>HADM_ID</th>\n",
       "      <th>age_extract_precise</th>\n",
       "    </tr>\n",
       "  </thead>\n",
       "  <tbody>\n",
       "    <tr>\n",
       "      <th>0</th>\n",
       "      <td>22</td>\n",
       "      <td>165315</td>\n",
       "      <td>64.928188</td>\n",
       "    </tr>\n",
       "    <tr>\n",
       "      <th>1</th>\n",
       "      <td>23</td>\n",
       "      <td>152223</td>\n",
       "      <td>71.131722</td>\n",
       "    </tr>\n",
       "    <tr>\n",
       "      <th>2</th>\n",
       "      <td>23</td>\n",
       "      <td>124321</td>\n",
       "      <td>75.256388</td>\n",
       "    </tr>\n",
       "    <tr>\n",
       "      <th>3</th>\n",
       "      <td>24</td>\n",
       "      <td>161859</td>\n",
       "      <td>39.017059</td>\n",
       "    </tr>\n",
       "    <tr>\n",
       "      <th>4</th>\n",
       "      <td>25</td>\n",
       "      <td>129635</td>\n",
       "      <td>58.950185</td>\n",
       "    </tr>\n",
       "  </tbody>\n",
       "</table>\n",
       "</div>"
      ],
      "text/plain": [
       "   SUBJECT_ID  HADM_ID  age_extract_precise\n",
       "0          22   165315            64.928188\n",
       "1          23   152223            71.131722\n",
       "2          23   124321            75.256388\n",
       "3          24   161859            39.017059\n",
       "4          25   129635            58.950185"
      ]
     },
     "execution_count": 28,
     "metadata": {},
     "output_type": "execute_result"
    }
   ],
   "source": [
    "df_ages.head()"
   ]
  },
  {
   "cell_type": "code",
   "execution_count": 29,
   "metadata": {},
   "outputs": [
    {
     "data": {
      "image/png": "[encoded data removed]",
      "text/plain": [
       "<Figure size 432x288 with 1 Axes>"
      ]
     },
     "metadata": {
      "needs_background": "light"
     },
     "output_type": "display_data"
    }
   ],
   "source": [
    "df_ages[\"age_extract_precise\"].hist();"
   ]
  },
  {
   "cell_type": "code",
   "execution_count": 22,
   "metadata": {},
   "outputs": [],
   "source": [
    "#use this line later to drop ages\n",
    "#df_ages = df_ages[df_ages.age_extract_precise < 300.0]"
   ]
  },
  {
   "cell_type": "markdown",
   "metadata": {},
   "source": [
    "### ADD AGES, TEMPERATURE, AND HEART RATE TO ADMISSIONS TABLE"
   ]
  },
  {
   "cell_type": "code",
   "execution_count": 31,
   "metadata": {},
   "outputs": [
    {
     "data": {
      "text/plain": [
       "(58976, 19)"
      ]
     },
     "execution_count": 31,
     "metadata": {},
     "output_type": "execute_result"
    }
   ],
   "source": [
    "admissions_copy = ADMISSIONS_df.copy()\n",
    "admissions_copy.shape"
   ]
  },
  {
   "cell_type": "code",
   "execution_count": 32,
   "metadata": {},
   "outputs": [],
   "source": [
    "admissions_copy = pd.merge(admissions_copy,df_ages,how='left',on=[\"SUBJECT_ID\",\"HADM_ID\"])\n",
    "admissions_copy = pd.merge(admissions_copy,df_heart_rate,how='left',on=[\"SUBJECT_ID\",\"HADM_ID\"])\n",
    "admissions_copy = pd.merge(admissions_copy,df_temperatures,how='left',on=[\"SUBJECT_ID\",\"HADM_ID\"])"
   ]
  },
  {
   "cell_type": "code",
   "execution_count": 33,
   "metadata": {},
   "outputs": [
    {
     "data": {
      "text/plain": [
       "(58976, 22)"
      ]
     },
     "execution_count": 33,
     "metadata": {},
     "output_type": "execute_result"
    }
   ],
   "source": [
    "admissions_copy.shape"
   ]
  },
  {
   "cell_type": "code",
   "execution_count": 34,
   "metadata": {},
   "outputs": [],
   "source": [
    "admissions_copy[\"ETHNICITY\"] = ethnicity_df"
   ]
  },
  {
   "cell_type": "markdown",
   "metadata": {},
   "source": [
    "## ADD DIAGNOSES"
   ]
  },
  {
   "cell_type": "code",
   "execution_count": 35,
   "metadata": {},
   "outputs": [],
   "source": [
    "admission_copy = pd.concat([admissions_copy,diagnosis_df[[\"D1\",\"D2\",\"D3\",\"D4\",\"D5\",\"D6\"]]],axis=1)"
   ]
  },
  {
   "cell_type": "code",
   "execution_count": 36,
   "metadata": {},
   "outputs": [],
   "source": [
    "from sklearn.preprocessing import LabelBinarizer"
   ]
  },
  {
   "cell_type": "code",
   "execution_count": 37,
   "metadata": {},
   "outputs": [],
   "source": [
    "#admission type\n",
    "lb_style = LabelBinarizer()\n",
    "lb_adm_type = lb_style.fit_transform(ADMISSIONS_df[\"ADMISSION_TYPE\"])\n",
    "adm_type = pd.DataFrame(lb_adm_type, columns=lb_style.classes_)\n",
    "#admission location\n",
    "lb_style = LabelBinarizer()\n",
    "lb_adm_loc = lb_style.fit_transform(ADMISSIONS_df[\"ADMISSION_LOCATION\"])\n",
    "adm_loc = pd.DataFrame(lb_adm_loc, columns=lb_style.classes_)\n",
    "#ethnicity\n",
    "lb_style = LabelBinarizer()\n",
    "lb_race = lb_style.fit_transform(ethnicity_df)\n",
    "race = pd.DataFrame(lb_race, columns=lb_style.classes_)\n",
    "#diagnosis\n",
    "lb_style = LabelBinarizer()\n",
    "lb_d1 = lb_style.fit_transform(diagnosis_df[\"D1\"])\n",
    "d1 =  pd.DataFrame(lb_d1, columns=lb_style.classes_)\n",
    "#diagnosis\n",
    "#lb_style = LabelBinarizer()\n",
    "#lb_d2 = lb_style.fit_transform(diagnosis_df[\"D2\"])\n",
    "#d2 =  pd.DataFrame(lb_d2, columns=lb_style.classes_)\n",
    "#diagnosis\n",
    "#lb_style = LabelBinarizer()\n",
    "#lb_d3 = lb_style.fit_transform(diagnosis_df[\"D3\"])\n",
    "#d3 =  pd.DataFrame(lb_d3, columns=lb_style.classes_)\n",
    "#diagnosis\n",
    "#lb_style = LabelBinarizer()\n",
    "#lb_d4 = lb_style.fit_transform(diagnosis_df[\"D4\"])\n",
    "#d4 =  pd.DataFrame(lb_d4, columns=lb_style.classes_)\n",
    "#diagnosis\n",
    "#lb_style = LabelBinarizer()\n",
    "#lb_d5 = lb_style.fit_transform(diagnosis_df[\"D5\"])\n",
    "#d5 =  pd.DataFrame(lb_d5, columns=lb_style.classes_)\n",
    "#diagnosis\n",
    "#lb_style = LabelBinarizer()\n",
    "#lb_d6 = lb_style.fit_transform(diagnosis_df[\"D6\"])\n",
    "#d6 =  pd.DataFrame(lb_d6, columns=lb_style.classes_)"
   ]
  },
  {
   "cell_type": "markdown",
   "metadata": {},
   "source": [
    "## Calculate length of stay"
   ]
  },
  {
   "cell_type": "code",
   "execution_count": 38,
   "metadata": {},
   "outputs": [],
   "source": [
    "admissions_copy.insert(5,\"LOS\",0)"
   ]
  },
  {
   "cell_type": "code",
   "execution_count": 39,
   "metadata": {},
   "outputs": [],
   "source": [
    "admissions_copy[\"ADMITTIME\"] = pd.to_datetime(admissions_copy[\"ADMITTIME\"])\n",
    "admissions_copy[\"DISCHTIME\"] = pd.to_datetime(admissions_copy[\"DISCHTIME\"])\n",
    "admissions_copy[\"LOS\"] = admissions_copy[\"DISCHTIME\"] - admissions_copy[\"ADMITTIME\"]\n",
    "admissions_copy[\"LOS\"]=admissions_copy[\"LOS\"].dt.total_seconds()/datetime.timedelta(days=1).total_seconds()"
   ]
  },
  {
   "cell_type": "code",
   "execution_count": 40,
   "metadata": {},
   "outputs": [
    {
     "data": {
      "text/html": [
       "<div>\n",
       "<style scoped>\n",
       "    .dataframe tbody tr th:only-of-type {\n",
       "        vertical-align: middle;\n",
       "    }\n",
       "\n",
       "    .dataframe tbody tr th {\n",
       "        vertical-align: top;\n",
       "    }\n",
       "\n",
       "    .dataframe thead th {\n",
       "        text-align: right;\n",
       "    }\n",
       "</style>\n",
       "<table border=\"1\" class=\"dataframe\">\n",
       "  <thead>\n",
       "    <tr style=\"text-align: right;\">\n",
       "      <th></th>\n",
       "      <th>ROW_ID</th>\n",
       "      <th>SUBJECT_ID</th>\n",
       "      <th>HADM_ID</th>\n",
       "      <th>ADMITTIME</th>\n",
       "      <th>DISCHTIME</th>\n",
       "      <th>LOS</th>\n",
       "      <th>DEATHTIME</th>\n",
       "      <th>ADMISSION_TYPE</th>\n",
       "      <th>ADMISSION_LOCATION</th>\n",
       "      <th>DISCHARGE_LOCATION</th>\n",
       "      <th>...</th>\n",
       "      <th>MARITAL_STATUS</th>\n",
       "      <th>ETHNICITY</th>\n",
       "      <th>EDREGTIME</th>\n",
       "      <th>EDOUTTIME</th>\n",
       "      <th>DIAGNOSIS</th>\n",
       "      <th>HOSPITAL_EXPIRE_FLAG</th>\n",
       "      <th>HAS_CHARTEVENTS_DATA</th>\n",
       "      <th>age_extract_precise</th>\n",
       "      <th>heart_rate_bps</th>\n",
       "      <th>temperature_F</th>\n",
       "    </tr>\n",
       "  </thead>\n",
       "  <tbody>\n",
       "    <tr>\n",
       "      <th>0</th>\n",
       "      <td>21</td>\n",
       "      <td>22</td>\n",
       "      <td>165315</td>\n",
       "      <td>2196-04-09 12:26:00</td>\n",
       "      <td>2196-04-10 15:54:00</td>\n",
       "      <td>1.144444</td>\n",
       "      <td>NaN</td>\n",
       "      <td>EMERGENCY</td>\n",
       "      <td>EMERGENCY ROOM ADMIT</td>\n",
       "      <td>DISC-TRAN CANCER/CHLDRN H</td>\n",
       "      <td>...</td>\n",
       "      <td>MARRIED</td>\n",
       "      <td>WHITE</td>\n",
       "      <td>2196-04-09 10:06:00</td>\n",
       "      <td>2196-04-09 13:24:00</td>\n",
       "      <td>BENZODIAZEPINE OVERDOSE</td>\n",
       "      <td>0</td>\n",
       "      <td>1</td>\n",
       "      <td>64.928188</td>\n",
       "      <td>116.0</td>\n",
       "      <td>98.5</td>\n",
       "    </tr>\n",
       "    <tr>\n",
       "      <th>1</th>\n",
       "      <td>22</td>\n",
       "      <td>23</td>\n",
       "      <td>152223</td>\n",
       "      <td>2153-09-03 07:15:00</td>\n",
       "      <td>2153-09-08 19:10:00</td>\n",
       "      <td>5.496528</td>\n",
       "      <td>NaN</td>\n",
       "      <td>ELECTIVE</td>\n",
       "      <td>PHYS REFERRAL/NORMAL DELI</td>\n",
       "      <td>HOME HEALTH CARE</td>\n",
       "      <td>...</td>\n",
       "      <td>MARRIED</td>\n",
       "      <td>WHITE</td>\n",
       "      <td>NaN</td>\n",
       "      <td>NaN</td>\n",
       "      <td>CORONARY ARTERY DISEASE\\CORONARY ARTERY BYPASS...</td>\n",
       "      <td>0</td>\n",
       "      <td>1</td>\n",
       "      <td>71.131722</td>\n",
       "      <td>94.0</td>\n",
       "      <td>98.1</td>\n",
       "    </tr>\n",
       "    <tr>\n",
       "      <th>2</th>\n",
       "      <td>23</td>\n",
       "      <td>23</td>\n",
       "      <td>124321</td>\n",
       "      <td>2157-10-18 19:34:00</td>\n",
       "      <td>2157-10-25 14:00:00</td>\n",
       "      <td>6.768056</td>\n",
       "      <td>NaN</td>\n",
       "      <td>EMERGENCY</td>\n",
       "      <td>TRANSFER FROM HOSP/EXTRAM</td>\n",
       "      <td>HOME HEALTH CARE</td>\n",
       "      <td>...</td>\n",
       "      <td>MARRIED</td>\n",
       "      <td>WHITE</td>\n",
       "      <td>NaN</td>\n",
       "      <td>NaN</td>\n",
       "      <td>BRAIN MASS</td>\n",
       "      <td>0</td>\n",
       "      <td>1</td>\n",
       "      <td>75.256388</td>\n",
       "      <td>85.0</td>\n",
       "      <td>98.4</td>\n",
       "    </tr>\n",
       "    <tr>\n",
       "      <th>3</th>\n",
       "      <td>24</td>\n",
       "      <td>24</td>\n",
       "      <td>161859</td>\n",
       "      <td>2139-06-06 16:14:00</td>\n",
       "      <td>2139-06-09 12:48:00</td>\n",
       "      <td>2.856944</td>\n",
       "      <td>NaN</td>\n",
       "      <td>EMERGENCY</td>\n",
       "      <td>TRANSFER FROM HOSP/EXTRAM</td>\n",
       "      <td>HOME</td>\n",
       "      <td>...</td>\n",
       "      <td>SINGLE</td>\n",
       "      <td>WHITE</td>\n",
       "      <td>NaN</td>\n",
       "      <td>NaN</td>\n",
       "      <td>INTERIOR MYOCARDIAL INFARCTION</td>\n",
       "      <td>0</td>\n",
       "      <td>1</td>\n",
       "      <td>39.017059</td>\n",
       "      <td>NaN</td>\n",
       "      <td>97.6</td>\n",
       "    </tr>\n",
       "    <tr>\n",
       "      <th>4</th>\n",
       "      <td>25</td>\n",
       "      <td>25</td>\n",
       "      <td>129635</td>\n",
       "      <td>2160-11-02 02:06:00</td>\n",
       "      <td>2160-11-05 14:55:00</td>\n",
       "      <td>3.534028</td>\n",
       "      <td>NaN</td>\n",
       "      <td>EMERGENCY</td>\n",
       "      <td>EMERGENCY ROOM ADMIT</td>\n",
       "      <td>HOME</td>\n",
       "      <td>...</td>\n",
       "      <td>MARRIED</td>\n",
       "      <td>WHITE</td>\n",
       "      <td>2160-11-02 01:01:00</td>\n",
       "      <td>2160-11-02 04:27:00</td>\n",
       "      <td>ACUTE CORONARY SYNDROME</td>\n",
       "      <td>0</td>\n",
       "      <td>1</td>\n",
       "      <td>58.950185</td>\n",
       "      <td>70.0</td>\n",
       "      <td>97.0</td>\n",
       "    </tr>\n",
       "  </tbody>\n",
       "</table>\n",
       "<p>5 rows × 23 columns</p>\n",
       "</div>"
      ],
      "text/plain": [
       "   ROW_ID  SUBJECT_ID  HADM_ID           ADMITTIME           DISCHTIME  \\\n",
       "0      21          22   165315 2196-04-09 12:26:00 2196-04-10 15:54:00   \n",
       "1      22          23   152223 2153-09-03 07:15:00 2153-09-08 19:10:00   \n",
       "2      23          23   124321 2157-10-18 19:34:00 2157-10-25 14:00:00   \n",
       "3      24          24   161859 2139-06-06 16:14:00 2139-06-09 12:48:00   \n",
       "4      25          25   129635 2160-11-02 02:06:00 2160-11-05 14:55:00   \n",
       "\n",
       "        LOS DEATHTIME ADMISSION_TYPE         ADMISSION_LOCATION  \\\n",
       "0  1.144444       NaN      EMERGENCY       EMERGENCY ROOM ADMIT   \n",
       "1  5.496528       NaN       ELECTIVE  PHYS REFERRAL/NORMAL DELI   \n",
       "2  6.768056       NaN      EMERGENCY  TRANSFER FROM HOSP/EXTRAM   \n",
       "3  2.856944       NaN      EMERGENCY  TRANSFER FROM HOSP/EXTRAM   \n",
       "4  3.534028       NaN      EMERGENCY       EMERGENCY ROOM ADMIT   \n",
       "\n",
       "          DISCHARGE_LOCATION  ... MARITAL_STATUS ETHNICITY  \\\n",
       "0  DISC-TRAN CANCER/CHLDRN H  ...        MARRIED     WHITE   \n",
       "1           HOME HEALTH CARE  ...        MARRIED     WHITE   \n",
       "2           HOME HEALTH CARE  ...        MARRIED     WHITE   \n",
       "3                       HOME  ...         SINGLE     WHITE   \n",
       "4                       HOME  ...        MARRIED     WHITE   \n",
       "\n",
       "             EDREGTIME            EDOUTTIME  \\\n",
       "0  2196-04-09 10:06:00  2196-04-09 13:24:00   \n",
       "1                  NaN                  NaN   \n",
       "2                  NaN                  NaN   \n",
       "3                  NaN                  NaN   \n",
       "4  2160-11-02 01:01:00  2160-11-02 04:27:00   \n",
       "\n",
       "                                           DIAGNOSIS HOSPITAL_EXPIRE_FLAG  \\\n",
       "0                            BENZODIAZEPINE OVERDOSE                    0   \n",
       "1  CORONARY ARTERY DISEASE\\CORONARY ARTERY BYPASS...                    0   \n",
       "2                                         BRAIN MASS                    0   \n",
       "3                     INTERIOR MYOCARDIAL INFARCTION                    0   \n",
       "4                            ACUTE CORONARY SYNDROME                    0   \n",
       "\n",
       "  HAS_CHARTEVENTS_DATA age_extract_precise  heart_rate_bps  temperature_F  \n",
       "0                    1           64.928188           116.0           98.5  \n",
       "1                    1           71.131722            94.0           98.1  \n",
       "2                    1           75.256388            85.0           98.4  \n",
       "3                    1           39.017059             NaN           97.6  \n",
       "4                    1           58.950185            70.0           97.0  \n",
       "\n",
       "[5 rows x 23 columns]"
      ]
     },
     "execution_count": 40,
     "metadata": {},
     "output_type": "execute_result"
    }
   ],
   "source": [
    "admissions_copy.head()"
   ]
  },
  {
   "cell_type": "markdown",
   "metadata": {},
   "source": [
    "## Add preliminary diagnoses"
   ]
  },
  {
   "cell_type": "code",
   "execution_count": 41,
   "metadata": {},
   "outputs": [
    {
     "data": {
      "text/html": [
       "<div>\n",
       "<style scoped>\n",
       "    .dataframe tbody tr th:only-of-type {\n",
       "        vertical-align: middle;\n",
       "    }\n",
       "\n",
       "    .dataframe tbody tr th {\n",
       "        vertical-align: top;\n",
       "    }\n",
       "\n",
       "    .dataframe thead th {\n",
       "        text-align: right;\n",
       "    }\n",
       "</style>\n",
       "<table border=\"1\" class=\"dataframe\">\n",
       "  <thead>\n",
       "    <tr style=\"text-align: right;\">\n",
       "      <th></th>\n",
       "      <th>SEPSIS</th>\n",
       "      <th>PNEUMONIA</th>\n",
       "      <th>FEVER</th>\n",
       "      <th>CONGESTIVE HEART FAILURE</th>\n",
       "      <th>HYPOTENSION</th>\n",
       "      <th>ABDOMINAL PAIN</th>\n",
       "      <th>ALTERED MENTAL STATUS</th>\n",
       "      <th>COLITIS</th>\n",
       "      <th>PANCREATITIS</th>\n",
       "      <th>UPPER GI BLEED</th>\n",
       "      <th>...</th>\n",
       "      <th>HYPERKALEMIA</th>\n",
       "      <th>BOWEL OBSTRUCTION</th>\n",
       "      <th>CELLULITIS</th>\n",
       "      <th>RENAL FAILURE</th>\n",
       "      <th>CHOLECYSTITIS</th>\n",
       "      <th>LIVER FAILURE</th>\n",
       "      <th>BLUNT TRAUMA</th>\n",
       "      <th>ABDOMINAL AORTIC ANEURYSM</th>\n",
       "      <th>PANCREATIC MASS/SDA</th>\n",
       "      <th>ACUTE LEUKEMIA</th>\n",
       "    </tr>\n",
       "  </thead>\n",
       "  <tbody>\n",
       "    <tr>\n",
       "      <th>0</th>\n",
       "      <td>0</td>\n",
       "      <td>0</td>\n",
       "      <td>0</td>\n",
       "      <td>0</td>\n",
       "      <td>0</td>\n",
       "      <td>0</td>\n",
       "      <td>0</td>\n",
       "      <td>0</td>\n",
       "      <td>0</td>\n",
       "      <td>0</td>\n",
       "      <td>...</td>\n",
       "      <td>0</td>\n",
       "      <td>0</td>\n",
       "      <td>0</td>\n",
       "      <td>0</td>\n",
       "      <td>0</td>\n",
       "      <td>0</td>\n",
       "      <td>0</td>\n",
       "      <td>0</td>\n",
       "      <td>0</td>\n",
       "      <td>0</td>\n",
       "    </tr>\n",
       "    <tr>\n",
       "      <th>1</th>\n",
       "      <td>0</td>\n",
       "      <td>0</td>\n",
       "      <td>0</td>\n",
       "      <td>0</td>\n",
       "      <td>0</td>\n",
       "      <td>0</td>\n",
       "      <td>0</td>\n",
       "      <td>0</td>\n",
       "      <td>0</td>\n",
       "      <td>0</td>\n",
       "      <td>...</td>\n",
       "      <td>0</td>\n",
       "      <td>0</td>\n",
       "      <td>0</td>\n",
       "      <td>0</td>\n",
       "      <td>0</td>\n",
       "      <td>0</td>\n",
       "      <td>0</td>\n",
       "      <td>0</td>\n",
       "      <td>0</td>\n",
       "      <td>0</td>\n",
       "    </tr>\n",
       "    <tr>\n",
       "      <th>2</th>\n",
       "      <td>0</td>\n",
       "      <td>0</td>\n",
       "      <td>0</td>\n",
       "      <td>0</td>\n",
       "      <td>0</td>\n",
       "      <td>0</td>\n",
       "      <td>0</td>\n",
       "      <td>0</td>\n",
       "      <td>0</td>\n",
       "      <td>0</td>\n",
       "      <td>...</td>\n",
       "      <td>0</td>\n",
       "      <td>0</td>\n",
       "      <td>0</td>\n",
       "      <td>0</td>\n",
       "      <td>0</td>\n",
       "      <td>0</td>\n",
       "      <td>0</td>\n",
       "      <td>0</td>\n",
       "      <td>0</td>\n",
       "      <td>0</td>\n",
       "    </tr>\n",
       "    <tr>\n",
       "      <th>3</th>\n",
       "      <td>0</td>\n",
       "      <td>0</td>\n",
       "      <td>0</td>\n",
       "      <td>0</td>\n",
       "      <td>0</td>\n",
       "      <td>0</td>\n",
       "      <td>0</td>\n",
       "      <td>0</td>\n",
       "      <td>0</td>\n",
       "      <td>0</td>\n",
       "      <td>...</td>\n",
       "      <td>0</td>\n",
       "      <td>0</td>\n",
       "      <td>0</td>\n",
       "      <td>0</td>\n",
       "      <td>0</td>\n",
       "      <td>0</td>\n",
       "      <td>0</td>\n",
       "      <td>0</td>\n",
       "      <td>0</td>\n",
       "      <td>0</td>\n",
       "    </tr>\n",
       "    <tr>\n",
       "      <th>4</th>\n",
       "      <td>0</td>\n",
       "      <td>0</td>\n",
       "      <td>0</td>\n",
       "      <td>0</td>\n",
       "      <td>0</td>\n",
       "      <td>0</td>\n",
       "      <td>0</td>\n",
       "      <td>0</td>\n",
       "      <td>0</td>\n",
       "      <td>0</td>\n",
       "      <td>...</td>\n",
       "      <td>0</td>\n",
       "      <td>0</td>\n",
       "      <td>0</td>\n",
       "      <td>0</td>\n",
       "      <td>0</td>\n",
       "      <td>0</td>\n",
       "      <td>0</td>\n",
       "      <td>0</td>\n",
       "      <td>0</td>\n",
       "      <td>0</td>\n",
       "    </tr>\n",
       "  </tbody>\n",
       "</table>\n",
       "<p>5 rows × 49 columns</p>\n",
       "</div>"
      ],
      "text/plain": [
       "   SEPSIS  PNEUMONIA  FEVER  CONGESTIVE HEART FAILURE  HYPOTENSION  \\\n",
       "0       0          0      0                         0            0   \n",
       "1       0          0      0                         0            0   \n",
       "2       0          0      0                         0            0   \n",
       "3       0          0      0                         0            0   \n",
       "4       0          0      0                         0            0   \n",
       "\n",
       "   ABDOMINAL PAIN  ALTERED MENTAL STATUS  COLITIS  PANCREATITIS  \\\n",
       "0               0                      0        0             0   \n",
       "1               0                      0        0             0   \n",
       "2               0                      0        0             0   \n",
       "3               0                      0        0             0   \n",
       "4               0                      0        0             0   \n",
       "\n",
       "   UPPER GI BLEED  ...  HYPERKALEMIA  BOWEL OBSTRUCTION  CELLULITIS  \\\n",
       "0               0  ...             0                  0           0   \n",
       "1               0  ...             0                  0           0   \n",
       "2               0  ...             0                  0           0   \n",
       "3               0  ...             0                  0           0   \n",
       "4               0  ...             0                  0           0   \n",
       "\n",
       "   RENAL FAILURE  CHOLECYSTITIS  LIVER FAILURE  BLUNT TRAUMA  \\\n",
       "0              0              0              0             0   \n",
       "1              0              0              0             0   \n",
       "2              0              0              0             0   \n",
       "3              0              0              0             0   \n",
       "4              0              0              0             0   \n",
       "\n",
       "   ABDOMINAL AORTIC ANEURYSM  PANCREATIC MASS/SDA  ACUTE LEUKEMIA  \n",
       "0                          0                    0               0  \n",
       "1                          0                    0               0  \n",
       "2                          0                    0               0  \n",
       "3                          0                    0               0  \n",
       "4                          0                    0               0  \n",
       "\n",
       "[5 rows x 49 columns]"
      ]
     },
     "execution_count": 41,
     "metadata": {},
     "output_type": "execute_result"
    }
   ],
   "source": [
    "cdiff_pos_diagnosis=pd.read_csv(\"./data/cdiff_pos_trunc.csv\",header=None)\n",
    "cdiff_pos_diagnosis_list = cdiff_pos_diagnosis[0].tolist()\n",
    "cdiff_pos_diagnosis_df = d1[cdiff_pos_diagnosis_list]\n",
    "cdiff_pos_diagnosis_df.head()"
   ]
  },
  {
   "cell_type": "code",
   "execution_count": 50,
   "metadata": {},
   "outputs": [],
   "source": [
    "admissions_diagnosis_df = pd.concat([admissions_copy[[\"SUBJECT_ID\",\"HADM_ID\",\"LOS\"]],adm_type,adm_loc,race,admissions_copy[[\"age_extract_precise\",\"heart_rate_bps\",\"temperature_F\"]],cdiff_pos_diagnosis_df],axis=1)"
   ]
  },
  {
   "cell_type": "markdown",
   "metadata": {},
   "source": [
    "## REMOVE NEWBORNS"
   ]
  },
  {
   "cell_type": "code",
   "execution_count": 51,
   "metadata": {},
   "outputs": [],
   "source": [
    "admissions_diagnosis_newborn_df = admissions_diagnosis_df[admissions_diagnosis_df.NEWBORN != 1]"
   ]
  },
  {
   "cell_type": "markdown",
   "metadata": {},
   "source": [
    "## FIX AGES"
   ]
  },
  {
   "cell_type": "code",
   "execution_count": 52,
   "metadata": {},
   "outputs": [
    {
     "data": {
      "image/png": "[encoded data removed]",
      "text/plain": [
       "<Figure size 432x288 with 1 Axes>"
      ]
     },
     "metadata": {
      "needs_background": "light"
     },
     "output_type": "display_data"
    }
   ],
   "source": [
    "admissions_diagnosis_newborn_df[\"age_extract_precise\"].hist();"
   ]
  },
  {
   "cell_type": "code",
   "execution_count": 53,
   "metadata": {},
   "outputs": [],
   "source": [
    "#use this to drop ages corresponding to organ donors\n",
    "admissions_diagnosis_newborn_df = admissions_diagnosis_newborn_df[admissions_diagnosis_newborn_df.age_extract_precise < 300.0]"
   ]
  },
  {
   "cell_type": "code",
   "execution_count": 54,
   "metadata": {},
   "outputs": [
    {
     "data": {
      "image/png": "[encoded data removed]",
      "text/plain": [
       "<Figure size 432x288 with 1 Axes>"
      ]
     },
     "metadata": {
      "needs_background": "light"
     },
     "output_type": "display_data"
    }
   ],
   "source": [
    "admissions_diagnosis_newborn_df[\"age_extract_precise\"].hist();"
   ]
  },
  {
   "cell_type": "code",
   "execution_count": 65,
   "metadata": {},
   "outputs": [],
   "source": [
    "for i in admissions_diagnosis_newborn_df[\"age_extract_precise\"]:\n",
    "    if np.isnan(i):\n",
    "        print(i)\n",
    "    elif i is None:\n",
    "        print(i)"
   ]
  },
  {
   "cell_type": "code",
   "execution_count": 68,
   "metadata": {},
   "outputs": [
    {
     "data": {
      "text/html": [
       "<div>\n",
       "<style scoped>\n",
       "    .dataframe tbody tr th:only-of-type {\n",
       "        vertical-align: middle;\n",
       "    }\n",
       "\n",
       "    .dataframe tbody tr th {\n",
       "        vertical-align: top;\n",
       "    }\n",
       "\n",
       "    .dataframe thead th {\n",
       "        text-align: right;\n",
       "    }\n",
       "</style>\n",
       "<table border=\"1\" class=\"dataframe\">\n",
       "  <thead>\n",
       "    <tr style=\"text-align: right;\">\n",
       "      <th></th>\n",
       "      <th>SUBJECT_ID</th>\n",
       "      <th>HADM_ID</th>\n",
       "      <th>LOS</th>\n",
       "      <th>ELECTIVE</th>\n",
       "      <th>EMERGENCY</th>\n",
       "      <th>NEWBORN</th>\n",
       "      <th>URGENT</th>\n",
       "      <th>** INFO NOT AVAILABLE **</th>\n",
       "      <th>CLINIC REFERRAL/PREMATURE</th>\n",
       "      <th>EMERGENCY ROOM ADMIT</th>\n",
       "      <th>...</th>\n",
       "      <th>HYPERKALEMIA</th>\n",
       "      <th>BOWEL OBSTRUCTION</th>\n",
       "      <th>CELLULITIS</th>\n",
       "      <th>RENAL FAILURE</th>\n",
       "      <th>CHOLECYSTITIS</th>\n",
       "      <th>LIVER FAILURE</th>\n",
       "      <th>BLUNT TRAUMA</th>\n",
       "      <th>ABDOMINAL AORTIC ANEURYSM</th>\n",
       "      <th>PANCREATIC MASS/SDA</th>\n",
       "      <th>ACUTE LEUKEMIA</th>\n",
       "    </tr>\n",
       "  </thead>\n",
       "  <tbody>\n",
       "    <tr>\n",
       "      <th>58971</th>\n",
       "      <td>98800</td>\n",
       "      <td>191113</td>\n",
       "      <td>2.742361</td>\n",
       "      <td>0</td>\n",
       "      <td>1</td>\n",
       "      <td>0</td>\n",
       "      <td>0</td>\n",
       "      <td>0</td>\n",
       "      <td>1</td>\n",
       "      <td>0</td>\n",
       "      <td>...</td>\n",
       "      <td>0</td>\n",
       "      <td>0</td>\n",
       "      <td>0</td>\n",
       "      <td>0</td>\n",
       "      <td>0</td>\n",
       "      <td>0</td>\n",
       "      <td>0</td>\n",
       "      <td>0</td>\n",
       "      <td>0</td>\n",
       "      <td>0</td>\n",
       "    </tr>\n",
       "    <tr>\n",
       "      <th>58972</th>\n",
       "      <td>98802</td>\n",
       "      <td>101071</td>\n",
       "      <td>0.548611</td>\n",
       "      <td>0</td>\n",
       "      <td>1</td>\n",
       "      <td>0</td>\n",
       "      <td>0</td>\n",
       "      <td>0</td>\n",
       "      <td>1</td>\n",
       "      <td>0</td>\n",
       "      <td>...</td>\n",
       "      <td>0</td>\n",
       "      <td>0</td>\n",
       "      <td>0</td>\n",
       "      <td>0</td>\n",
       "      <td>0</td>\n",
       "      <td>0</td>\n",
       "      <td>0</td>\n",
       "      <td>0</td>\n",
       "      <td>0</td>\n",
       "      <td>0</td>\n",
       "    </tr>\n",
       "    <tr>\n",
       "      <th>58973</th>\n",
       "      <td>98805</td>\n",
       "      <td>122631</td>\n",
       "      <td>8.203472</td>\n",
       "      <td>1</td>\n",
       "      <td>0</td>\n",
       "      <td>0</td>\n",
       "      <td>0</td>\n",
       "      <td>0</td>\n",
       "      <td>0</td>\n",
       "      <td>0</td>\n",
       "      <td>...</td>\n",
       "      <td>0</td>\n",
       "      <td>0</td>\n",
       "      <td>0</td>\n",
       "      <td>0</td>\n",
       "      <td>0</td>\n",
       "      <td>0</td>\n",
       "      <td>0</td>\n",
       "      <td>0</td>\n",
       "      <td>0</td>\n",
       "      <td>0</td>\n",
       "    </tr>\n",
       "    <tr>\n",
       "      <th>58974</th>\n",
       "      <td>98813</td>\n",
       "      <td>170407</td>\n",
       "      <td>41.445833</td>\n",
       "      <td>0</td>\n",
       "      <td>1</td>\n",
       "      <td>0</td>\n",
       "      <td>0</td>\n",
       "      <td>0</td>\n",
       "      <td>0</td>\n",
       "      <td>1</td>\n",
       "      <td>...</td>\n",
       "      <td>0</td>\n",
       "      <td>0</td>\n",
       "      <td>0</td>\n",
       "      <td>0</td>\n",
       "      <td>0</td>\n",
       "      <td>0</td>\n",
       "      <td>0</td>\n",
       "      <td>0</td>\n",
       "      <td>0</td>\n",
       "      <td>0</td>\n",
       "    </tr>\n",
       "    <tr>\n",
       "      <th>58975</th>\n",
       "      <td>98813</td>\n",
       "      <td>190264</td>\n",
       "      <td>1.607639</td>\n",
       "      <td>0</td>\n",
       "      <td>1</td>\n",
       "      <td>0</td>\n",
       "      <td>0</td>\n",
       "      <td>0</td>\n",
       "      <td>1</td>\n",
       "      <td>0</td>\n",
       "      <td>...</td>\n",
       "      <td>0</td>\n",
       "      <td>0</td>\n",
       "      <td>0</td>\n",
       "      <td>0</td>\n",
       "      <td>0</td>\n",
       "      <td>0</td>\n",
       "      <td>0</td>\n",
       "      <td>0</td>\n",
       "      <td>0</td>\n",
       "      <td>0</td>\n",
       "    </tr>\n",
       "  </tbody>\n",
       "</table>\n",
       "<p>5 rows × 73 columns</p>\n",
       "</div>"
      ],
      "text/plain": [
       "       SUBJECT_ID  HADM_ID        LOS  ELECTIVE  EMERGENCY  NEWBORN  URGENT  \\\n",
       "58971       98800   191113   2.742361         0          1        0       0   \n",
       "58972       98802   101071   0.548611         0          1        0       0   \n",
       "58973       98805   122631   8.203472         1          0        0       0   \n",
       "58974       98813   170407  41.445833         0          1        0       0   \n",
       "58975       98813   190264   1.607639         0          1        0       0   \n",
       "\n",
       "       ** INFO NOT AVAILABLE **  CLINIC REFERRAL/PREMATURE  \\\n",
       "58971                         0                          1   \n",
       "58972                         0                          1   \n",
       "58973                         0                          0   \n",
       "58974                         0                          0   \n",
       "58975                         0                          1   \n",
       "\n",
       "       EMERGENCY ROOM ADMIT  ...  HYPERKALEMIA  BOWEL OBSTRUCTION  CELLULITIS  \\\n",
       "58971                     0  ...             0                  0           0   \n",
       "58972                     0  ...             0                  0           0   \n",
       "58973                     0  ...             0                  0           0   \n",
       "58974                     1  ...             0                  0           0   \n",
       "58975                     0  ...             0                  0           0   \n",
       "\n",
       "       RENAL FAILURE  CHOLECYSTITIS  LIVER FAILURE  BLUNT TRAUMA  \\\n",
       "58971              0              0              0             0   \n",
       "58972              0              0              0             0   \n",
       "58973              0              0              0             0   \n",
       "58974              0              0              0             0   \n",
       "58975              0              0              0             0   \n",
       "\n",
       "       ABDOMINAL AORTIC ANEURYSM  PANCREATIC MASS/SDA  ACUTE LEUKEMIA  \n",
       "58971                          0                    0               0  \n",
       "58972                          0                    0               0  \n",
       "58973                          0                    0               0  \n",
       "58974                          0                    0               0  \n",
       "58975                          0                    0               0  \n",
       "\n",
       "[5 rows x 73 columns]"
      ]
     },
     "execution_count": 68,
     "metadata": {},
     "output_type": "execute_result"
    }
   ],
   "source": [
    "admissions_diagnosis_newborn_df.tail()"
   ]
  },
  {
   "cell_type": "code",
   "execution_count": 69,
   "metadata": {},
   "outputs": [],
   "source": [
    "admissions_diagnosis_newborn_df.reset_index(drop=True,inplace=True)"
   ]
  },
  {
   "cell_type": "code",
   "execution_count": 70,
   "metadata": {},
   "outputs": [
    {
     "data": {
      "text/html": [
       "<div>\n",
       "<style scoped>\n",
       "    .dataframe tbody tr th:only-of-type {\n",
       "        vertical-align: middle;\n",
       "    }\n",
       "\n",
       "    .dataframe tbody tr th {\n",
       "        vertical-align: top;\n",
       "    }\n",
       "\n",
       "    .dataframe thead th {\n",
       "        text-align: right;\n",
       "    }\n",
       "</style>\n",
       "<table border=\"1\" class=\"dataframe\">\n",
       "  <thead>\n",
       "    <tr style=\"text-align: right;\">\n",
       "      <th></th>\n",
       "      <th>SUBJECT_ID</th>\n",
       "      <th>HADM_ID</th>\n",
       "      <th>LOS</th>\n",
       "      <th>ELECTIVE</th>\n",
       "      <th>EMERGENCY</th>\n",
       "      <th>NEWBORN</th>\n",
       "      <th>URGENT</th>\n",
       "      <th>** INFO NOT AVAILABLE **</th>\n",
       "      <th>CLINIC REFERRAL/PREMATURE</th>\n",
       "      <th>EMERGENCY ROOM ADMIT</th>\n",
       "      <th>...</th>\n",
       "      <th>HYPERKALEMIA</th>\n",
       "      <th>BOWEL OBSTRUCTION</th>\n",
       "      <th>CELLULITIS</th>\n",
       "      <th>RENAL FAILURE</th>\n",
       "      <th>CHOLECYSTITIS</th>\n",
       "      <th>LIVER FAILURE</th>\n",
       "      <th>BLUNT TRAUMA</th>\n",
       "      <th>ABDOMINAL AORTIC ANEURYSM</th>\n",
       "      <th>PANCREATIC MASS/SDA</th>\n",
       "      <th>ACUTE LEUKEMIA</th>\n",
       "    </tr>\n",
       "  </thead>\n",
       "  <tbody>\n",
       "    <tr>\n",
       "      <th>48492</th>\n",
       "      <td>98800</td>\n",
       "      <td>191113</td>\n",
       "      <td>2.742361</td>\n",
       "      <td>0</td>\n",
       "      <td>1</td>\n",
       "      <td>0</td>\n",
       "      <td>0</td>\n",
       "      <td>0</td>\n",
       "      <td>1</td>\n",
       "      <td>0</td>\n",
       "      <td>...</td>\n",
       "      <td>0</td>\n",
       "      <td>0</td>\n",
       "      <td>0</td>\n",
       "      <td>0</td>\n",
       "      <td>0</td>\n",
       "      <td>0</td>\n",
       "      <td>0</td>\n",
       "      <td>0</td>\n",
       "      <td>0</td>\n",
       "      <td>0</td>\n",
       "    </tr>\n",
       "    <tr>\n",
       "      <th>48493</th>\n",
       "      <td>98802</td>\n",
       "      <td>101071</td>\n",
       "      <td>0.548611</td>\n",
       "      <td>0</td>\n",
       "      <td>1</td>\n",
       "      <td>0</td>\n",
       "      <td>0</td>\n",
       "      <td>0</td>\n",
       "      <td>1</td>\n",
       "      <td>0</td>\n",
       "      <td>...</td>\n",
       "      <td>0</td>\n",
       "      <td>0</td>\n",
       "      <td>0</td>\n",
       "      <td>0</td>\n",
       "      <td>0</td>\n",
       "      <td>0</td>\n",
       "      <td>0</td>\n",
       "      <td>0</td>\n",
       "      <td>0</td>\n",
       "      <td>0</td>\n",
       "    </tr>\n",
       "    <tr>\n",
       "      <th>48494</th>\n",
       "      <td>98805</td>\n",
       "      <td>122631</td>\n",
       "      <td>8.203472</td>\n",
       "      <td>1</td>\n",
       "      <td>0</td>\n",
       "      <td>0</td>\n",
       "      <td>0</td>\n",
       "      <td>0</td>\n",
       "      <td>0</td>\n",
       "      <td>0</td>\n",
       "      <td>...</td>\n",
       "      <td>0</td>\n",
       "      <td>0</td>\n",
       "      <td>0</td>\n",
       "      <td>0</td>\n",
       "      <td>0</td>\n",
       "      <td>0</td>\n",
       "      <td>0</td>\n",
       "      <td>0</td>\n",
       "      <td>0</td>\n",
       "      <td>0</td>\n",
       "    </tr>\n",
       "    <tr>\n",
       "      <th>48495</th>\n",
       "      <td>98813</td>\n",
       "      <td>170407</td>\n",
       "      <td>41.445833</td>\n",
       "      <td>0</td>\n",
       "      <td>1</td>\n",
       "      <td>0</td>\n",
       "      <td>0</td>\n",
       "      <td>0</td>\n",
       "      <td>0</td>\n",
       "      <td>1</td>\n",
       "      <td>...</td>\n",
       "      <td>0</td>\n",
       "      <td>0</td>\n",
       "      <td>0</td>\n",
       "      <td>0</td>\n",
       "      <td>0</td>\n",
       "      <td>0</td>\n",
       "      <td>0</td>\n",
       "      <td>0</td>\n",
       "      <td>0</td>\n",
       "      <td>0</td>\n",
       "    </tr>\n",
       "    <tr>\n",
       "      <th>48496</th>\n",
       "      <td>98813</td>\n",
       "      <td>190264</td>\n",
       "      <td>1.607639</td>\n",
       "      <td>0</td>\n",
       "      <td>1</td>\n",
       "      <td>0</td>\n",
       "      <td>0</td>\n",
       "      <td>0</td>\n",
       "      <td>1</td>\n",
       "      <td>0</td>\n",
       "      <td>...</td>\n",
       "      <td>0</td>\n",
       "      <td>0</td>\n",
       "      <td>0</td>\n",
       "      <td>0</td>\n",
       "      <td>0</td>\n",
       "      <td>0</td>\n",
       "      <td>0</td>\n",
       "      <td>0</td>\n",
       "      <td>0</td>\n",
       "      <td>0</td>\n",
       "    </tr>\n",
       "  </tbody>\n",
       "</table>\n",
       "<p>5 rows × 73 columns</p>\n",
       "</div>"
      ],
      "text/plain": [
       "       SUBJECT_ID  HADM_ID        LOS  ELECTIVE  EMERGENCY  NEWBORN  URGENT  \\\n",
       "48492       98800   191113   2.742361         0          1        0       0   \n",
       "48493       98802   101071   0.548611         0          1        0       0   \n",
       "48494       98805   122631   8.203472         1          0        0       0   \n",
       "48495       98813   170407  41.445833         0          1        0       0   \n",
       "48496       98813   190264   1.607639         0          1        0       0   \n",
       "\n",
       "       ** INFO NOT AVAILABLE **  CLINIC REFERRAL/PREMATURE  \\\n",
       "48492                         0                          1   \n",
       "48493                         0                          1   \n",
       "48494                         0                          0   \n",
       "48495                         0                          0   \n",
       "48496                         0                          1   \n",
       "\n",
       "       EMERGENCY ROOM ADMIT  ...  HYPERKALEMIA  BOWEL OBSTRUCTION  CELLULITIS  \\\n",
       "48492                     0  ...             0                  0           0   \n",
       "48493                     0  ...             0                  0           0   \n",
       "48494                     0  ...             0                  0           0   \n",
       "48495                     1  ...             0                  0           0   \n",
       "48496                     0  ...             0                  0           0   \n",
       "\n",
       "       RENAL FAILURE  CHOLECYSTITIS  LIVER FAILURE  BLUNT TRAUMA  \\\n",
       "48492              0              0              0             0   \n",
       "48493              0              0              0             0   \n",
       "48494              0              0              0             0   \n",
       "48495              0              0              0             0   \n",
       "48496              0              0              0             0   \n",
       "\n",
       "       ABDOMINAL AORTIC ANEURYSM  PANCREATIC MASS/SDA  ACUTE LEUKEMIA  \n",
       "48492                          0                    0               0  \n",
       "48493                          0                    0               0  \n",
       "48494                          0                    0               0  \n",
       "48495                          0                    0               0  \n",
       "48496                          0                    0               0  \n",
       "\n",
       "[5 rows x 73 columns]"
      ]
     },
     "execution_count": 70,
     "metadata": {},
     "output_type": "execute_result"
    }
   ],
   "source": [
    "admissions_diagnosis_newborn_df.tail()"
   ]
  },
  {
   "cell_type": "code",
   "execution_count": 71,
   "metadata": {},
   "outputs": [],
   "source": [
    "df_temp_corrected = admissions_diagnosis_newborn_df[\"temperature_F\"].fillna(98.6)"
   ]
  },
  {
   "cell_type": "code",
   "execution_count": 72,
   "metadata": {},
   "outputs": [],
   "source": [
    "df_temp_corrected = df_temp_corrected.to_frame()"
   ]
  },
  {
   "cell_type": "code",
   "execution_count": 73,
   "metadata": {},
   "outputs": [],
   "source": [
    "df_heart_rate_corrected = admissions_diagnosis_newborn_df[\"heart_rate_bps\"].fillna(84.0)\n",
    "df_heart_rate_corrected = df_heart_rate_corrected.to_frame()"
   ]
  },
  {
   "cell_type": "code",
   "execution_count": 75,
   "metadata": {},
   "outputs": [
    {
     "data": {
      "text/html": [
       "<div>\n",
       "<style scoped>\n",
       "    .dataframe tbody tr th:only-of-type {\n",
       "        vertical-align: middle;\n",
       "    }\n",
       "\n",
       "    .dataframe tbody tr th {\n",
       "        vertical-align: top;\n",
       "    }\n",
       "\n",
       "    .dataframe thead th {\n",
       "        text-align: right;\n",
       "    }\n",
       "</style>\n",
       "<table border=\"1\" class=\"dataframe\">\n",
       "  <thead>\n",
       "    <tr style=\"text-align: right;\">\n",
       "      <th></th>\n",
       "      <th>SUBJECT_ID</th>\n",
       "      <th>HADM_ID</th>\n",
       "      <th>LOS</th>\n",
       "      <th>ELECTIVE</th>\n",
       "      <th>EMERGENCY</th>\n",
       "      <th>NEWBORN</th>\n",
       "      <th>URGENT</th>\n",
       "      <th>** INFO NOT AVAILABLE **</th>\n",
       "      <th>CLINIC REFERRAL/PREMATURE</th>\n",
       "      <th>EMERGENCY ROOM ADMIT</th>\n",
       "      <th>...</th>\n",
       "      <th>CELLULITIS</th>\n",
       "      <th>RENAL FAILURE</th>\n",
       "      <th>CHOLECYSTITIS</th>\n",
       "      <th>LIVER FAILURE</th>\n",
       "      <th>BLUNT TRAUMA</th>\n",
       "      <th>ABDOMINAL AORTIC ANEURYSM</th>\n",
       "      <th>PANCREATIC MASS/SDA</th>\n",
       "      <th>ACUTE LEUKEMIA</th>\n",
       "      <th>temperature_F</th>\n",
       "      <th>heart_rate_bps</th>\n",
       "    </tr>\n",
       "  </thead>\n",
       "  <tbody>\n",
       "    <tr>\n",
       "      <th>48492</th>\n",
       "      <td>98800</td>\n",
       "      <td>191113</td>\n",
       "      <td>2.742361</td>\n",
       "      <td>0</td>\n",
       "      <td>1</td>\n",
       "      <td>0</td>\n",
       "      <td>0</td>\n",
       "      <td>0</td>\n",
       "      <td>1</td>\n",
       "      <td>0</td>\n",
       "      <td>...</td>\n",
       "      <td>0</td>\n",
       "      <td>0</td>\n",
       "      <td>0</td>\n",
       "      <td>0</td>\n",
       "      <td>0</td>\n",
       "      <td>0</td>\n",
       "      <td>0</td>\n",
       "      <td>0</td>\n",
       "      <td>99.1</td>\n",
       "      <td>123.0</td>\n",
       "    </tr>\n",
       "    <tr>\n",
       "      <th>48493</th>\n",
       "      <td>98802</td>\n",
       "      <td>101071</td>\n",
       "      <td>0.548611</td>\n",
       "      <td>0</td>\n",
       "      <td>1</td>\n",
       "      <td>0</td>\n",
       "      <td>0</td>\n",
       "      <td>0</td>\n",
       "      <td>1</td>\n",
       "      <td>0</td>\n",
       "      <td>...</td>\n",
       "      <td>0</td>\n",
       "      <td>0</td>\n",
       "      <td>0</td>\n",
       "      <td>0</td>\n",
       "      <td>0</td>\n",
       "      <td>0</td>\n",
       "      <td>0</td>\n",
       "      <td>0</td>\n",
       "      <td>97.8</td>\n",
       "      <td>86.0</td>\n",
       "    </tr>\n",
       "    <tr>\n",
       "      <th>48494</th>\n",
       "      <td>98805</td>\n",
       "      <td>122631</td>\n",
       "      <td>8.203472</td>\n",
       "      <td>1</td>\n",
       "      <td>0</td>\n",
       "      <td>0</td>\n",
       "      <td>0</td>\n",
       "      <td>0</td>\n",
       "      <td>0</td>\n",
       "      <td>0</td>\n",
       "      <td>...</td>\n",
       "      <td>0</td>\n",
       "      <td>0</td>\n",
       "      <td>0</td>\n",
       "      <td>0</td>\n",
       "      <td>0</td>\n",
       "      <td>0</td>\n",
       "      <td>0</td>\n",
       "      <td>0</td>\n",
       "      <td>99.0</td>\n",
       "      <td>120.0</td>\n",
       "    </tr>\n",
       "    <tr>\n",
       "      <th>48495</th>\n",
       "      <td>98813</td>\n",
       "      <td>170407</td>\n",
       "      <td>41.445833</td>\n",
       "      <td>0</td>\n",
       "      <td>1</td>\n",
       "      <td>0</td>\n",
       "      <td>0</td>\n",
       "      <td>0</td>\n",
       "      <td>0</td>\n",
       "      <td>1</td>\n",
       "      <td>...</td>\n",
       "      <td>0</td>\n",
       "      <td>0</td>\n",
       "      <td>0</td>\n",
       "      <td>0</td>\n",
       "      <td>0</td>\n",
       "      <td>0</td>\n",
       "      <td>0</td>\n",
       "      <td>0</td>\n",
       "      <td>98.6</td>\n",
       "      <td>84.0</td>\n",
       "    </tr>\n",
       "    <tr>\n",
       "      <th>48496</th>\n",
       "      <td>98813</td>\n",
       "      <td>190264</td>\n",
       "      <td>1.607639</td>\n",
       "      <td>0</td>\n",
       "      <td>1</td>\n",
       "      <td>0</td>\n",
       "      <td>0</td>\n",
       "      <td>0</td>\n",
       "      <td>1</td>\n",
       "      <td>0</td>\n",
       "      <td>...</td>\n",
       "      <td>0</td>\n",
       "      <td>0</td>\n",
       "      <td>0</td>\n",
       "      <td>0</td>\n",
       "      <td>0</td>\n",
       "      <td>0</td>\n",
       "      <td>0</td>\n",
       "      <td>0</td>\n",
       "      <td>98.2</td>\n",
       "      <td>113.0</td>\n",
       "    </tr>\n",
       "  </tbody>\n",
       "</table>\n",
       "<p>5 rows × 75 columns</p>\n",
       "</div>"
      ],
      "text/plain": [
       "       SUBJECT_ID  HADM_ID        LOS  ELECTIVE  EMERGENCY  NEWBORN  URGENT  \\\n",
       "48492       98800   191113   2.742361         0          1        0       0   \n",
       "48493       98802   101071   0.548611         0          1        0       0   \n",
       "48494       98805   122631   8.203472         1          0        0       0   \n",
       "48495       98813   170407  41.445833         0          1        0       0   \n",
       "48496       98813   190264   1.607639         0          1        0       0   \n",
       "\n",
       "       ** INFO NOT AVAILABLE **  CLINIC REFERRAL/PREMATURE  \\\n",
       "48492                         0                          1   \n",
       "48493                         0                          1   \n",
       "48494                         0                          0   \n",
       "48495                         0                          0   \n",
       "48496                         0                          1   \n",
       "\n",
       "       EMERGENCY ROOM ADMIT  ...  CELLULITIS  RENAL FAILURE  CHOLECYSTITIS  \\\n",
       "48492                     0  ...           0              0              0   \n",
       "48493                     0  ...           0              0              0   \n",
       "48494                     0  ...           0              0              0   \n",
       "48495                     1  ...           0              0              0   \n",
       "48496                     0  ...           0              0              0   \n",
       "\n",
       "       LIVER FAILURE  BLUNT TRAUMA  ABDOMINAL AORTIC ANEURYSM  \\\n",
       "48492              0             0                          0   \n",
       "48493              0             0                          0   \n",
       "48494              0             0                          0   \n",
       "48495              0             0                          0   \n",
       "48496              0             0                          0   \n",
       "\n",
       "       PANCREATIC MASS/SDA  ACUTE LEUKEMIA  temperature_F  heart_rate_bps  \n",
       "48492                    0               0           99.1           123.0  \n",
       "48493                    0               0           97.8            86.0  \n",
       "48494                    0               0           99.0           120.0  \n",
       "48495                    0               0           98.6            84.0  \n",
       "48496                    0               0           98.2           113.0  \n",
       "\n",
       "[5 rows x 75 columns]"
      ]
     },
     "execution_count": 75,
     "metadata": {},
     "output_type": "execute_result"
    }
   ],
   "source": [
    "admissions_diagnosis_newborn_df.tail()"
   ]
  },
  {
   "cell_type": "markdown",
   "metadata": {},
   "source": [
    "### rename age_extract_precise and get rid of old temperature and heart rate"
   ]
  },
  {
   "cell_type": "code",
   "execution_count": 76,
   "metadata": {},
   "outputs": [],
   "source": [
    "admissions_diagnosis_newborn_df.rename(columns={\"age_extract_precise\":\"ages\"},inplace=True)"
   ]
  },
  {
   "cell_type": "code",
   "execution_count": 78,
   "metadata": {},
   "outputs": [],
   "source": [
    "admissions_diagnosis_newborn_df.drop(columns=[\"temperature_F\",\"heart_rate_bps\"],inplace=True)"
   ]
  },
  {
   "cell_type": "code",
   "execution_count": 79,
   "metadata": {},
   "outputs": [],
   "source": [
    "admissions_diagnosis_newborn_df = pd.concat([admissions_diagnosis_newborn_df,df_temp_corrected,df_heart_rate_corrected],axis=1)"
   ]
  },
  {
   "cell_type": "code",
   "execution_count": 80,
   "metadata": {},
   "outputs": [
    {
     "data": {
      "text/html": [
       "<div>\n",
       "<style scoped>\n",
       "    .dataframe tbody tr th:only-of-type {\n",
       "        vertical-align: middle;\n",
       "    }\n",
       "\n",
       "    .dataframe tbody tr th {\n",
       "        vertical-align: top;\n",
       "    }\n",
       "\n",
       "    .dataframe thead th {\n",
       "        text-align: right;\n",
       "    }\n",
       "</style>\n",
       "<table border=\"1\" class=\"dataframe\">\n",
       "  <thead>\n",
       "    <tr style=\"text-align: right;\">\n",
       "      <th></th>\n",
       "      <th>SUBJECT_ID</th>\n",
       "      <th>HADM_ID</th>\n",
       "      <th>LOS</th>\n",
       "      <th>ELECTIVE</th>\n",
       "      <th>EMERGENCY</th>\n",
       "      <th>NEWBORN</th>\n",
       "      <th>URGENT</th>\n",
       "      <th>** INFO NOT AVAILABLE **</th>\n",
       "      <th>CLINIC REFERRAL/PREMATURE</th>\n",
       "      <th>EMERGENCY ROOM ADMIT</th>\n",
       "      <th>...</th>\n",
       "      <th>CELLULITIS</th>\n",
       "      <th>RENAL FAILURE</th>\n",
       "      <th>CHOLECYSTITIS</th>\n",
       "      <th>LIVER FAILURE</th>\n",
       "      <th>BLUNT TRAUMA</th>\n",
       "      <th>ABDOMINAL AORTIC ANEURYSM</th>\n",
       "      <th>PANCREATIC MASS/SDA</th>\n",
       "      <th>ACUTE LEUKEMIA</th>\n",
       "      <th>temperature_F</th>\n",
       "      <th>heart_rate_bps</th>\n",
       "    </tr>\n",
       "  </thead>\n",
       "  <tbody>\n",
       "    <tr>\n",
       "      <th>48492</th>\n",
       "      <td>98800</td>\n",
       "      <td>191113</td>\n",
       "      <td>2.742361</td>\n",
       "      <td>0</td>\n",
       "      <td>1</td>\n",
       "      <td>0</td>\n",
       "      <td>0</td>\n",
       "      <td>0</td>\n",
       "      <td>1</td>\n",
       "      <td>0</td>\n",
       "      <td>...</td>\n",
       "      <td>0</td>\n",
       "      <td>0</td>\n",
       "      <td>0</td>\n",
       "      <td>0</td>\n",
       "      <td>0</td>\n",
       "      <td>0</td>\n",
       "      <td>0</td>\n",
       "      <td>0</td>\n",
       "      <td>99.1</td>\n",
       "      <td>123.0</td>\n",
       "    </tr>\n",
       "    <tr>\n",
       "      <th>48493</th>\n",
       "      <td>98802</td>\n",
       "      <td>101071</td>\n",
       "      <td>0.548611</td>\n",
       "      <td>0</td>\n",
       "      <td>1</td>\n",
       "      <td>0</td>\n",
       "      <td>0</td>\n",
       "      <td>0</td>\n",
       "      <td>1</td>\n",
       "      <td>0</td>\n",
       "      <td>...</td>\n",
       "      <td>0</td>\n",
       "      <td>0</td>\n",
       "      <td>0</td>\n",
       "      <td>0</td>\n",
       "      <td>0</td>\n",
       "      <td>0</td>\n",
       "      <td>0</td>\n",
       "      <td>0</td>\n",
       "      <td>97.8</td>\n",
       "      <td>86.0</td>\n",
       "    </tr>\n",
       "    <tr>\n",
       "      <th>48494</th>\n",
       "      <td>98805</td>\n",
       "      <td>122631</td>\n",
       "      <td>8.203472</td>\n",
       "      <td>1</td>\n",
       "      <td>0</td>\n",
       "      <td>0</td>\n",
       "      <td>0</td>\n",
       "      <td>0</td>\n",
       "      <td>0</td>\n",
       "      <td>0</td>\n",
       "      <td>...</td>\n",
       "      <td>0</td>\n",
       "      <td>0</td>\n",
       "      <td>0</td>\n",
       "      <td>0</td>\n",
       "      <td>0</td>\n",
       "      <td>0</td>\n",
       "      <td>0</td>\n",
       "      <td>0</td>\n",
       "      <td>99.0</td>\n",
       "      <td>120.0</td>\n",
       "    </tr>\n",
       "    <tr>\n",
       "      <th>48495</th>\n",
       "      <td>98813</td>\n",
       "      <td>170407</td>\n",
       "      <td>41.445833</td>\n",
       "      <td>0</td>\n",
       "      <td>1</td>\n",
       "      <td>0</td>\n",
       "      <td>0</td>\n",
       "      <td>0</td>\n",
       "      <td>0</td>\n",
       "      <td>1</td>\n",
       "      <td>...</td>\n",
       "      <td>0</td>\n",
       "      <td>0</td>\n",
       "      <td>0</td>\n",
       "      <td>0</td>\n",
       "      <td>0</td>\n",
       "      <td>0</td>\n",
       "      <td>0</td>\n",
       "      <td>0</td>\n",
       "      <td>98.6</td>\n",
       "      <td>84.0</td>\n",
       "    </tr>\n",
       "    <tr>\n",
       "      <th>48496</th>\n",
       "      <td>98813</td>\n",
       "      <td>190264</td>\n",
       "      <td>1.607639</td>\n",
       "      <td>0</td>\n",
       "      <td>1</td>\n",
       "      <td>0</td>\n",
       "      <td>0</td>\n",
       "      <td>0</td>\n",
       "      <td>1</td>\n",
       "      <td>0</td>\n",
       "      <td>...</td>\n",
       "      <td>0</td>\n",
       "      <td>0</td>\n",
       "      <td>0</td>\n",
       "      <td>0</td>\n",
       "      <td>0</td>\n",
       "      <td>0</td>\n",
       "      <td>0</td>\n",
       "      <td>0</td>\n",
       "      <td>98.2</td>\n",
       "      <td>113.0</td>\n",
       "    </tr>\n",
       "  </tbody>\n",
       "</table>\n",
       "<p>5 rows × 73 columns</p>\n",
       "</div>"
      ],
      "text/plain": [
       "       SUBJECT_ID  HADM_ID        LOS  ELECTIVE  EMERGENCY  NEWBORN  URGENT  \\\n",
       "48492       98800   191113   2.742361         0          1        0       0   \n",
       "48493       98802   101071   0.548611         0          1        0       0   \n",
       "48494       98805   122631   8.203472         1          0        0       0   \n",
       "48495       98813   170407  41.445833         0          1        0       0   \n",
       "48496       98813   190264   1.607639         0          1        0       0   \n",
       "\n",
       "       ** INFO NOT AVAILABLE **  CLINIC REFERRAL/PREMATURE  \\\n",
       "48492                         0                          1   \n",
       "48493                         0                          1   \n",
       "48494                         0                          0   \n",
       "48495                         0                          0   \n",
       "48496                         0                          1   \n",
       "\n",
       "       EMERGENCY ROOM ADMIT  ...  CELLULITIS  RENAL FAILURE  CHOLECYSTITIS  \\\n",
       "48492                     0  ...           0              0              0   \n",
       "48493                     0  ...           0              0              0   \n",
       "48494                     0  ...           0              0              0   \n",
       "48495                     1  ...           0              0              0   \n",
       "48496                     0  ...           0              0              0   \n",
       "\n",
       "       LIVER FAILURE  BLUNT TRAUMA  ABDOMINAL AORTIC ANEURYSM  \\\n",
       "48492              0             0                          0   \n",
       "48493              0             0                          0   \n",
       "48494              0             0                          0   \n",
       "48495              0             0                          0   \n",
       "48496              0             0                          0   \n",
       "\n",
       "       PANCREATIC MASS/SDA  ACUTE LEUKEMIA  temperature_F  heart_rate_bps  \n",
       "48492                    0               0           99.1           123.0  \n",
       "48493                    0               0           97.8            86.0  \n",
       "48494                    0               0           99.0           120.0  \n",
       "48495                    0               0           98.6            84.0  \n",
       "48496                    0               0           98.2           113.0  \n",
       "\n",
       "[5 rows x 73 columns]"
      ]
     },
     "execution_count": 80,
     "metadata": {},
     "output_type": "execute_result"
    }
   ],
   "source": [
    "admissions_diagnosis_newborn_df.tail()"
   ]
  },
  {
   "cell_type": "markdown",
   "metadata": {},
   "source": [
    "### Scale LOS, Ages, Temp, and Heart Rate"
   ]
  },
  {
   "cell_type": "code",
   "execution_count": 83,
   "metadata": {},
   "outputs": [],
   "source": [
    "df_heart_rate = admissions_diagnosis_newborn_df[\"heart_rate_bps\"].to_frame()"
   ]
  },
  {
   "cell_type": "code",
   "execution_count": 85,
   "metadata": {},
   "outputs": [
    {
     "data": {
      "text/plain": [
       "heart_rate_bps    84.0\n",
       "dtype: float64"
      ]
     },
     "execution_count": 85,
     "metadata": {},
     "output_type": "execute_result"
    }
   ],
   "source": [
    "df_heart_rate.median()"
   ]
  },
  {
   "cell_type": "code",
   "execution_count": 96,
   "metadata": {},
   "outputs": [],
   "source": [
    "df_heart_rate_scaled = (df_heart_rate - 84.0)/18.574"
   ]
  },
  {
   "cell_type": "code",
   "execution_count": 99,
   "metadata": {},
   "outputs": [],
   "source": [
    "df_temperature = admissions_diagnosis_newborn_df[\"temperature_F\"].to_frame()"
   ]
  },
  {
   "cell_type": "code",
   "execution_count": 100,
   "metadata": {},
   "outputs": [
    {
     "data": {
      "text/plain": [
       "temperature_F    98.4\n",
       "dtype: float64"
      ]
     },
     "execution_count": 100,
     "metadata": {},
     "output_type": "execute_result"
    }
   ],
   "source": [
    "df_temperature.median()"
   ]
  },
  {
   "cell_type": "code",
   "execution_count": 101,
   "metadata": {},
   "outputs": [
    {
     "data": {
      "text/plain": [
       "temperature_F    3.37459\n",
       "dtype: float64"
      ]
     },
     "execution_count": 101,
     "metadata": {},
     "output_type": "execute_result"
    }
   ],
   "source": [
    "df_temperature.std()"
   ]
  },
  {
   "cell_type": "code",
   "execution_count": 102,
   "metadata": {},
   "outputs": [],
   "source": [
    "df_temperature_scaled = (df_temperature - 98.4)/3.3745"
   ]
  },
  {
   "cell_type": "code",
   "execution_count": 103,
   "metadata": {},
   "outputs": [],
   "source": [
    "df_ages = admissions_diagnosis_newborn_df[\"ages\"].to_frame()"
   ]
  },
  {
   "cell_type": "code",
   "execution_count": 104,
   "metadata": {},
   "outputs": [
    {
     "data": {
      "text/plain": [
       "ages    64.243139\n",
       "dtype: float64"
      ]
     },
     "execution_count": 104,
     "metadata": {},
     "output_type": "execute_result"
    }
   ],
   "source": [
    "df_ages.median()"
   ]
  },
  {
   "cell_type": "code",
   "execution_count": 105,
   "metadata": {},
   "outputs": [
    {
     "data": {
      "text/plain": [
       "ages    17.133744\n",
       "dtype: float64"
      ]
     },
     "execution_count": 105,
     "metadata": {},
     "output_type": "execute_result"
    }
   ],
   "source": [
    "df_ages.std()"
   ]
  },
  {
   "cell_type": "code",
   "execution_count": 106,
   "metadata": {},
   "outputs": [],
   "source": [
    "df_ages_scaled = (df_ages - 64.243)/17.1337"
   ]
  },
  {
   "cell_type": "code",
   "execution_count": 107,
   "metadata": {},
   "outputs": [],
   "source": [
    "df_los = admissions_diagnosis_newborn_df[\"LOS\"].to_frame()"
   ]
  },
  {
   "cell_type": "code",
   "execution_count": 108,
   "metadata": {},
   "outputs": [
    {
     "data": {
      "text/plain": [
       "LOS    6.90625\n",
       "dtype: float64"
      ]
     },
     "execution_count": 108,
     "metadata": {},
     "output_type": "execute_result"
    }
   ],
   "source": [
    "df_los.median()"
   ]
  },
  {
   "cell_type": "code",
   "execution_count": 109,
   "metadata": {},
   "outputs": [
    {
     "data": {
      "text/plain": [
       "LOS    11.046324\n",
       "dtype: float64"
      ]
     },
     "execution_count": 109,
     "metadata": {},
     "output_type": "execute_result"
    }
   ],
   "source": [
    "df_los.std()"
   ]
  },
  {
   "cell_type": "code",
   "execution_count": 110,
   "metadata": {},
   "outputs": [],
   "source": [
    "df_los_scaled = (df_los - 6.906)/11.04"
   ]
  },
  {
   "cell_type": "code",
   "execution_count": 111,
   "metadata": {},
   "outputs": [],
   "source": [
    "admissions_scaled_features = admissions_diagnosis_newborn_df.copy()"
   ]
  },
  {
   "cell_type": "code",
   "execution_count": 112,
   "metadata": {},
   "outputs": [],
   "source": [
    "admissions_scaled_features.drop(columns=[\"temperature_F\",\"heart_rate_bps\",\"ages\",\"LOS\"],inplace=True)"
   ]
  },
  {
   "cell_type": "code",
   "execution_count": 113,
   "metadata": {},
   "outputs": [],
   "source": [
    "admissions_scaled_features = pd.concat([admissions_scaled_features,df_temperature_scaled,df_heart_rate_scaled,df_ages_scaled,df_los_scaled],axis=1)"
   ]
  },
  {
   "cell_type": "code",
   "execution_count": 114,
   "metadata": {},
   "outputs": [
    {
     "data": {
      "text/html": [
       "<div>\n",
       "<style scoped>\n",
       "    .dataframe tbody tr th:only-of-type {\n",
       "        vertical-align: middle;\n",
       "    }\n",
       "\n",
       "    .dataframe tbody tr th {\n",
       "        vertical-align: top;\n",
       "    }\n",
       "\n",
       "    .dataframe thead th {\n",
       "        text-align: right;\n",
       "    }\n",
       "</style>\n",
       "<table border=\"1\" class=\"dataframe\">\n",
       "  <thead>\n",
       "    <tr style=\"text-align: right;\">\n",
       "      <th></th>\n",
       "      <th>SUBJECT_ID</th>\n",
       "      <th>HADM_ID</th>\n",
       "      <th>ELECTIVE</th>\n",
       "      <th>EMERGENCY</th>\n",
       "      <th>NEWBORN</th>\n",
       "      <th>URGENT</th>\n",
       "      <th>** INFO NOT AVAILABLE **</th>\n",
       "      <th>CLINIC REFERRAL/PREMATURE</th>\n",
       "      <th>EMERGENCY ROOM ADMIT</th>\n",
       "      <th>HMO REFERRAL/SICK</th>\n",
       "      <th>...</th>\n",
       "      <th>CHOLECYSTITIS</th>\n",
       "      <th>LIVER FAILURE</th>\n",
       "      <th>BLUNT TRAUMA</th>\n",
       "      <th>ABDOMINAL AORTIC ANEURYSM</th>\n",
       "      <th>PANCREATIC MASS/SDA</th>\n",
       "      <th>ACUTE LEUKEMIA</th>\n",
       "      <th>temperature_F</th>\n",
       "      <th>heart_rate_bps</th>\n",
       "      <th>ages</th>\n",
       "      <th>LOS</th>\n",
       "    </tr>\n",
       "  </thead>\n",
       "  <tbody>\n",
       "    <tr>\n",
       "      <th>48492</th>\n",
       "      <td>98800</td>\n",
       "      <td>191113</td>\n",
       "      <td>0</td>\n",
       "      <td>1</td>\n",
       "      <td>0</td>\n",
       "      <td>0</td>\n",
       "      <td>0</td>\n",
       "      <td>1</td>\n",
       "      <td>0</td>\n",
       "      <td>0</td>\n",
       "      <td>...</td>\n",
       "      <td>0</td>\n",
       "      <td>0</td>\n",
       "      <td>0</td>\n",
       "      <td>0</td>\n",
       "      <td>0</td>\n",
       "      <td>0</td>\n",
       "      <td>0.207438</td>\n",
       "      <td>2.099709</td>\n",
       "      <td>-2.617211</td>\n",
       "      <td>-0.377141</td>\n",
       "    </tr>\n",
       "    <tr>\n",
       "      <th>48493</th>\n",
       "      <td>98802</td>\n",
       "      <td>101071</td>\n",
       "      <td>0</td>\n",
       "      <td>1</td>\n",
       "      <td>0</td>\n",
       "      <td>0</td>\n",
       "      <td>0</td>\n",
       "      <td>1</td>\n",
       "      <td>0</td>\n",
       "      <td>0</td>\n",
       "      <td>...</td>\n",
       "      <td>0</td>\n",
       "      <td>0</td>\n",
       "      <td>0</td>\n",
       "      <td>0</td>\n",
       "      <td>0</td>\n",
       "      <td>0</td>\n",
       "      <td>-0.177804</td>\n",
       "      <td>0.107677</td>\n",
       "      <td>1.121229</td>\n",
       "      <td>-0.575850</td>\n",
       "    </tr>\n",
       "    <tr>\n",
       "      <th>48494</th>\n",
       "      <td>98805</td>\n",
       "      <td>122631</td>\n",
       "      <td>1</td>\n",
       "      <td>0</td>\n",
       "      <td>0</td>\n",
       "      <td>0</td>\n",
       "      <td>0</td>\n",
       "      <td>0</td>\n",
       "      <td>0</td>\n",
       "      <td>0</td>\n",
       "      <td>...</td>\n",
       "      <td>0</td>\n",
       "      <td>0</td>\n",
       "      <td>0</td>\n",
       "      <td>0</td>\n",
       "      <td>0</td>\n",
       "      <td>0</td>\n",
       "      <td>0.177804</td>\n",
       "      <td>1.938193</td>\n",
       "      <td>-1.267181</td>\n",
       "      <td>0.117525</td>\n",
       "    </tr>\n",
       "    <tr>\n",
       "      <th>48495</th>\n",
       "      <td>98813</td>\n",
       "      <td>170407</td>\n",
       "      <td>0</td>\n",
       "      <td>1</td>\n",
       "      <td>0</td>\n",
       "      <td>0</td>\n",
       "      <td>0</td>\n",
       "      <td>0</td>\n",
       "      <td>1</td>\n",
       "      <td>0</td>\n",
       "      <td>...</td>\n",
       "      <td>0</td>\n",
       "      <td>0</td>\n",
       "      <td>0</td>\n",
       "      <td>0</td>\n",
       "      <td>0</td>\n",
       "      <td>0</td>\n",
       "      <td>0.059268</td>\n",
       "      <td>0.000000</td>\n",
       "      <td>-0.202807</td>\n",
       "      <td>3.128608</td>\n",
       "    </tr>\n",
       "    <tr>\n",
       "      <th>48496</th>\n",
       "      <td>98813</td>\n",
       "      <td>190264</td>\n",
       "      <td>0</td>\n",
       "      <td>1</td>\n",
       "      <td>0</td>\n",
       "      <td>0</td>\n",
       "      <td>0</td>\n",
       "      <td>1</td>\n",
       "      <td>0</td>\n",
       "      <td>0</td>\n",
       "      <td>...</td>\n",
       "      <td>0</td>\n",
       "      <td>0</td>\n",
       "      <td>0</td>\n",
       "      <td>0</td>\n",
       "      <td>0</td>\n",
       "      <td>0</td>\n",
       "      <td>-0.059268</td>\n",
       "      <td>1.561322</td>\n",
       "      <td>-0.030540</td>\n",
       "      <td>-0.479924</td>\n",
       "    </tr>\n",
       "  </tbody>\n",
       "</table>\n",
       "<p>5 rows × 73 columns</p>\n",
       "</div>"
      ],
      "text/plain": [
       "       SUBJECT_ID  HADM_ID  ELECTIVE  EMERGENCY  NEWBORN  URGENT  \\\n",
       "48492       98800   191113         0          1        0       0   \n",
       "48493       98802   101071         0          1        0       0   \n",
       "48494       98805   122631         1          0        0       0   \n",
       "48495       98813   170407         0          1        0       0   \n",
       "48496       98813   190264         0          1        0       0   \n",
       "\n",
       "       ** INFO NOT AVAILABLE **  CLINIC REFERRAL/PREMATURE  \\\n",
       "48492                         0                          1   \n",
       "48493                         0                          1   \n",
       "48494                         0                          0   \n",
       "48495                         0                          0   \n",
       "48496                         0                          1   \n",
       "\n",
       "       EMERGENCY ROOM ADMIT  HMO REFERRAL/SICK  ...  CHOLECYSTITIS  \\\n",
       "48492                     0                  0  ...              0   \n",
       "48493                     0                  0  ...              0   \n",
       "48494                     0                  0  ...              0   \n",
       "48495                     1                  0  ...              0   \n",
       "48496                     0                  0  ...              0   \n",
       "\n",
       "       LIVER FAILURE  BLUNT TRAUMA  ABDOMINAL AORTIC ANEURYSM  \\\n",
       "48492              0             0                          0   \n",
       "48493              0             0                          0   \n",
       "48494              0             0                          0   \n",
       "48495              0             0                          0   \n",
       "48496              0             0                          0   \n",
       "\n",
       "       PANCREATIC MASS/SDA  ACUTE LEUKEMIA  temperature_F  heart_rate_bps  \\\n",
       "48492                    0               0       0.207438        2.099709   \n",
       "48493                    0               0      -0.177804        0.107677   \n",
       "48494                    0               0       0.177804        1.938193   \n",
       "48495                    0               0       0.059268        0.000000   \n",
       "48496                    0               0      -0.059268        1.561322   \n",
       "\n",
       "           ages       LOS  \n",
       "48492 -2.617211 -0.377141  \n",
       "48493  1.121229 -0.575850  \n",
       "48494 -1.267181  0.117525  \n",
       "48495 -0.202807  3.128608  \n",
       "48496 -0.030540 -0.479924  \n",
       "\n",
       "[5 rows x 73 columns]"
      ]
     },
     "execution_count": 114,
     "metadata": {},
     "output_type": "execute_result"
    }
   ],
   "source": [
    "admissions_scaled_features.tail()"
   ]
  },
  {
   "cell_type": "code",
   "execution_count": 115,
   "metadata": {},
   "outputs": [],
   "source": [
    "ADMISSIONS_CDiff_pos_df = admissions_scaled_features.head(1).copy()\n",
    "ADMISSIONS_CDiff_pos_df.drop([0],inplace=True)\n",
    "ADMISSIONS_CDiff_neg_df = ADMISSIONS_CDiff_pos_df.copy()\n",
    "\n",
    "for row in DIAGNOSES_ICD_df.itertuples():\n",
    "    #C. Diff. has ICD9 Code 00845\n",
    "    if row.ICD9_CODE == '00845':\n",
    "        #print(row.SUBJECT_ID,row.HADM_ID,row.ICD9_CODE)\n",
    "        subject_id = row.SUBJECT_ID\n",
    "        hadm_id = row.HADM_ID\n",
    "        ADMISSIONS_CDiff_pos_df = ADMISSIONS_CDiff_pos_df.append(admissions_scaled_features.loc[(admissions_scaled_features['SUBJECT_ID'] == subject_id) & (admissions_scaled_features['HADM_ID'] == hadm_id)])\n",
    "        "
   ]
  },
  {
   "cell_type": "code",
   "execution_count": 116,
   "metadata": {},
   "outputs": [
    {
     "data": {
      "text/html": [
       "<div>\n",
       "<style scoped>\n",
       "    .dataframe tbody tr th:only-of-type {\n",
       "        vertical-align: middle;\n",
       "    }\n",
       "\n",
       "    .dataframe tbody tr th {\n",
       "        vertical-align: top;\n",
       "    }\n",
       "\n",
       "    .dataframe thead th {\n",
       "        text-align: right;\n",
       "    }\n",
       "</style>\n",
       "<table border=\"1\" class=\"dataframe\">\n",
       "  <thead>\n",
       "    <tr style=\"text-align: right;\">\n",
       "      <th></th>\n",
       "      <th>SUBJECT_ID</th>\n",
       "      <th>HADM_ID</th>\n",
       "      <th>ELECTIVE</th>\n",
       "      <th>EMERGENCY</th>\n",
       "      <th>NEWBORN</th>\n",
       "      <th>URGENT</th>\n",
       "      <th>** INFO NOT AVAILABLE **</th>\n",
       "      <th>CLINIC REFERRAL/PREMATURE</th>\n",
       "      <th>EMERGENCY ROOM ADMIT</th>\n",
       "      <th>HMO REFERRAL/SICK</th>\n",
       "      <th>...</th>\n",
       "      <th>CHOLECYSTITIS</th>\n",
       "      <th>LIVER FAILURE</th>\n",
       "      <th>BLUNT TRAUMA</th>\n",
       "      <th>ABDOMINAL AORTIC ANEURYSM</th>\n",
       "      <th>PANCREATIC MASS/SDA</th>\n",
       "      <th>ACUTE LEUKEMIA</th>\n",
       "      <th>temperature_F</th>\n",
       "      <th>heart_rate_bps</th>\n",
       "      <th>ages</th>\n",
       "      <th>LOS</th>\n",
       "    </tr>\n",
       "  </thead>\n",
       "  <tbody>\n",
       "    <tr>\n",
       "      <th>181</th>\n",
       "      <td>21</td>\n",
       "      <td>111970</td>\n",
       "      <td>0</td>\n",
       "      <td>1</td>\n",
       "      <td>0</td>\n",
       "      <td>0</td>\n",
       "      <td>0</td>\n",
       "      <td>0</td>\n",
       "      <td>1</td>\n",
       "      <td>0</td>\n",
       "      <td>...</td>\n",
       "      <td>0</td>\n",
       "      <td>0</td>\n",
       "      <td>0</td>\n",
       "      <td>0</td>\n",
       "      <td>0</td>\n",
       "      <td>0</td>\n",
       "      <td>-0.237072</td>\n",
       "      <td>-0.323032</td>\n",
       "      <td>1.376425</td>\n",
       "      <td>0.119097</td>\n",
       "    </tr>\n",
       "    <tr>\n",
       "      <th>381</th>\n",
       "      <td>195</td>\n",
       "      <td>118936</td>\n",
       "      <td>1</td>\n",
       "      <td>0</td>\n",
       "      <td>0</td>\n",
       "      <td>0</td>\n",
       "      <td>0</td>\n",
       "      <td>0</td>\n",
       "      <td>0</td>\n",
       "      <td>0</td>\n",
       "      <td>...</td>\n",
       "      <td>0</td>\n",
       "      <td>0</td>\n",
       "      <td>0</td>\n",
       "      <td>0</td>\n",
       "      <td>0</td>\n",
       "      <td>0</td>\n",
       "      <td>-0.503778</td>\n",
       "      <td>0.430710</td>\n",
       "      <td>0.588919</td>\n",
       "      <td>1.532958</td>\n",
       "    </tr>\n",
       "    <tr>\n",
       "      <th>427</th>\n",
       "      <td>243</td>\n",
       "      <td>129066</td>\n",
       "      <td>0</td>\n",
       "      <td>1</td>\n",
       "      <td>0</td>\n",
       "      <td>0</td>\n",
       "      <td>0</td>\n",
       "      <td>0</td>\n",
       "      <td>0</td>\n",
       "      <td>0</td>\n",
       "      <td>...</td>\n",
       "      <td>0</td>\n",
       "      <td>0</td>\n",
       "      <td>0</td>\n",
       "      <td>0</td>\n",
       "      <td>0</td>\n",
       "      <td>0</td>\n",
       "      <td>-0.414876</td>\n",
       "      <td>-0.215355</td>\n",
       "      <td>-1.254031</td>\n",
       "      <td>0.207916</td>\n",
       "    </tr>\n",
       "    <tr>\n",
       "      <th>442</th>\n",
       "      <td>256</td>\n",
       "      <td>153771</td>\n",
       "      <td>0</td>\n",
       "      <td>1</td>\n",
       "      <td>0</td>\n",
       "      <td>0</td>\n",
       "      <td>0</td>\n",
       "      <td>0</td>\n",
       "      <td>1</td>\n",
       "      <td>0</td>\n",
       "      <td>...</td>\n",
       "      <td>0</td>\n",
       "      <td>0</td>\n",
       "      <td>0</td>\n",
       "      <td>0</td>\n",
       "      <td>0</td>\n",
       "      <td>0</td>\n",
       "      <td>0.059268</td>\n",
       "      <td>0.000000</td>\n",
       "      <td>0.918148</td>\n",
       "      <td>-0.032561</td>\n",
       "    </tr>\n",
       "    <tr>\n",
       "      <th>311</th>\n",
       "      <td>395</td>\n",
       "      <td>137967</td>\n",
       "      <td>0</td>\n",
       "      <td>1</td>\n",
       "      <td>0</td>\n",
       "      <td>0</td>\n",
       "      <td>0</td>\n",
       "      <td>0</td>\n",
       "      <td>1</td>\n",
       "      <td>0</td>\n",
       "      <td>...</td>\n",
       "      <td>0</td>\n",
       "      <td>0</td>\n",
       "      <td>0</td>\n",
       "      <td>0</td>\n",
       "      <td>0</td>\n",
       "      <td>0</td>\n",
       "      <td>0.325974</td>\n",
       "      <td>0.753742</td>\n",
       "      <td>0.576515</td>\n",
       "      <td>0.532619</td>\n",
       "    </tr>\n",
       "  </tbody>\n",
       "</table>\n",
       "<p>5 rows × 73 columns</p>\n",
       "</div>"
      ],
      "text/plain": [
       "     SUBJECT_ID  HADM_ID  ELECTIVE  EMERGENCY  NEWBORN  URGENT  \\\n",
       "181          21   111970         0          1        0       0   \n",
       "381         195   118936         1          0        0       0   \n",
       "427         243   129066         0          1        0       0   \n",
       "442         256   153771         0          1        0       0   \n",
       "311         395   137967         0          1        0       0   \n",
       "\n",
       "     ** INFO NOT AVAILABLE **  CLINIC REFERRAL/PREMATURE  \\\n",
       "181                         0                          0   \n",
       "381                         0                          0   \n",
       "427                         0                          0   \n",
       "442                         0                          0   \n",
       "311                         0                          0   \n",
       "\n",
       "     EMERGENCY ROOM ADMIT  HMO REFERRAL/SICK  ...  CHOLECYSTITIS  \\\n",
       "181                     1                  0  ...              0   \n",
       "381                     0                  0  ...              0   \n",
       "427                     0                  0  ...              0   \n",
       "442                     1                  0  ...              0   \n",
       "311                     1                  0  ...              0   \n",
       "\n",
       "     LIVER FAILURE  BLUNT TRAUMA  ABDOMINAL AORTIC ANEURYSM  \\\n",
       "181              0             0                          0   \n",
       "381              0             0                          0   \n",
       "427              0             0                          0   \n",
       "442              0             0                          0   \n",
       "311              0             0                          0   \n",
       "\n",
       "     PANCREATIC MASS/SDA  ACUTE LEUKEMIA  temperature_F  heart_rate_bps  \\\n",
       "181                    0               0      -0.237072       -0.323032   \n",
       "381                    0               0      -0.503778        0.430710   \n",
       "427                    0               0      -0.414876       -0.215355   \n",
       "442                    0               0       0.059268        0.000000   \n",
       "311                    0               0       0.325974        0.753742   \n",
       "\n",
       "         ages       LOS  \n",
       "181  1.376425  0.119097  \n",
       "381  0.588919  1.532958  \n",
       "427 -1.254031  0.207916  \n",
       "442  0.918148 -0.032561  \n",
       "311  0.576515  0.532619  \n",
       "\n",
       "[5 rows x 73 columns]"
      ]
     },
     "execution_count": 116,
     "metadata": {},
     "output_type": "execute_result"
    }
   ],
   "source": [
    "ADMISSIONS_CDiff_pos_df.head()"
   ]
  },
  {
   "cell_type": "code",
   "execution_count": 117,
   "metadata": {},
   "outputs": [],
   "source": [
    "ADMISSIONS_CDiff_neg_df = pd.concat([admissions_scaled_features,ADMISSIONS_CDiff_pos_df]).drop_duplicates(keep=False)"
   ]
  },
  {
   "cell_type": "code",
   "execution_count": 118,
   "metadata": {},
   "outputs": [
    {
     "data": {
      "text/plain": [
       "(47169, 73)"
      ]
     },
     "execution_count": 118,
     "metadata": {},
     "output_type": "execute_result"
    }
   ],
   "source": [
    "ADMISSIONS_CDiff_neg_df.shape"
   ]
  },
  {
   "cell_type": "code",
   "execution_count": 119,
   "metadata": {},
   "outputs": [
    {
     "data": {
      "text/plain": [
       "(1328, 73)"
      ]
     },
     "execution_count": 119,
     "metadata": {},
     "output_type": "execute_result"
    }
   ],
   "source": [
    "ADMISSIONS_CDiff_pos_df.shape"
   ]
  },
  {
   "cell_type": "code",
   "execution_count": 120,
   "metadata": {},
   "outputs": [],
   "source": [
    "ADMISSIONS_CDiff_pos_df[\"target\"]=1\n",
    "ADMISSIONS_CDiff_neg_df[\"target\"]=0"
   ]
  },
  {
   "cell_type": "code",
   "execution_count": 121,
   "metadata": {},
   "outputs": [],
   "source": [
    "ADMISSIONS_CDiff_preprocess = pd.concat([ADMISSIONS_CDiff_pos_df,ADMISSIONS_CDiff_neg_df],ignore_index=True)"
   ]
  },
  {
   "cell_type": "code",
   "execution_count": 122,
   "metadata": {},
   "outputs": [],
   "source": [
    "cdiff_pos_preprocess = ADMISSIONS_CDiff_preprocess.loc[ADMISSIONS_CDiff_preprocess['target'] == 1]\n",
    "cdiff_neg_preprocess = ADMISSIONS_CDiff_preprocess.loc[ADMISSIONS_CDiff_preprocess['target'] == 0]"
   ]
  },
  {
   "cell_type": "markdown",
   "metadata": {},
   "source": [
    "# EDA"
   ]
  },
  {
   "cell_type": "code",
   "execution_count": 129,
   "metadata": {},
   "outputs": [
    {
     "data": {
      "image/png": "[encoded data removed]",
      "text/plain": [
       "<Figure size 432x361.44 with 1 Axes>"
      ]
     },
     "metadata": {
      "needs_background": "light"
     },
     "output_type": "display_data"
    }
   ],
   "source": [
    "ax = plt.gca()\n",
    "cdiff_pos_preprocess[\"ages\"].hist(alpha=0.7, ax=ax, density=True,grid=False);\n",
    "cdiff_neg_preprocess[\"ages\"].hist(alpha=0.7, ax=ax, density=True,grid=False);\n",
    "#create symbols for legend\n",
    "cdiff_pos = mlines.Line2D([], [], c='b', lw=1.0, label = 'C. Diff. positive patients');\n",
    "cdiff_neg = mlines.Line2D([], [], c='orange', lw=1.0, label='C. Diff. negative patients')\n",
    "plt.legend(handles=[cdiff_pos,cdiff_neg],frameon=False,fontsize=15);\n",
    "plt.xticks([-4,-2,0,2],fontsize=20);\n",
    "plt.ylim(0.0,0.55);\n",
    "plt.yticks([0.0,0.2,0.4],fontsize=20);\n",
    "plt.xlabel('Patient Age (scaled/shifted)',fontsize=20);\n",
    "plt.ylabel('Frequency',fontsize=20);\n",
    "plt.rcParams[\"figure.figsize\"] = [6.0,5.020];\n",
    "plt.tight_layout();\n",
    "plt.savefig(\"./week_4/age_comparison.jpg\",dpi=300)"
   ]
  },
  {
   "cell_type": "code",
   "execution_count": 133,
   "metadata": {},
   "outputs": [
    {
     "data": {
      "image/png": "[encoded data removed]",
      "text/plain": [
       "<Figure size 432x361.44 with 1 Axes>"
      ]
     },
     "metadata": {
      "needs_background": "light"
     },
     "output_type": "display_data"
    }
   ],
   "source": [
    "ax = plt.gca()\n",
    "cdiff_pos_preprocess[\"LOS\"].hist(density=True,alpha=0.7, ax=ax,grid=False);\n",
    "cdiff_neg_preprocess[\"LOS\"].hist(density=True,alpha=0.7, ax=ax,grid=False);\n",
    "plt.xlim(-1,14);\n",
    "#create symbols for legend\n",
    "cdiff_pos = mlines.Line2D([], [], c='b', lw=1.0, label = 'C. Diff. positive patients');\n",
    "cdiff_neg = mlines.Line2D([], [], c='orange', lw=1.0, label='C. Diff. negative patients')\n",
    "plt.legend(handles=[cdiff_pos,cdiff_neg],frameon=False,fontsize=15);\n",
    "plt.xticks([0,5,10],fontsize=20);\n",
    "plt.ylim(0.0,0.45);\n",
    "plt.yticks([0.0,0.15,0.3],fontsize=20);\n",
    "plt.xlabel('Length of stay (scaled/shifted)',fontsize=20);\n",
    "plt.ylabel('Frequency',fontsize=20)\n",
    "plt.rcParams[\"figure.figsize\"] = [6.0,5.020];\n",
    "plt.tight_layout();\n",
    "plt.savefig(\"./week_4/lengh_of_stay.jpg\",dpi=300)"
   ]
  },
  {
   "cell_type": "markdown",
   "metadata": {},
   "source": [
    "# OK let's preprocess for training, cross-validation, and testing"
   ]
  },
  {
   "cell_type": "code",
   "execution_count": 134,
   "metadata": {},
   "outputs": [],
   "source": [
    "ADMISSIONS_CDiff_preprocess.to_csv(\"./data/dataframes/admissions_cdiff_preprocess_feature_scaled.csv\")"
   ]
  },
  {
   "cell_type": "code",
   "execution_count": 2,
   "metadata": {},
   "outputs": [],
   "source": [
    "ADMISSIONS_CDiff_preprocess = pd.read_csv(\"./data/dataframes/admissions_cdiff_preprocess_feature_scaled.csv\",index_col=0)"
   ]
  },
  {
   "cell_type": "code",
   "execution_count": 3,
   "metadata": {},
   "outputs": [],
   "source": [
    "ADMISSIONS_CDiff_preprocess.drop(columns=[\"SUBJECT_ID\",\"HADM_ID\"],inplace=True)"
   ]
  },
  {
   "cell_type": "code",
   "execution_count": 4,
   "metadata": {},
   "outputs": [],
   "source": [
    "ADMISSIONS_CDiff_preprocess.drop(columns=[\"NEWBORN\"],inplace=True)"
   ]
  },
  {
   "cell_type": "code",
   "execution_count": 138,
   "metadata": {},
   "outputs": [
    {
     "data": {
      "text/html": [
       "<div>\n",
       "<style scoped>\n",
       "    .dataframe tbody tr th:only-of-type {\n",
       "        vertical-align: middle;\n",
       "    }\n",
       "\n",
       "    .dataframe tbody tr th {\n",
       "        vertical-align: top;\n",
       "    }\n",
       "\n",
       "    .dataframe thead th {\n",
       "        text-align: right;\n",
       "    }\n",
       "</style>\n",
       "<table border=\"1\" class=\"dataframe\">\n",
       "  <thead>\n",
       "    <tr style=\"text-align: right;\">\n",
       "      <th></th>\n",
       "      <th>ELECTIVE</th>\n",
       "      <th>EMERGENCY</th>\n",
       "      <th>URGENT</th>\n",
       "      <th>** INFO NOT AVAILABLE **</th>\n",
       "      <th>CLINIC REFERRAL/PREMATURE</th>\n",
       "      <th>EMERGENCY ROOM ADMIT</th>\n",
       "      <th>HMO REFERRAL/SICK</th>\n",
       "      <th>PHYS REFERRAL/NORMAL DELI</th>\n",
       "      <th>TRANSFER FROM HOSP/EXTRAM</th>\n",
       "      <th>TRANSFER FROM OTHER HEALT</th>\n",
       "      <th>...</th>\n",
       "      <th>LIVER FAILURE</th>\n",
       "      <th>BLUNT TRAUMA</th>\n",
       "      <th>ABDOMINAL AORTIC ANEURYSM</th>\n",
       "      <th>PANCREATIC MASS/SDA</th>\n",
       "      <th>ACUTE LEUKEMIA</th>\n",
       "      <th>temperature_F</th>\n",
       "      <th>heart_rate_bps</th>\n",
       "      <th>ages</th>\n",
       "      <th>LOS</th>\n",
       "      <th>target</th>\n",
       "    </tr>\n",
       "  </thead>\n",
       "  <tbody>\n",
       "    <tr>\n",
       "      <th>0</th>\n",
       "      <td>0</td>\n",
       "      <td>1</td>\n",
       "      <td>0</td>\n",
       "      <td>0</td>\n",
       "      <td>0</td>\n",
       "      <td>1</td>\n",
       "      <td>0</td>\n",
       "      <td>0</td>\n",
       "      <td>0</td>\n",
       "      <td>0</td>\n",
       "      <td>...</td>\n",
       "      <td>0</td>\n",
       "      <td>0</td>\n",
       "      <td>0</td>\n",
       "      <td>0</td>\n",
       "      <td>0</td>\n",
       "      <td>-0.237072</td>\n",
       "      <td>-0.323032</td>\n",
       "      <td>1.376425</td>\n",
       "      <td>0.119097</td>\n",
       "      <td>1</td>\n",
       "    </tr>\n",
       "    <tr>\n",
       "      <th>1</th>\n",
       "      <td>1</td>\n",
       "      <td>0</td>\n",
       "      <td>0</td>\n",
       "      <td>0</td>\n",
       "      <td>0</td>\n",
       "      <td>0</td>\n",
       "      <td>0</td>\n",
       "      <td>1</td>\n",
       "      <td>0</td>\n",
       "      <td>0</td>\n",
       "      <td>...</td>\n",
       "      <td>0</td>\n",
       "      <td>0</td>\n",
       "      <td>0</td>\n",
       "      <td>0</td>\n",
       "      <td>0</td>\n",
       "      <td>-0.503778</td>\n",
       "      <td>0.430710</td>\n",
       "      <td>0.588919</td>\n",
       "      <td>1.532958</td>\n",
       "      <td>1</td>\n",
       "    </tr>\n",
       "    <tr>\n",
       "      <th>2</th>\n",
       "      <td>0</td>\n",
       "      <td>1</td>\n",
       "      <td>0</td>\n",
       "      <td>0</td>\n",
       "      <td>0</td>\n",
       "      <td>0</td>\n",
       "      <td>0</td>\n",
       "      <td>1</td>\n",
       "      <td>0</td>\n",
       "      <td>0</td>\n",
       "      <td>...</td>\n",
       "      <td>0</td>\n",
       "      <td>0</td>\n",
       "      <td>0</td>\n",
       "      <td>0</td>\n",
       "      <td>0</td>\n",
       "      <td>-0.414876</td>\n",
       "      <td>-0.215355</td>\n",
       "      <td>-1.254031</td>\n",
       "      <td>0.207916</td>\n",
       "      <td>1</td>\n",
       "    </tr>\n",
       "    <tr>\n",
       "      <th>3</th>\n",
       "      <td>0</td>\n",
       "      <td>1</td>\n",
       "      <td>0</td>\n",
       "      <td>0</td>\n",
       "      <td>0</td>\n",
       "      <td>1</td>\n",
       "      <td>0</td>\n",
       "      <td>0</td>\n",
       "      <td>0</td>\n",
       "      <td>0</td>\n",
       "      <td>...</td>\n",
       "      <td>0</td>\n",
       "      <td>0</td>\n",
       "      <td>0</td>\n",
       "      <td>0</td>\n",
       "      <td>0</td>\n",
       "      <td>0.059268</td>\n",
       "      <td>0.000000</td>\n",
       "      <td>0.918148</td>\n",
       "      <td>-0.032561</td>\n",
       "      <td>1</td>\n",
       "    </tr>\n",
       "    <tr>\n",
       "      <th>4</th>\n",
       "      <td>0</td>\n",
       "      <td>1</td>\n",
       "      <td>0</td>\n",
       "      <td>0</td>\n",
       "      <td>0</td>\n",
       "      <td>1</td>\n",
       "      <td>0</td>\n",
       "      <td>0</td>\n",
       "      <td>0</td>\n",
       "      <td>0</td>\n",
       "      <td>...</td>\n",
       "      <td>0</td>\n",
       "      <td>0</td>\n",
       "      <td>0</td>\n",
       "      <td>0</td>\n",
       "      <td>0</td>\n",
       "      <td>0.325974</td>\n",
       "      <td>0.753742</td>\n",
       "      <td>0.576515</td>\n",
       "      <td>0.532619</td>\n",
       "      <td>1</td>\n",
       "    </tr>\n",
       "  </tbody>\n",
       "</table>\n",
       "<p>5 rows × 71 columns</p>\n",
       "</div>"
      ],
      "text/plain": [
       "   ELECTIVE  EMERGENCY  URGENT  ** INFO NOT AVAILABLE **  \\\n",
       "0         0          1       0                         0   \n",
       "1         1          0       0                         0   \n",
       "2         0          1       0                         0   \n",
       "3         0          1       0                         0   \n",
       "4         0          1       0                         0   \n",
       "\n",
       "   CLINIC REFERRAL/PREMATURE  EMERGENCY ROOM ADMIT  HMO REFERRAL/SICK  \\\n",
       "0                          0                     1                  0   \n",
       "1                          0                     0                  0   \n",
       "2                          0                     0                  0   \n",
       "3                          0                     1                  0   \n",
       "4                          0                     1                  0   \n",
       "\n",
       "   PHYS REFERRAL/NORMAL DELI  TRANSFER FROM HOSP/EXTRAM  \\\n",
       "0                          0                          0   \n",
       "1                          1                          0   \n",
       "2                          1                          0   \n",
       "3                          0                          0   \n",
       "4                          0                          0   \n",
       "\n",
       "   TRANSFER FROM OTHER HEALT  ...  LIVER FAILURE  BLUNT TRAUMA  \\\n",
       "0                          0  ...              0             0   \n",
       "1                          0  ...              0             0   \n",
       "2                          0  ...              0             0   \n",
       "3                          0  ...              0             0   \n",
       "4                          0  ...              0             0   \n",
       "\n",
       "   ABDOMINAL AORTIC ANEURYSM  PANCREATIC MASS/SDA  ACUTE LEUKEMIA  \\\n",
       "0                          0                    0               0   \n",
       "1                          0                    0               0   \n",
       "2                          0                    0               0   \n",
       "3                          0                    0               0   \n",
       "4                          0                    0               0   \n",
       "\n",
       "   temperature_F  heart_rate_bps      ages       LOS  target  \n",
       "0      -0.237072       -0.323032  1.376425  0.119097       1  \n",
       "1      -0.503778        0.430710  0.588919  1.532958       1  \n",
       "2      -0.414876       -0.215355 -1.254031  0.207916       1  \n",
       "3       0.059268        0.000000  0.918148 -0.032561       1  \n",
       "4       0.325974        0.753742  0.576515  0.532619       1  \n",
       "\n",
       "[5 rows x 71 columns]"
      ]
     },
     "execution_count": 138,
     "metadata": {},
     "output_type": "execute_result"
    }
   ],
   "source": [
    "ADMISSIONS_CDiff_preprocess.head()"
   ]
  },
  {
   "cell_type": "code",
   "execution_count": 5,
   "metadata": {},
   "outputs": [],
   "source": [
    "from sklearn.linear_model import LogisticRegression\n",
    "from sklearn.model_selection import train_test_split\n",
    "from sklearn.ensemble import RandomForestClassifier\n",
    "from sklearn.ensemble import GradientBoostingClassifier\n",
    "from sklearn.metrics import roc_curve\n",
    "from sklearn.metrics import roc_auc_score"
   ]
  },
  {
   "cell_type": "code",
   "execution_count": 6,
   "metadata": {},
   "outputs": [],
   "source": [
    "admissions_cdiff_preprocess_shuffled_df = ADMISSIONS_CDiff_preprocess.sample(frac=1).reset_index(drop=True)"
   ]
  },
  {
   "cell_type": "code",
   "execution_count": 7,
   "metadata": {},
   "outputs": [],
   "source": [
    "#tree regressions\n",
    "X_tree = admissions_cdiff_preprocess_shuffled_df.loc[:, admissions_cdiff_preprocess_shuffled_df.columns != 'target']\n",
    "y_tree = admissions_cdiff_preprocess_shuffled_df.loc[:, admissions_cdiff_preprocess_shuffled_df.columns == 'target']"
   ]
  },
  {
   "cell_type": "code",
   "execution_count": 8,
   "metadata": {},
   "outputs": [],
   "source": [
    "#logistic regression take 2\n",
    "X_logreg2 = admissions_cdiff_preprocess_shuffled_df.loc[:, admissions_cdiff_preprocess_shuffled_df.columns != 'target']\n",
    "y_logreg2 = admissions_cdiff_preprocess_shuffled_df.loc[:, admissions_cdiff_preprocess_shuffled_df.columns == 'target']"
   ]
  },
  {
   "cell_type": "code",
   "execution_count": 9,
   "metadata": {},
   "outputs": [],
   "source": [
    "X_train_logreg2, X_test_logreg2, y_train_logreg2, y_test_logreg2 = train_test_split(X_logreg2, y_logreg2, test_size=0.3, random_state=0)"
   ]
  },
  {
   "cell_type": "code",
   "execution_count": null,
   "metadata": {},
   "outputs": [],
   "source": [
    "df_for_app_v3 = X_train_logreg2.head(1)"
   ]
  },
  {
   "cell_type": "code",
   "execution_count": null,
   "metadata": {},
   "outputs": [],
   "source": [
    "df_for_app_v3.to_csv(\"./data/df_for_app_ver3.csv\")"
   ]
  },
  {
   "cell_type": "code",
   "execution_count": 10,
   "metadata": {},
   "outputs": [
    {
     "name": "stderr",
     "output_type": "stream",
     "text": [
      "/home/walter/software/anaconda3/envs/cdiff/lib/python3.7/site-packages/sklearn/linear_model/logistic.py:432: FutureWarning: Default solver will be changed to 'lbfgs' in 0.22. Specify a solver to silence this warning.\n",
      "  FutureWarning)\n"
     ]
    }
   ],
   "source": [
    "logistic_regressor2 = LogisticRegression(C=0.5,penalty='l1',class_weight='balanced',max_iter=100)\n",
    "logistic_regressor2.fit(X_train_logreg2.to_numpy(), y_train_logreg2[\"target\"].tolist())\n",
    "y_pred_logreg2 = logistic_regressor2.predict(X_test_logreg2)"
   ]
  },
  {
   "cell_type": "code",
   "execution_count": 11,
   "metadata": {},
   "outputs": [
    {
     "data": {
      "text/plain": [
       "0.707977521269299"
      ]
     },
     "execution_count": 11,
     "metadata": {},
     "output_type": "execute_result"
    }
   ],
   "source": [
    "roc_auc_score(y_test_logreg2, y_pred_logreg2)"
   ]
  },
  {
   "cell_type": "code",
   "execution_count": 12,
   "metadata": {},
   "outputs": [],
   "source": [
    "X_train_tree, X_test_tree, y_train_tree, y_test_tree = train_test_split(X_tree, y_tree, test_size=0.3, random_state=0)"
   ]
  },
  {
   "cell_type": "code",
   "execution_count": 13,
   "metadata": {},
   "outputs": [],
   "source": [
    "random_forest_clf=RandomForestClassifier(n_estimators=100,max_depth=3,class_weight='balanced')\n",
    "random_forest_clf.fit(X_train_tree.to_numpy(),y_train_tree[\"target\"].tolist())\n",
    "y_pred_tree=random_forest_clf.predict(X_test_tree)"
   ]
  },
  {
   "cell_type": "code",
   "execution_count": 14,
   "metadata": {},
   "outputs": [
    {
     "data": {
      "text/plain": [
       "0.7123220577225393"
      ]
     },
     "execution_count": 14,
     "metadata": {},
     "output_type": "execute_result"
    }
   ],
   "source": [
    "roc_auc_score(y_test_tree, y_pred_tree)"
   ]
  },
  {
   "cell_type": "code",
   "execution_count": 15,
   "metadata": {},
   "outputs": [],
   "source": [
    "from imblearn.under_sampling import RandomUnderSampler as UnderSampler"
   ]
  },
  {
   "cell_type": "code",
   "execution_count": 16,
   "metadata": {},
   "outputs": [],
   "source": [
    "sampler = UnderSampler()\n",
    "X_tree_balanced, y_tree_balanced = sampler.fit_sample(X_train_tree.to_numpy(),y_train_tree[\"target\"].tolist())"
   ]
  },
  {
   "cell_type": "code",
   "execution_count": 17,
   "metadata": {},
   "outputs": [],
   "source": [
    "random_forest_gb_clf2=GradientBoostingClassifier(learning_rate=0.1,n_estimators=100,max_depth=3)\n",
    "random_forest_gb_clf2.fit(X_tree_balanced,y_tree_balanced)\n",
    "y_pred_gb_tree2=random_forest_gb_clf2.predict(X_test_tree)"
   ]
  },
  {
   "cell_type": "code",
   "execution_count": 18,
   "metadata": {},
   "outputs": [
    {
     "data": {
      "text/plain": [
       "0.7210714556542042"
      ]
     },
     "execution_count": 18,
     "metadata": {},
     "output_type": "execute_result"
    }
   ],
   "source": [
    "roc_auc_score(y_test_tree, y_pred_gb_tree2)"
   ]
  },
  {
   "cell_type": "markdown",
   "metadata": {},
   "source": [
    "## CROSS-VALIDATE GRADIENT BOOST CLASSIFIER/LOGISTIC REGRESSION"
   ]
  },
  {
   "cell_type": "code",
   "execution_count": 20,
   "metadata": {},
   "outputs": [],
   "source": [
    "from sklearn.model_selection import GridSearchCV\n",
    "from sklearn.model_selection import RandomizedSearchCV\n",
    "from sklearn.metrics import classification_report\n",
    "from scipy.stats import uniform\n",
    "from sklearn import linear_model, datasets\n",
    "import joblib"
   ]
  },
  {
   "cell_type": "code",
   "execution_count": 174,
   "metadata": {},
   "outputs": [],
   "source": [
    "# Create regularization penalty space\n",
    "penalty = ['l1', 'l2']\n",
    "\n",
    "# Create regularization hyperparameter distribution using uniform distribution\n",
    "C = [0.01,0.03,0.1,0.3,1,3]\n",
    "\n",
    "# Create hyperparameter options\n",
    "hyperparameters = dict(C=C, penalty=penalty)"
   ]
  },
  {
   "cell_type": "code",
   "execution_count": 175,
   "metadata": {},
   "outputs": [],
   "source": [
    "logistic = linear_model.LogisticRegression()\n",
    "clf = RandomizedSearchCV(logistic, hyperparameters, random_state=1, n_iter=100, cv=5, verbose=0, n_jobs=-1)"
   ]
  },
  {
   "cell_type": "code",
   "execution_count": 181,
   "metadata": {},
   "outputs": [
    {
     "name": "stderr",
     "output_type": "stream",
     "text": [
      "/home/walter/software/anaconda3/envs/cdiff/lib/python3.7/site-packages/sklearn/model_selection/_search.py:266: UserWarning: The total space of parameters 12 is smaller than n_iter=100. Running 12 iterations. For exhaustive searches, use GridSearchCV.\n",
      "  % (grid_size, self.n_iter, grid_size), UserWarning)\n",
      "/home/walter/software/anaconda3/envs/cdiff/lib/python3.7/site-packages/sklearn/linear_model/logistic.py:432: FutureWarning: Default solver will be changed to 'lbfgs' in 0.22. Specify a solver to silence this warning.\n",
      "  FutureWarning)\n",
      "/home/walter/software/anaconda3/envs/cdiff/lib/python3.7/site-packages/sklearn/utils/validation.py:724: DataConversionWarning: A column-vector y was passed when a 1d array was expected. Please change the shape of y to (n_samples, ), for example using ravel().\n",
      "  y = column_or_1d(y, warn=True)\n"
     ]
    }
   ],
   "source": [
    "best_model = clf.fit(X_train_logreg2.to_numpy(), y_train_logreg2.to_numpy())"
   ]
  },
  {
   "cell_type": "code",
   "execution_count": 182,
   "metadata": {},
   "outputs": [
    {
     "name": "stdout",
     "output_type": "stream",
     "text": [
      "Best Penalty: l1\n",
      "Best C: 0.01\n"
     ]
    }
   ],
   "source": [
    "# View best hyperparameters\n",
    "print('Best Penalty:', best_model.best_estimator_.get_params()['penalty'])\n",
    "print('Best C:', best_model.best_estimator_.get_params()['C'])"
   ]
  },
  {
   "cell_type": "code",
   "execution_count": 187,
   "metadata": {},
   "outputs": [
    {
     "name": "stdout",
     "output_type": "stream",
     "text": [
      "# Tuning hyper-parameters for precision_macro\n",
      "\n",
      "Best parameters set found on development set:\n",
      "\n",
      "{'max_depth': 3}\n",
      "\n",
      "Grid scores on development set:\n",
      "\n",
      "0.694 (+/-0.026) for {'max_depth': 3}\n",
      "0.690 (+/-0.048) for {'max_depth': 5}\n",
      "0.672 (+/-0.048) for {'max_depth': 10}\n",
      "0.657 (+/-0.038) for {'max_depth': 15}\n",
      "\n",
      "Detailed classification report:\n",
      "\n",
      "The model is trained on the full development set.\n",
      "The scores are computed on the full evaluation set.\n",
      "\n",
      "              precision    recall  f1-score   support\n",
      "\n",
      "           0       0.99      0.68      0.81     14143\n",
      "           1       0.06      0.75      0.12       407\n",
      "\n",
      "    accuracy                           0.68     14550\n",
      "   macro avg       0.53      0.71      0.46     14550\n",
      "weighted avg       0.96      0.68      0.79     14550\n",
      "\n",
      "\n",
      "# Tuning hyper-parameters for recall_macro\n",
      "\n",
      "Best parameters set found on development set:\n",
      "\n",
      "{'max_depth': 5}\n",
      "\n",
      "Grid scores on development set:\n",
      "\n",
      "0.692 (+/-0.029) for {'max_depth': 3}\n",
      "0.693 (+/-0.047) for {'max_depth': 5}\n",
      "0.669 (+/-0.043) for {'max_depth': 10}\n",
      "0.674 (+/-0.035) for {'max_depth': 15}\n",
      "\n",
      "Detailed classification report:\n",
      "\n",
      "The model is trained on the full development set.\n",
      "The scores are computed on the full evaluation set.\n",
      "\n",
      "              precision    recall  f1-score   support\n",
      "\n",
      "           0       0.99      0.67      0.80     14143\n",
      "           1       0.06      0.74      0.11       407\n",
      "\n",
      "    accuracy                           0.68     14550\n",
      "   macro avg       0.53      0.71      0.46     14550\n",
      "weighted avg       0.96      0.68      0.78     14550\n",
      "\n",
      "\n",
      "# Tuning hyper-parameters for roc_auc\n",
      "\n",
      "Best parameters set found on development set:\n",
      "\n",
      "{'max_depth': 3}\n",
      "\n",
      "Grid scores on development set:\n",
      "\n",
      "0.775 (+/-0.030) for {'max_depth': 3}\n",
      "0.757 (+/-0.030) for {'max_depth': 5}\n",
      "0.747 (+/-0.040) for {'max_depth': 10}\n",
      "0.724 (+/-0.037) for {'max_depth': 15}\n",
      "\n",
      "Detailed classification report:\n",
      "\n",
      "The model is trained on the full development set.\n",
      "The scores are computed on the full evaluation set.\n",
      "\n",
      "              precision    recall  f1-score   support\n",
      "\n",
      "           0       0.99      0.68      0.81     14143\n",
      "           1       0.06      0.75      0.12       407\n",
      "\n",
      "    accuracy                           0.68     14550\n",
      "   macro avg       0.53      0.71      0.46     14550\n",
      "weighted avg       0.96      0.68      0.79     14550\n",
      "\n",
      "\n"
     ]
    }
   ],
   "source": [
    "# Set the parameters by cross-validation\n",
    "tuned_parameters = [{'max_depth': [3, 5, 10, 15]}]\n",
    "\n",
    "scores = ['precision_macro', 'recall_macro','roc_auc']\n",
    "\n",
    "for score in scores:\n",
    "    print(\"# Tuning hyper-parameters for %s\" % score)\n",
    "    print()\n",
    "\n",
    "    clf = GridSearchCV(GradientBoostingClassifier(learning_rate=0.2,n_estimators=25), tuned_parameters, cv=5,\n",
    "                       scoring='%s' % score)\n",
    "    clf.fit(X_tree_balanced, y_tree_balanced)\n",
    "\n",
    "    print(\"Best parameters set found on development set:\")\n",
    "    print()\n",
    "    print(clf.best_params_)\n",
    "    print()\n",
    "    print(\"Grid scores on development set:\")\n",
    "    print()\n",
    "    means = clf.cv_results_['mean_test_score']\n",
    "    stds = clf.cv_results_['std_test_score']\n",
    "    for mean, std, params in zip(means, stds, clf.cv_results_['params']):\n",
    "        print(\"%0.3f (+/-%0.03f) for %r\"\n",
    "              % (mean, std * 2, params))\n",
    "    print()\n",
    "\n",
    "    print(\"Detailed classification report:\")\n",
    "    print()\n",
    "    print(\"The model is trained on the full development set.\")\n",
    "    print(\"The scores are computed on the full evaluation set.\")\n",
    "    print()\n",
    "    y_true, y_pred = y_test_tree, clf.predict(X_test_tree)\n",
    "    print(classification_report(y_true, y_pred))\n",
    "    print()\n",
    "\n",
    "# Note the problem is too easy: the hyperparameter plateau is too flat and the\n",
    "# output model is the same for precision and recall with ties in quality."
   ]
  },
  {
   "cell_type": "code",
   "execution_count": 184,
   "metadata": {},
   "outputs": [],
   "source": [
    "roc_auc_df = pd.DataFrame(index=[0.01,0.03,0.1,0.2],columns=[3,5,10,15])"
   ]
  },
  {
   "cell_type": "code",
   "execution_count": 188,
   "metadata": {},
   "outputs": [],
   "source": [
    "roc_auc_df.iloc[0] = [0.78,0.77,0.75,0.711]\n",
    "roc_auc_df.iloc[1] = [0.78,0.77,0.75,0.72]\n",
    "roc_auc_df.iloc[2] = [0.77,0.77,0.75,0.72]\n",
    "roc_auc_df.iloc[3] = [0.78,0.76,0.75,0.72]"
   ]
  },
  {
   "cell_type": "markdown",
   "metadata": {},
   "source": [
    "## Let's look at ROC Curve for optimal parameters (learning rate=0.1,max_depth=3,n_estimators=50)"
   ]
  },
  {
   "cell_type": "code",
   "execution_count": 21,
   "metadata": {},
   "outputs": [],
   "source": [
    "random_forest_gb_auc_clf=GradientBoostingClassifier(learning_rate=0.1,n_estimators=100,max_depth=3)\n",
    "random_forest_gb_auc_clf.fit(X_tree_balanced,y_tree_balanced)\n",
    "y_pred_gb_tree=random_forest_gb_auc_clf.predict(X_test_tree)"
   ]
  },
  {
   "cell_type": "code",
   "execution_count": 190,
   "metadata": {},
   "outputs": [
    {
     "data": {
      "image/png": "[encoded data removed]",
      "text/plain": [
       "<Figure size 432x361.44 with 1 Axes>"
      ]
     },
     "metadata": {
      "needs_background": "light"
     },
     "output_type": "display_data"
    }
   ],
   "source": [
    "logit_roc_auc = roc_auc_score(y_test_tree, y_pred_gb_tree)\n",
    "fpr,tpr, thresholds = roc_curve(y_test_tree, random_forest_gb_auc_clf.predict_proba(X_test_tree)[:,1])\n",
    "plt.figure()\n",
    "plt.plot(fpr, tpr, label='Gradient-Boosted Random Forest (area = %0.2f)' % logit_roc_auc)\n",
    "for x, y, txt in zip(fpr[::500], tpr[::500], thresholds[::500]):\n",
    "    plt.annotate(np.round(txt,2), (x, y-0.04))\n",
    "plt.plot([0, 1], [0, 1],'r--')\n",
    "plt.xlim([0.0, 1.0])\n",
    "plt.ylim([0.0, 1.05])\n",
    "plt.xlabel('False Positive Rate')\n",
    "plt.ylabel('True Positive Rate')\n",
    "plt.title('Receiver operating characteristic')\n",
    "plt.legend(loc=\"lower right\")\n",
    "plt.rcParams[\"figure.figsize\"] = [6.0,5.0];\n",
    "#plt.savefig('./week_3/GB_Random_Forest_ROC.jpg')\n",
    "plt.show()"
   ]
  },
  {
   "cell_type": "code",
   "execution_count": 191,
   "metadata": {},
   "outputs": [
    {
     "name": "stdout",
     "output_type": "stream",
     "text": [
      "# Tuning hyper-parameters for precision_macro\n",
      "\n"
     ]
    },
    {
     "name": "stderr",
     "output_type": "stream",
     "text": [
      "/home/walter/software/anaconda3/envs/cdiff/lib/python3.7/site-packages/sklearn/linear_model/logistic.py:432: FutureWarning: Default solver will be changed to 'lbfgs' in 0.22. Specify a solver to silence this warning.\n",
      "  FutureWarning)\n",
      "/home/walter/software/anaconda3/envs/cdiff/lib/python3.7/site-packages/sklearn/linear_model/logistic.py:432: FutureWarning: Default solver will be changed to 'lbfgs' in 0.22. Specify a solver to silence this warning.\n",
      "  FutureWarning)\n",
      "/home/walter/software/anaconda3/envs/cdiff/lib/python3.7/site-packages/sklearn/linear_model/logistic.py:432: FutureWarning: Default solver will be changed to 'lbfgs' in 0.22. Specify a solver to silence this warning.\n",
      "  FutureWarning)\n",
      "/home/walter/software/anaconda3/envs/cdiff/lib/python3.7/site-packages/sklearn/linear_model/logistic.py:432: FutureWarning: Default solver will be changed to 'lbfgs' in 0.22. Specify a solver to silence this warning.\n",
      "  FutureWarning)\n",
      "/home/walter/software/anaconda3/envs/cdiff/lib/python3.7/site-packages/sklearn/linear_model/logistic.py:432: FutureWarning: Default solver will be changed to 'lbfgs' in 0.22. Specify a solver to silence this warning.\n",
      "  FutureWarning)\n",
      "/home/walter/software/anaconda3/envs/cdiff/lib/python3.7/site-packages/sklearn/linear_model/logistic.py:432: FutureWarning: Default solver will be changed to 'lbfgs' in 0.22. Specify a solver to silence this warning.\n",
      "  FutureWarning)\n",
      "/home/walter/software/anaconda3/envs/cdiff/lib/python3.7/site-packages/sklearn/linear_model/logistic.py:432: FutureWarning: Default solver will be changed to 'lbfgs' in 0.22. Specify a solver to silence this warning.\n",
      "  FutureWarning)\n",
      "/home/walter/software/anaconda3/envs/cdiff/lib/python3.7/site-packages/sklearn/linear_model/logistic.py:432: FutureWarning: Default solver will be changed to 'lbfgs' in 0.22. Specify a solver to silence this warning.\n",
      "  FutureWarning)\n",
      "/home/walter/software/anaconda3/envs/cdiff/lib/python3.7/site-packages/sklearn/linear_model/logistic.py:432: FutureWarning: Default solver will be changed to 'lbfgs' in 0.22. Specify a solver to silence this warning.\n",
      "  FutureWarning)\n",
      "/home/walter/software/anaconda3/envs/cdiff/lib/python3.7/site-packages/sklearn/linear_model/logistic.py:432: FutureWarning: Default solver will be changed to 'lbfgs' in 0.22. Specify a solver to silence this warning.\n",
      "  FutureWarning)\n",
      "/home/walter/software/anaconda3/envs/cdiff/lib/python3.7/site-packages/sklearn/linear_model/logistic.py:432: FutureWarning: Default solver will be changed to 'lbfgs' in 0.22. Specify a solver to silence this warning.\n",
      "  FutureWarning)\n",
      "/home/walter/software/anaconda3/envs/cdiff/lib/python3.7/site-packages/sklearn/linear_model/logistic.py:432: FutureWarning: Default solver will be changed to 'lbfgs' in 0.22. Specify a solver to silence this warning.\n",
      "  FutureWarning)\n",
      "/home/walter/software/anaconda3/envs/cdiff/lib/python3.7/site-packages/sklearn/linear_model/logistic.py:432: FutureWarning: Default solver will be changed to 'lbfgs' in 0.22. Specify a solver to silence this warning.\n",
      "  FutureWarning)\n",
      "/home/walter/software/anaconda3/envs/cdiff/lib/python3.7/site-packages/sklearn/linear_model/logistic.py:432: FutureWarning: Default solver will be changed to 'lbfgs' in 0.22. Specify a solver to silence this warning.\n",
      "  FutureWarning)\n",
      "/home/walter/software/anaconda3/envs/cdiff/lib/python3.7/site-packages/sklearn/linear_model/logistic.py:432: FutureWarning: Default solver will be changed to 'lbfgs' in 0.22. Specify a solver to silence this warning.\n",
      "  FutureWarning)\n",
      "/home/walter/software/anaconda3/envs/cdiff/lib/python3.7/site-packages/sklearn/linear_model/logistic.py:432: FutureWarning: Default solver will be changed to 'lbfgs' in 0.22. Specify a solver to silence this warning.\n",
      "  FutureWarning)\n",
      "/home/walter/software/anaconda3/envs/cdiff/lib/python3.7/site-packages/sklearn/linear_model/logistic.py:432: FutureWarning: Default solver will be changed to 'lbfgs' in 0.22. Specify a solver to silence this warning.\n",
      "  FutureWarning)\n",
      "/home/walter/software/anaconda3/envs/cdiff/lib/python3.7/site-packages/sklearn/linear_model/logistic.py:432: FutureWarning: Default solver will be changed to 'lbfgs' in 0.22. Specify a solver to silence this warning.\n",
      "  FutureWarning)\n",
      "/home/walter/software/anaconda3/envs/cdiff/lib/python3.7/site-packages/sklearn/linear_model/logistic.py:432: FutureWarning: Default solver will be changed to 'lbfgs' in 0.22. Specify a solver to silence this warning.\n",
      "  FutureWarning)\n",
      "/home/walter/software/anaconda3/envs/cdiff/lib/python3.7/site-packages/sklearn/linear_model/logistic.py:432: FutureWarning: Default solver will be changed to 'lbfgs' in 0.22. Specify a solver to silence this warning.\n",
      "  FutureWarning)\n",
      "/home/walter/software/anaconda3/envs/cdiff/lib/python3.7/site-packages/sklearn/linear_model/logistic.py:432: FutureWarning: Default solver will be changed to 'lbfgs' in 0.22. Specify a solver to silence this warning.\n",
      "  FutureWarning)\n",
      "/home/walter/software/anaconda3/envs/cdiff/lib/python3.7/site-packages/sklearn/linear_model/logistic.py:432: FutureWarning: Default solver will be changed to 'lbfgs' in 0.22. Specify a solver to silence this warning.\n",
      "  FutureWarning)\n",
      "/home/walter/software/anaconda3/envs/cdiff/lib/python3.7/site-packages/sklearn/linear_model/logistic.py:432: FutureWarning: Default solver will be changed to 'lbfgs' in 0.22. Specify a solver to silence this warning.\n",
      "  FutureWarning)\n",
      "/home/walter/software/anaconda3/envs/cdiff/lib/python3.7/site-packages/sklearn/linear_model/logistic.py:432: FutureWarning: Default solver will be changed to 'lbfgs' in 0.22. Specify a solver to silence this warning.\n",
      "  FutureWarning)\n",
      "/home/walter/software/anaconda3/envs/cdiff/lib/python3.7/site-packages/sklearn/linear_model/logistic.py:432: FutureWarning: Default solver will be changed to 'lbfgs' in 0.22. Specify a solver to silence this warning.\n",
      "  FutureWarning)\n",
      "/home/walter/software/anaconda3/envs/cdiff/lib/python3.7/site-packages/sklearn/linear_model/logistic.py:432: FutureWarning: Default solver will be changed to 'lbfgs' in 0.22. Specify a solver to silence this warning.\n",
      "  FutureWarning)\n"
     ]
    },
    {
     "name": "stdout",
     "output_type": "stream",
     "text": [
      "Best parameters set found on development set:\n",
      "\n",
      "{'C': 0.3}\n",
      "\n",
      "Grid scores on development set:\n",
      "\n",
      "0.525 (+/-0.004) for {'C': 0.01}\n",
      "0.527 (+/-0.004) for {'C': 0.03}\n",
      "0.527 (+/-0.002) for {'C': 0.1}\n",
      "0.528 (+/-0.001) for {'C': 0.3}\n",
      "0.527 (+/-0.002) for {'C': 1}\n",
      "\n",
      "Detailed classification report:\n",
      "\n",
      "The model is trained on the full development set.\n",
      "The scores are computed on the full evaluation set.\n",
      "\n",
      "              precision    recall  f1-score   support\n",
      "\n",
      "           0       0.99      0.73      0.84     14143\n",
      "           1       0.07      0.69      0.13       407\n",
      "\n",
      "    accuracy                           0.73     14550\n",
      "   macro avg       0.53      0.71      0.48     14550\n",
      "weighted avg       0.96      0.73      0.82     14550\n",
      "\n",
      "\n",
      "# Tuning hyper-parameters for recall_macro\n",
      "\n"
     ]
    },
    {
     "name": "stderr",
     "output_type": "stream",
     "text": [
      "/home/walter/software/anaconda3/envs/cdiff/lib/python3.7/site-packages/sklearn/linear_model/logistic.py:432: FutureWarning: Default solver will be changed to 'lbfgs' in 0.22. Specify a solver to silence this warning.\n",
      "  FutureWarning)\n",
      "/home/walter/software/anaconda3/envs/cdiff/lib/python3.7/site-packages/sklearn/linear_model/logistic.py:432: FutureWarning: Default solver will be changed to 'lbfgs' in 0.22. Specify a solver to silence this warning.\n",
      "  FutureWarning)\n",
      "/home/walter/software/anaconda3/envs/cdiff/lib/python3.7/site-packages/sklearn/linear_model/logistic.py:432: FutureWarning: Default solver will be changed to 'lbfgs' in 0.22. Specify a solver to silence this warning.\n",
      "  FutureWarning)\n",
      "/home/walter/software/anaconda3/envs/cdiff/lib/python3.7/site-packages/sklearn/linear_model/logistic.py:432: FutureWarning: Default solver will be changed to 'lbfgs' in 0.22. Specify a solver to silence this warning.\n",
      "  FutureWarning)\n",
      "/home/walter/software/anaconda3/envs/cdiff/lib/python3.7/site-packages/sklearn/linear_model/logistic.py:432: FutureWarning: Default solver will be changed to 'lbfgs' in 0.22. Specify a solver to silence this warning.\n",
      "  FutureWarning)\n",
      "/home/walter/software/anaconda3/envs/cdiff/lib/python3.7/site-packages/sklearn/linear_model/logistic.py:432: FutureWarning: Default solver will be changed to 'lbfgs' in 0.22. Specify a solver to silence this warning.\n",
      "  FutureWarning)\n",
      "/home/walter/software/anaconda3/envs/cdiff/lib/python3.7/site-packages/sklearn/linear_model/logistic.py:432: FutureWarning: Default solver will be changed to 'lbfgs' in 0.22. Specify a solver to silence this warning.\n",
      "  FutureWarning)\n",
      "/home/walter/software/anaconda3/envs/cdiff/lib/python3.7/site-packages/sklearn/linear_model/logistic.py:432: FutureWarning: Default solver will be changed to 'lbfgs' in 0.22. Specify a solver to silence this warning.\n",
      "  FutureWarning)\n",
      "/home/walter/software/anaconda3/envs/cdiff/lib/python3.7/site-packages/sklearn/linear_model/logistic.py:432: FutureWarning: Default solver will be changed to 'lbfgs' in 0.22. Specify a solver to silence this warning.\n",
      "  FutureWarning)\n",
      "/home/walter/software/anaconda3/envs/cdiff/lib/python3.7/site-packages/sklearn/linear_model/logistic.py:432: FutureWarning: Default solver will be changed to 'lbfgs' in 0.22. Specify a solver to silence this warning.\n",
      "  FutureWarning)\n",
      "/home/walter/software/anaconda3/envs/cdiff/lib/python3.7/site-packages/sklearn/linear_model/logistic.py:432: FutureWarning: Default solver will be changed to 'lbfgs' in 0.22. Specify a solver to silence this warning.\n",
      "  FutureWarning)\n",
      "/home/walter/software/anaconda3/envs/cdiff/lib/python3.7/site-packages/sklearn/linear_model/logistic.py:432: FutureWarning: Default solver will be changed to 'lbfgs' in 0.22. Specify a solver to silence this warning.\n",
      "  FutureWarning)\n",
      "/home/walter/software/anaconda3/envs/cdiff/lib/python3.7/site-packages/sklearn/linear_model/logistic.py:432: FutureWarning: Default solver will be changed to 'lbfgs' in 0.22. Specify a solver to silence this warning.\n",
      "  FutureWarning)\n",
      "/home/walter/software/anaconda3/envs/cdiff/lib/python3.7/site-packages/sklearn/linear_model/logistic.py:432: FutureWarning: Default solver will be changed to 'lbfgs' in 0.22. Specify a solver to silence this warning.\n",
      "  FutureWarning)\n",
      "/home/walter/software/anaconda3/envs/cdiff/lib/python3.7/site-packages/sklearn/linear_model/logistic.py:432: FutureWarning: Default solver will be changed to 'lbfgs' in 0.22. Specify a solver to silence this warning.\n",
      "  FutureWarning)\n",
      "/home/walter/software/anaconda3/envs/cdiff/lib/python3.7/site-packages/sklearn/linear_model/logistic.py:432: FutureWarning: Default solver will be changed to 'lbfgs' in 0.22. Specify a solver to silence this warning.\n",
      "  FutureWarning)\n",
      "/home/walter/software/anaconda3/envs/cdiff/lib/python3.7/site-packages/sklearn/linear_model/logistic.py:432: FutureWarning: Default solver will be changed to 'lbfgs' in 0.22. Specify a solver to silence this warning.\n",
      "  FutureWarning)\n",
      "/home/walter/software/anaconda3/envs/cdiff/lib/python3.7/site-packages/sklearn/linear_model/logistic.py:432: FutureWarning: Default solver will be changed to 'lbfgs' in 0.22. Specify a solver to silence this warning.\n",
      "  FutureWarning)\n",
      "/home/walter/software/anaconda3/envs/cdiff/lib/python3.7/site-packages/sklearn/linear_model/logistic.py:432: FutureWarning: Default solver will be changed to 'lbfgs' in 0.22. Specify a solver to silence this warning.\n",
      "  FutureWarning)\n",
      "/home/walter/software/anaconda3/envs/cdiff/lib/python3.7/site-packages/sklearn/linear_model/logistic.py:432: FutureWarning: Default solver will be changed to 'lbfgs' in 0.22. Specify a solver to silence this warning.\n",
      "  FutureWarning)\n",
      "/home/walter/software/anaconda3/envs/cdiff/lib/python3.7/site-packages/sklearn/linear_model/logistic.py:432: FutureWarning: Default solver will be changed to 'lbfgs' in 0.22. Specify a solver to silence this warning.\n",
      "  FutureWarning)\n",
      "/home/walter/software/anaconda3/envs/cdiff/lib/python3.7/site-packages/sklearn/linear_model/logistic.py:432: FutureWarning: Default solver will be changed to 'lbfgs' in 0.22. Specify a solver to silence this warning.\n",
      "  FutureWarning)\n",
      "/home/walter/software/anaconda3/envs/cdiff/lib/python3.7/site-packages/sklearn/linear_model/logistic.py:432: FutureWarning: Default solver will be changed to 'lbfgs' in 0.22. Specify a solver to silence this warning.\n",
      "  FutureWarning)\n",
      "/home/walter/software/anaconda3/envs/cdiff/lib/python3.7/site-packages/sklearn/linear_model/logistic.py:432: FutureWarning: Default solver will be changed to 'lbfgs' in 0.22. Specify a solver to silence this warning.\n",
      "  FutureWarning)\n",
      "/home/walter/software/anaconda3/envs/cdiff/lib/python3.7/site-packages/sklearn/linear_model/logistic.py:432: FutureWarning: Default solver will be changed to 'lbfgs' in 0.22. Specify a solver to silence this warning.\n",
      "  FutureWarning)\n",
      "/home/walter/software/anaconda3/envs/cdiff/lib/python3.7/site-packages/sklearn/linear_model/logistic.py:432: FutureWarning: Default solver will be changed to 'lbfgs' in 0.22. Specify a solver to silence this warning.\n",
      "  FutureWarning)\n"
     ]
    },
    {
     "name": "stdout",
     "output_type": "stream",
     "text": [
      "Best parameters set found on development set:\n",
      "\n",
      "{'C': 0.03}\n",
      "\n",
      "Grid scores on development set:\n",
      "\n",
      "0.702 (+/-0.031) for {'C': 0.01}\n",
      "0.708 (+/-0.027) for {'C': 0.03}\n",
      "0.705 (+/-0.017) for {'C': 0.1}\n",
      "0.707 (+/-0.004) for {'C': 0.3}\n",
      "0.705 (+/-0.011) for {'C': 1}\n",
      "\n",
      "Detailed classification report:\n",
      "\n",
      "The model is trained on the full development set.\n",
      "The scores are computed on the full evaluation set.\n",
      "\n",
      "              precision    recall  f1-score   support\n",
      "\n",
      "           0       0.99      0.73      0.84     14143\n",
      "           1       0.07      0.69      0.12       407\n",
      "\n",
      "    accuracy                           0.73     14550\n",
      "   macro avg       0.53      0.71      0.48     14550\n",
      "weighted avg       0.96      0.73      0.82     14550\n",
      "\n",
      "\n",
      "# Tuning hyper-parameters for roc_auc\n",
      "\n"
     ]
    },
    {
     "name": "stderr",
     "output_type": "stream",
     "text": [
      "/home/walter/software/anaconda3/envs/cdiff/lib/python3.7/site-packages/sklearn/linear_model/logistic.py:432: FutureWarning: Default solver will be changed to 'lbfgs' in 0.22. Specify a solver to silence this warning.\n",
      "  FutureWarning)\n",
      "/home/walter/software/anaconda3/envs/cdiff/lib/python3.7/site-packages/sklearn/linear_model/logistic.py:432: FutureWarning: Default solver will be changed to 'lbfgs' in 0.22. Specify a solver to silence this warning.\n",
      "  FutureWarning)\n",
      "/home/walter/software/anaconda3/envs/cdiff/lib/python3.7/site-packages/sklearn/linear_model/logistic.py:432: FutureWarning: Default solver will be changed to 'lbfgs' in 0.22. Specify a solver to silence this warning.\n",
      "  FutureWarning)\n",
      "/home/walter/software/anaconda3/envs/cdiff/lib/python3.7/site-packages/sklearn/linear_model/logistic.py:432: FutureWarning: Default solver will be changed to 'lbfgs' in 0.22. Specify a solver to silence this warning.\n",
      "  FutureWarning)\n",
      "/home/walter/software/anaconda3/envs/cdiff/lib/python3.7/site-packages/sklearn/linear_model/logistic.py:432: FutureWarning: Default solver will be changed to 'lbfgs' in 0.22. Specify a solver to silence this warning.\n",
      "  FutureWarning)\n",
      "/home/walter/software/anaconda3/envs/cdiff/lib/python3.7/site-packages/sklearn/linear_model/logistic.py:432: FutureWarning: Default solver will be changed to 'lbfgs' in 0.22. Specify a solver to silence this warning.\n",
      "  FutureWarning)\n",
      "/home/walter/software/anaconda3/envs/cdiff/lib/python3.7/site-packages/sklearn/linear_model/logistic.py:432: FutureWarning: Default solver will be changed to 'lbfgs' in 0.22. Specify a solver to silence this warning.\n",
      "  FutureWarning)\n",
      "/home/walter/software/anaconda3/envs/cdiff/lib/python3.7/site-packages/sklearn/linear_model/logistic.py:432: FutureWarning: Default solver will be changed to 'lbfgs' in 0.22. Specify a solver to silence this warning.\n",
      "  FutureWarning)\n",
      "/home/walter/software/anaconda3/envs/cdiff/lib/python3.7/site-packages/sklearn/linear_model/logistic.py:432: FutureWarning: Default solver will be changed to 'lbfgs' in 0.22. Specify a solver to silence this warning.\n",
      "  FutureWarning)\n",
      "/home/walter/software/anaconda3/envs/cdiff/lib/python3.7/site-packages/sklearn/linear_model/logistic.py:432: FutureWarning: Default solver will be changed to 'lbfgs' in 0.22. Specify a solver to silence this warning.\n",
      "  FutureWarning)\n",
      "/home/walter/software/anaconda3/envs/cdiff/lib/python3.7/site-packages/sklearn/linear_model/logistic.py:432: FutureWarning: Default solver will be changed to 'lbfgs' in 0.22. Specify a solver to silence this warning.\n",
      "  FutureWarning)\n",
      "/home/walter/software/anaconda3/envs/cdiff/lib/python3.7/site-packages/sklearn/linear_model/logistic.py:432: FutureWarning: Default solver will be changed to 'lbfgs' in 0.22. Specify a solver to silence this warning.\n",
      "  FutureWarning)\n",
      "/home/walter/software/anaconda3/envs/cdiff/lib/python3.7/site-packages/sklearn/linear_model/logistic.py:432: FutureWarning: Default solver will be changed to 'lbfgs' in 0.22. Specify a solver to silence this warning.\n",
      "  FutureWarning)\n",
      "/home/walter/software/anaconda3/envs/cdiff/lib/python3.7/site-packages/sklearn/linear_model/logistic.py:432: FutureWarning: Default solver will be changed to 'lbfgs' in 0.22. Specify a solver to silence this warning.\n",
      "  FutureWarning)\n",
      "/home/walter/software/anaconda3/envs/cdiff/lib/python3.7/site-packages/sklearn/linear_model/logistic.py:432: FutureWarning: Default solver will be changed to 'lbfgs' in 0.22. Specify a solver to silence this warning.\n",
      "  FutureWarning)\n",
      "/home/walter/software/anaconda3/envs/cdiff/lib/python3.7/site-packages/sklearn/linear_model/logistic.py:432: FutureWarning: Default solver will be changed to 'lbfgs' in 0.22. Specify a solver to silence this warning.\n",
      "  FutureWarning)\n",
      "/home/walter/software/anaconda3/envs/cdiff/lib/python3.7/site-packages/sklearn/linear_model/logistic.py:432: FutureWarning: Default solver will be changed to 'lbfgs' in 0.22. Specify a solver to silence this warning.\n",
      "  FutureWarning)\n",
      "/home/walter/software/anaconda3/envs/cdiff/lib/python3.7/site-packages/sklearn/linear_model/logistic.py:432: FutureWarning: Default solver will be changed to 'lbfgs' in 0.22. Specify a solver to silence this warning.\n",
      "  FutureWarning)\n",
      "/home/walter/software/anaconda3/envs/cdiff/lib/python3.7/site-packages/sklearn/linear_model/logistic.py:432: FutureWarning: Default solver will be changed to 'lbfgs' in 0.22. Specify a solver to silence this warning.\n",
      "  FutureWarning)\n",
      "/home/walter/software/anaconda3/envs/cdiff/lib/python3.7/site-packages/sklearn/linear_model/logistic.py:432: FutureWarning: Default solver will be changed to 'lbfgs' in 0.22. Specify a solver to silence this warning.\n",
      "  FutureWarning)\n",
      "/home/walter/software/anaconda3/envs/cdiff/lib/python3.7/site-packages/sklearn/linear_model/logistic.py:432: FutureWarning: Default solver will be changed to 'lbfgs' in 0.22. Specify a solver to silence this warning.\n",
      "  FutureWarning)\n",
      "/home/walter/software/anaconda3/envs/cdiff/lib/python3.7/site-packages/sklearn/linear_model/logistic.py:432: FutureWarning: Default solver will be changed to 'lbfgs' in 0.22. Specify a solver to silence this warning.\n",
      "  FutureWarning)\n",
      "/home/walter/software/anaconda3/envs/cdiff/lib/python3.7/site-packages/sklearn/linear_model/logistic.py:432: FutureWarning: Default solver will be changed to 'lbfgs' in 0.22. Specify a solver to silence this warning.\n",
      "  FutureWarning)\n",
      "/home/walter/software/anaconda3/envs/cdiff/lib/python3.7/site-packages/sklearn/linear_model/logistic.py:432: FutureWarning: Default solver will be changed to 'lbfgs' in 0.22. Specify a solver to silence this warning.\n",
      "  FutureWarning)\n",
      "/home/walter/software/anaconda3/envs/cdiff/lib/python3.7/site-packages/sklearn/linear_model/logistic.py:432: FutureWarning: Default solver will be changed to 'lbfgs' in 0.22. Specify a solver to silence this warning.\n",
      "  FutureWarning)\n",
      "/home/walter/software/anaconda3/envs/cdiff/lib/python3.7/site-packages/sklearn/linear_model/logistic.py:432: FutureWarning: Default solver will be changed to 'lbfgs' in 0.22. Specify a solver to silence this warning.\n",
      "  FutureWarning)\n"
     ]
    },
    {
     "name": "stdout",
     "output_type": "stream",
     "text": [
      "Best parameters set found on development set:\n",
      "\n",
      "{'C': 0.1}\n",
      "\n",
      "Grid scores on development set:\n",
      "\n",
      "0.771 (+/-0.018) for {'C': 0.01}\n",
      "0.777 (+/-0.015) for {'C': 0.03}\n",
      "0.779 (+/-0.012) for {'C': 0.1}\n",
      "0.779 (+/-0.010) for {'C': 0.3}\n",
      "0.778 (+/-0.010) for {'C': 1}\n",
      "\n",
      "Detailed classification report:\n",
      "\n",
      "The model is trained on the full development set.\n",
      "The scores are computed on the full evaluation set.\n",
      "\n",
      "              precision    recall  f1-score   support\n",
      "\n",
      "           0       0.99      0.73      0.84     14143\n",
      "           1       0.07      0.68      0.12       407\n",
      "\n",
      "    accuracy                           0.73     14550\n",
      "   macro avg       0.53      0.71      0.48     14550\n",
      "weighted avg       0.96      0.73      0.82     14550\n",
      "\n",
      "\n"
     ]
    }
   ],
   "source": [
    "# Set the parameters by cross-validation\n",
    "tuned_parameters = [{'C': [0.01,0.03,0.1, 0.3, 1]}]\n",
    "\n",
    "scores = ['precision_macro', 'recall_macro','roc_auc']\n",
    "\n",
    "for score in scores:\n",
    "    print(\"# Tuning hyper-parameters for %s\" % score)\n",
    "    print()\n",
    "\n",
    "    clf = GridSearchCV(LogisticRegression(penalty='l1',class_weight='balanced',max_iter=100), tuned_parameters, cv=5,\n",
    "                       scoring='%s' % score)\n",
    "    clf.fit(X_train_logreg2.to_numpy(), y_train_logreg2[\"target\"].tolist())\n",
    "\n",
    "    print(\"Best parameters set found on development set:\")\n",
    "    print()\n",
    "    print(clf.best_params_)\n",
    "    print()\n",
    "    print(\"Grid scores on development set:\")\n",
    "    print()\n",
    "    means = clf.cv_results_['mean_test_score']\n",
    "    stds = clf.cv_results_['std_test_score']\n",
    "    for mean, std, params in zip(means, stds, clf.cv_results_['params']):\n",
    "        print(\"%0.3f (+/-%0.03f) for %r\"\n",
    "              % (mean, std * 2, params))\n",
    "    print()\n",
    "\n",
    "    print(\"Detailed classification report:\")\n",
    "    print()\n",
    "    print(\"The model is trained on the full development set.\")\n",
    "    print(\"The scores are computed on the full evaluation set.\")\n",
    "    print()\n",
    "    y_true, y_pred = y_test_logreg2, clf.predict(X_test_logreg2)\n",
    "    print(classification_report(y_true, y_pred))\n",
    "    print()\n",
    "\n",
    "# Note the problem is too easy: the hyperparameter plateau is too flat and the\n",
    "# output model is the same for precision and recall with ties in quality."
   ]
  },
  {
   "cell_type": "code",
   "execution_count": 204,
   "metadata": {},
   "outputs": [
    {
     "data": {
      "image/png": "[encoded data removed]",
      "text/plain": [
       "<Figure size 432x360 with 1 Axes>"
      ]
     },
     "metadata": {
      "needs_background": "light"
     },
     "output_type": "display_data"
    }
   ],
   "source": [
    "plt.figure()\n",
    "plt.plot([0.01,0.03,0.1,0.3,1],[0.771,0.777,0.779,0.779,0.778], c='k',lw=0.7,marker=\"s\",ms=10,label='Logistic Regression CV')\n",
    "plt.xticks([0.0,0.5, 1.0],fontsize=20)\n",
    "plt.yticks([0.77,0.775,0.78],fontsize=20)\n",
    "plt.xlim([-0.1, 1.05])\n",
    "plt.ylim([0.77, 0.785])\n",
    "plt.xlabel('C / Regularization parameter',fontsize=20)\n",
    "plt.ylabel('Area under ROC curve',fontsize=20)\n",
    "#plt.title('Receiver operating characteristic')\n",
    "#plt.legend(loc=\"lower right\")\n",
    "plt.legend(frameon=False,loc=\"upper left\",fontsize=15)\n",
    "plt.tight_layout()\n",
    "plt.rcParams[\"figure.figsize\"] = [6.0,5.0];\n",
    "plt.savefig('./week_4/Logistic_Regression_CV.jpg')\n",
    "plt.show()"
   ]
  },
  {
   "cell_type": "code",
   "execution_count": 23,
   "metadata": {},
   "outputs": [
    {
     "name": "stderr",
     "output_type": "stream",
     "text": [
      "/home/walter/software/anaconda3/envs/cdiff/lib/python3.7/site-packages/sklearn/linear_model/logistic.py:432: FutureWarning: Default solver will be changed to 'lbfgs' in 0.22. Specify a solver to silence this warning.\n",
      "  FutureWarning)\n"
     ]
    }
   ],
   "source": [
    "#C=0.03-1,auc is 0.78\n",
    "logistic_regressor_cv = LogisticRegression(C=0.03,penalty='l1',class_weight='balanced',max_iter=100)\n",
    "logistic_regressor_cv.fit(X_train_logreg2.to_numpy(), y_train_logreg2[\"target\"].tolist())\n",
    "y_pred_logreg = logistic_regressor_cv.predict(X_test_logreg2)"
   ]
  },
  {
   "cell_type": "code",
   "execution_count": 24,
   "metadata": {},
   "outputs": [
    {
     "data": {
      "text/plain": [
       "['./models/logistic_regressor_scaled_features.mdl']"
      ]
     },
     "execution_count": 24,
     "metadata": {},
     "output_type": "execute_result"
    }
   ],
   "source": [
    "joblib.dump(logistic_regressor_cv,\"./models/logistic_regressor_scaled_features.mdl\")"
   ]
  },
  {
   "cell_type": "code",
   "execution_count": 207,
   "metadata": {},
   "outputs": [
    {
     "data": {
      "image/png": "[encoded data removed]",
      "text/plain": [
       "<Figure size 432x360 with 1 Axes>"
      ]
     },
     "metadata": {
      "needs_background": "light"
     },
     "output_type": "display_data"
    }
   ],
   "source": [
    "logit_roc_auc = roc_auc_score(y_test_logreg2, y_pred_logreg)\n",
    "logit_roc_auc2 = roc_auc_score(y_test_tree, y_pred_tree)\n",
    "logit_roc_auc3 = roc_auc_score(y_test_tree, y_pred_gb_tree)\n",
    "fpr,tpr, thresholds = roc_curve(y_test_logreg2, logistic_regressor_cv.predict_proba(X_test_logreg2)[:,1])\n",
    "fpr2,tpr2,thresholds2 = roc_curve(y_test_tree, random_forest_clf.predict_proba(X_test_tree)[:,1])\n",
    "fpr3,tpr3, thresholds3 = roc_curve(y_test_tree, random_forest_gb_auc_clf.predict_proba(X_test_tree)[:,1])\n",
    "plt.figure()\n",
    "plt.plot(fpr, tpr, c='magenta',lw=3.0,label='Logistic Regression (area = %0.2f)' % logit_roc_auc)\n",
    "plt.plot(fpr,tpr,c='black',lw=1.0,ls='--',label='Random Forest (area = %0.2f)' % logit_roc_auc2)\n",
    "plt.plot(fpr3, tpr3, c='black',lw=1.0,label='GB Random Forest (area = %0.2f)' % logit_roc_auc3)\n",
    "#for x, y, txt in zip(fpr[::100], tpr[::100], thresholds[::100]):\n",
    "#    plt.annotate(np.round(txt,2), (x, y-0.06),fontsize=15)\n",
    "plt.plot([0, 1], [0, 1],'k--')\n",
    "plt.xticks([0.0,0.5,1.0],fontsize=20)\n",
    "plt.yticks([0.0,0.5,1.0],fontsize=20)\n",
    "plt.xlim([0.0, 1.0])\n",
    "plt.ylim([0.0, 1.5])\n",
    "plt.xlabel('False Positive Rate',fontsize=20)\n",
    "plt.ylabel('True Positive Rate',fontsize=20)\n",
    "#plt.title('Receiver operating characteristic')\n",
    "#plt.legend(loc=\"lower right\")\n",
    "plt.legend(frameon=False,loc=\"upper left\",fontsize=15)\n",
    "plt.tight_layout()\n",
    "plt.rcParams[\"figure.figsize\"] = [6.0,5.0];\n",
    "plt.savefig('./week_4/Logistic_Regression_RF_GBRF_AUCROC.jpg')\n",
    "plt.show()"
   ]
  },
  {
   "cell_type": "code",
   "execution_count": 208,
   "metadata": {},
   "outputs": [],
   "source": [
    "from sklearn.metrics import precision_recall_curve\n",
    "from sklearn import metrics"
   ]
  },
  {
   "cell_type": "code",
   "execution_count": 209,
   "metadata": {},
   "outputs": [],
   "source": [
    "sampler2 = UnderSampler(sampling_strategy=0.5)\n",
    "X_tree_balanced2, y_tree_balanced2 = sampler2.fit_sample(X_train_tree.to_numpy(),y_train_tree[\"target\"].tolist())\n",
    "sampler10 = UnderSampler(sampling_strategy=0.1)\n",
    "X_tree_balanced10, y_tree_balanced10 = sampler10.fit_sample(X_train_tree.to_numpy(),y_train_tree[\"target\"].tolist())"
   ]
  },
  {
   "cell_type": "code",
   "execution_count": 211,
   "metadata": {},
   "outputs": [
    {
     "data": {
      "image/png": "[encoded data removed]",
      "text/plain": [
       "<Figure size 432x360 with 1 Axes>"
      ]
     },
     "metadata": {
      "needs_background": "light"
     },
     "output_type": "display_data"
    }
   ],
   "source": [
    "#logit_roc_auc = roc_auc_score(y_test_tree, y_pred_gb_tree)\n",
    "precision_train,recall_train, thresholds_train = precision_recall_curve(y_tree_balanced, logistic_regressor_cv.predict_proba(X_tree_balanced)[:,1])\n",
    "precision2,recall2, thresholds2 = precision_recall_curve(y_tree_balanced2, logistic_regressor_cv.predict_proba(X_tree_balanced2)[:,1])\n",
    "precision10,recall10, thresholds10 = precision_recall_curve(y_tree_balanced10, logistic_regressor_cv.predict_proba(X_tree_balanced10)[:,1])\n",
    "precision,recall, thresholds = precision_recall_curve(y_test_logreg2, logistic_regressor_cv.predict_proba(X_test_logreg2)[:,1])\n",
    "\n",
    "plt.figure()\n",
    "plt.plot(recall_train, precision_train, label='+/- = 1:1 (area = %0.2f)' % metrics.auc(recall_train,precision_train))\n",
    "plt.plot(recall2, precision2, label='+/- = 2:1 (area = %0.2f)' % metrics.auc(recall2,precision2))\n",
    "plt.plot(recall10, precision10, label='+/- = 10:1 (area = %0.2f)' % metrics.auc(recall10,precision10))\n",
    "plt.plot(recall, precision, label='+/- = 98:2 (area = %0.2f)' % metrics.auc(recall,precision))\n",
    "\n",
    "#plt.plot([0, 1], [0, 1],'r--')\n",
    "#for x, y, txt in zip(recall[::3000], precision[::3000], thresholds[::3000]):\n",
    "#    plt.annotate(np.round(txt,2), (x, y-0.04))\n",
    "plt.xlim([0.0, 1.0])\n",
    "plt.ylim([0.0, 1.5])\n",
    "plt.xticks([0.0,0.5,1.0],fontsize=20)\n",
    "plt.yticks([0.0,0.5,1.0],fontsize=20)\n",
    "plt.xlabel('Recall',fontsize=20)\n",
    "plt.ylabel('Precision',fontsize=20)\n",
    "#plt.title('Precision-Recall Curve')\n",
    "plt.legend(loc=\"upper right\",fontsize=15,frameon=False)\n",
    "plt.rcParams[\"figure.figsize\"] = [6.0,5.0];\n",
    "plt.tight_layout()\n",
    "plt.savefig('./week_4/Logistic_regression_precision_recall_detection_limit.jpg')\n",
    "plt.show()"
   ]
  },
  {
   "cell_type": "code",
   "execution_count": 212,
   "metadata": {},
   "outputs": [
    {
     "data": {
      "text/plain": [
       "(14550, 1)"
      ]
     },
     "execution_count": 212,
     "metadata": {},
     "output_type": "execute_result"
    }
   ],
   "source": [
    "y_test_logreg2.shape"
   ]
  },
  {
   "cell_type": "code",
   "execution_count": 213,
   "metadata": {},
   "outputs": [],
   "source": [
    "random_guess = [0]*14550"
   ]
  },
  {
   "cell_type": "code",
   "execution_count": 214,
   "metadata": {},
   "outputs": [],
   "source": [
    "import random"
   ]
  },
  {
   "cell_type": "code",
   "execution_count": 215,
   "metadata": {},
   "outputs": [],
   "source": [
    "for idx,i in enumerate(random_guess):\n",
    "    x = random.uniform(0,1)\n",
    "    if x >= 0.98:\n",
    "        random_guess[idx] = 1"
   ]
  },
  {
   "cell_type": "code",
   "execution_count": 216,
   "metadata": {},
   "outputs": [
    {
     "data": {
      "image/png": "[encoded data removed]",
      "text/plain": [
       "<Figure size 432x360 with 1 Axes>"
      ]
     },
     "metadata": {
      "needs_background": "light"
     },
     "output_type": "display_data"
    }
   ],
   "source": [
    "#logit_roc_auc = roc_auc_score(y_test_tree, y_pred_gb_tree)\n",
    "precision_random,recall_random, thresholds_random = precision_recall_curve(y_test_logreg2, random_guess)\n",
    "precision,recall, thresholds = precision_recall_curve(y_test_logreg2, logistic_regressor_cv.predict_proba(X_test_logreg2)[:,1])\n",
    "precision_train,recall_train, thresholds_train = precision_recall_curve(y_tree_balanced, logistic_regressor_cv.predict_proba(X_tree_balanced)[:,1])\n",
    "plt.figure()\n",
    "plt.plot(recall_random, precision_random, label='Logist. Regr. random (area = %0.2f)' % metrics.auc(recall_random,precision_random))\n",
    "plt.plot(recall, precision, label='Logist. Regr. TEST (area = %0.2f)' % metrics.auc(recall,precision))\n",
    "#plt.plot(recall_train, precision_train, label='Logistic Regression TRAIN (area = %0.2f)' % metrics.auc(recall_train,precision_train))\n",
    "#plt.plot([0, 1], [0, 1],'r--')\n",
    "for x, y, txt in zip(recall[::3000], precision[::3000], thresholds[::3000]):\n",
    "    plt.annotate(np.round(txt,2), (x, y-0.04))\n",
    "plt.xlim([0.0, 1.0])\n",
    "plt.ylim([0.0, 1.05])\n",
    "plt.xlabel('Recall',fontsize=20)\n",
    "plt.ylabel('Precision',fontsize=20)\n",
    "plt.xticks([0,0.5,1.0],fontsize=20)\n",
    "plt.yticks([0,0.5,1.0],fontsize=20)\n",
    "#plt.title('Precision-Recall Curve')\n",
    "plt.legend(loc=\"upper right\",fontsize=15,frameon=False)\n",
    "plt.rcParams[\"figure.figsize\"] = [6.0,5.0];\n",
    "plt.tight_layout()\n",
    "#plt.savefig('./week_4/Logistic_regression_precision_recall_vs_random.jpg')\n",
    "plt.show()"
   ]
  },
  {
   "cell_type": "code",
   "execution_count": 217,
   "metadata": {},
   "outputs": [],
   "source": [
    "random_guess_test_set = random_guess"
   ]
  },
  {
   "cell_type": "code",
   "execution_count": 231,
   "metadata": {},
   "outputs": [],
   "source": [
    "random_guess_50 = [0]*1842"
   ]
  },
  {
   "cell_type": "code",
   "execution_count": 232,
   "metadata": {},
   "outputs": [],
   "source": [
    "for idx,i in enumerate(random_guess_50):\n",
    "    x = random.uniform(0,1)\n",
    "    if x >= 0.50:\n",
    "        random_guess_50[idx] = 1"
   ]
  },
  {
   "cell_type": "code",
   "execution_count": 244,
   "metadata": {},
   "outputs": [
    {
     "data": {
      "image/png": "[encoded data removed]",
      "text/plain": [
       "<Figure size 432x360 with 1 Axes>"
      ]
     },
     "metadata": {
      "needs_background": "light"
     },
     "output_type": "display_data"
    }
   ],
   "source": [
    "#logit_roc_auc = roc_auc_score(y_test_tree, y_pred_gb_tree)\n",
    "precision_train,recall_train, thresholds_train = precision_recall_curve(y_tree_balanced, logistic_regressor_cv.predict_proba(X_tree_balanced)[:,1])\n",
    "precision_random_50,recall_random_50, thresholds_random_50 = precision_recall_curve(y_tree_balanced, random_guess_50)\n",
    "precision_random,recall_random, thresholds_random = precision_recall_curve(y_test_logreg2, random_guess)\n",
    "precision,recall, thresholds = precision_recall_curve(y_test_logreg2, logistic_regressor_cv.predict_proba(X_test_logreg2)[:,1])\n",
    "precision_random_10,recall_random_10, thresholds_random_10 = precision_recall_curve(y_tree_balanced10, random_guess_10)\n",
    "precision10,recall10, thresholds10 = precision_recall_curve(y_tree_balanced10, logistic_regressor_cv.predict_proba(X_tree_balanced10)[:,1])\n",
    "plt.figure()\n",
    "plt.plot(recall_random, precision_random, c='r', label='+/- = 98:2 random')\n",
    "plt.plot(recall_random_10, precision_random_10, c='k', label='+/- = 90:1 random')\n",
    "plt.plot(recall_random_50, precision_random_50, c='b',label='+/- = 50:5 random')\n",
    "plt.plot(recall, precision, c='r',label='+/- = 98:2 Logist. Regr.')\n",
    "plt.plot(recall10, precision10,c='k', label='+/- = 90:1 Logist. Regr.')\n",
    "plt.plot(recall_train, precision_train,c='b', label='+/- = 50:50 Logist. Regr.')\n",
    "#plt.plot([0, 1], [0, 1],'r--')\n",
    "#for x, y, txt in zip(recall[::3000], precision[::3000], thresholds[::3000]):\n",
    " #   plt.annotate(np.round(txt,2), (x, y-0.04))\n",
    "plt.xlim([0.0, 1.05])\n",
    "plt.ylim([0.0, 2.0])\n",
    "plt.xlabel('Recall',fontsize=20)\n",
    "plt.ylabel('Precision',fontsize=20)\n",
    "plt.xticks([0,0.5,1.0],fontsize=20)\n",
    "plt.yticks([0,0.5,1.0],fontsize=20)\n",
    "#plt.title('Precision-Recall Curve')\n",
    "plt.legend(fontsize=15,frameon=False)\n",
    "plt.rcParams[\"figure.figsize\"] = [6.0,5.0];\n",
    "plt.tight_layout()\n",
    "plt.savefig('./week_4/Logistic_regression_precision_recall_vs_random.jpg')\n",
    "plt.show()"
   ]
  },
  {
   "cell_type": "code",
   "execution_count": 230,
   "metadata": {},
   "outputs": [
    {
     "data": {
      "text/plain": [
       "(1842,)"
      ]
     },
     "execution_count": 230,
     "metadata": {},
     "output_type": "execute_result"
    }
   ],
   "source": [
    "y_tree_balanced.shape"
   ]
  },
  {
   "cell_type": "markdown",
   "metadata": {},
   "source": [
    "### What are the important features in logistic regression?"
   ]
  },
  {
   "cell_type": "code",
   "execution_count": 245,
   "metadata": {},
   "outputs": [],
   "source": [
    "features_names = list(X_train_tree.columns)\n",
    "logistic_regression_coeffs = logistic_regressor_cv.coef_"
   ]
  },
  {
   "cell_type": "code",
   "execution_count": 247,
   "metadata": {},
   "outputs": [
    {
     "data": {
      "image/png": "[encoded data removed]",
      "text/plain": [
       "<Figure size 432x360 with 1 Axes>"
      ]
     },
     "metadata": {
      "needs_background": "light"
     },
     "output_type": "display_data"
    }
   ],
   "source": [
    "import operator\n",
    "x = dict(zip(features_names,logistic_regression_coeffs[0]))\n",
    "sorted_x = sorted(x.items(), key=operator.itemgetter(1))\n",
    "features = [item[0] for item in sorted_x]\n",
    "coeffs = [item[1] for item in sorted_x]\n",
    "\n",
    "\n",
    "plt.bar(features, coeffs , label=\"Real distribution\")\n",
    "\n",
    "plt.ylim(-5,5)\n",
    "plt.ylabel ('Percentage')\n",
    "plt.xlabel ('Significant number')\n",
    "#plt.xticks(list(keys))\n",
    "plt.legend (bbox_to_anchor=(1, 1), loc=\"upper right\", borderaxespad=0.)\n",
    "\n",
    "plt.show()"
   ]
  },
  {
   "cell_type": "code",
   "execution_count": 248,
   "metadata": {},
   "outputs": [
    {
     "data": {
      "text/plain": [
       "[('CORONARY ARTERY DISEASE', -0.623852812031532),\n",
       " ('PHYS REFERRAL/NORMAL DELI', -0.5717691930860272),\n",
       " ('ELECTIVE', -0.43268536322907286),\n",
       " ('OTHER', -0.31959157643880604),\n",
       " ('CLINIC REFERRAL/PREMATURE', -0.1828789215109791),\n",
       " ('ASIAN', -0.17298415780768628),\n",
       " ('INTRACRANIAL HEMORRHAGE', -0.15606210950816116),\n",
       " ('HISPANIC', -0.08622395384494073),\n",
       " ('URGENT', -0.049807052554758015),\n",
       " ('EMERGENCY ROOM ADMIT', -0.024488488379435406),\n",
       " ('EMERGENCY', 0.0),\n",
       " ('** INFO NOT AVAILABLE **', 0.0),\n",
       " ('HMO REFERRAL/SICK', 0.0),\n",
       " ('TRANSFER FROM OTHER HEALT', 0.0),\n",
       " ('TRANSFER FROM SKILLED NUR', 0.0),\n",
       " ('TRSF WITHIN THIS FACILITY', 0.0),\n",
       " ('BLACK', 0.0),\n",
       " ('CONGESTIVE HEART FAILURE', 0.0),\n",
       " ('ALTERED MENTAL STATUS', 0.0),\n",
       " ('UPPER GI BLEED', 0.0),\n",
       " ('GASTROINTESTINAL BLEED', 0.0),\n",
       " ('LOWER GI BLEED', 0.0),\n",
       " ('RESPIRATORY FAILURE', 0.0),\n",
       " ('CHEST PAIN', 0.0),\n",
       " ('S/P FALL', 0.0),\n",
       " ('GI BLEED', 0.0),\n",
       " ('TRANSIENT ISCHEMIC ATTACK', 0.0),\n",
       " ('UROSEPSIS', 0.0),\n",
       " ('DEHYDRATION', 0.0),\n",
       " ('WEAKNESS', 0.0),\n",
       " ('HIP FRACTURE', 0.0),\n",
       " ('SEIZURE', 0.0),\n",
       " ('SHORTNESS OF BREATH', 0.0),\n",
       " ('ASTHMA', 0.0),\n",
       " ('SUBDURAL HEMATOMA', 0.0),\n",
       " ('DIABETIC KETOACIDOSIS', 0.0),\n",
       " ('ANEMIA', 0.0),\n",
       " ('UPPER GASTROINTESTINAL BLEED', 0.0),\n",
       " ('LYMPHOMA', 0.0),\n",
       " ('BACTEREMIA', 0.0),\n",
       " ('HYPERKALEMIA', 0.0),\n",
       " ('BOWEL OBSTRUCTION', 0.0),\n",
       " ('CELLULITIS', 0.0),\n",
       " ('CHOLECYSTITIS', 0.0),\n",
       " ('LIVER FAILURE', 0.0),\n",
       " ('BLUNT TRAUMA', 0.0),\n",
       " ('ABDOMINAL AORTIC ANEURYSM', 0.0),\n",
       " ('PANCREATIC MASS/SDA', 0.0),\n",
       " ('ACUTE LEUKEMIA', 0.0),\n",
       " ('temperature_F', 0.00011655707539632543),\n",
       " ('WHITE', 0.009212092650530655),\n",
       " ('URINARY TRACT INFECTION.1', 0.0172645252371747),\n",
       " ('TRANSFER FROM HOSP/EXTRAM', 0.07918020596146015),\n",
       " ('DYSPNEA', 0.09833705516347052),\n",
       " ('RESPIRATORY DISTRESS', 0.12647427695167762),\n",
       " ('ACUTE RENAL FAILURE', 0.1693994651938321),\n",
       " ('RENAL FAILURE', 0.1968431590536025),\n",
       " ('ABDOMINAL PAIN', 0.2035615979537051),\n",
       " ('heart_rate_bps', 0.2391942824459903),\n",
       " ('PANCREATITIS', 0.26945725733328296),\n",
       " ('LOWER GASTROINTESTINAL BLEED', 0.2857181966992187),\n",
       " ('URINARY TRACT INFECTION', 0.32231552535749347),\n",
       " ('PNEUMONIA', 0.34527479870895583),\n",
       " ('ages', 0.48768612669752603),\n",
       " ('LOS', 0.7065088634838537),\n",
       " ('HYPOTENSION', 1.0269013291630624),\n",
       " ('DIARRHEA', 1.0279929052160082),\n",
       " ('FEVER', 1.0908306284086113),\n",
       " ('SEPSIS', 1.3666301515479757),\n",
       " ('COLITIS', 1.639806740655784)]"
      ]
     },
     "execution_count": 248,
     "metadata": {},
     "output_type": "execute_result"
    }
   ],
   "source": [
    "sorted_x"
   ]
  },
  {
   "cell_type": "code",
   "execution_count": 249,
   "metadata": {},
   "outputs": [],
   "source": [
    "log_reg_feature_importance = pd.DataFrame({'feature':['Colitis','Sepsis','Fever','Diarrhea','Hypotension','Length of Stay','Age'],'weight':[1.63,1.4,1.1,1.03,1.03,0.7,0.49]})\n"
   ]
  },
  {
   "cell_type": "code",
   "execution_count": 250,
   "metadata": {},
   "outputs": [
    {
     "data": {
      "image/png": "[encoded data removed]",
      "text/plain": [
       "<Figure size 432x360 with 1 Axes>"
      ]
     },
     "metadata": {
      "needs_background": "light"
     },
     "output_type": "display_data"
    }
   ],
   "source": [
    "log_reg_feature_importance.plot(kind='bar',legend=None,x='feature',y='weight',facecolor='deepskyblue',edgecolor='black');\n",
    "plt.xticks(fontsize=20)\n",
    "plt.xlabel('');\n",
    "plt.yticks([0.0,1.0,2.0,3.0],fontsize=20);\n",
    "plt.ylabel('weights',fontsize=20);\n",
    "plt.rcParams[\"figure.figsize\"] = [6.0,5.0];\n",
    "plt.tight_layout();\n",
    "plt.savefig(\"./week_4/feature_importance_log_reg.jpg\")"
   ]
  },
  {
   "cell_type": "markdown",
   "metadata": {},
   "source": [
    "## PROBABILITY DISTRIBUTION OF POSTIVE AND NEGATIVE CASES"
   ]
  },
  {
   "cell_type": "code",
   "execution_count": 25,
   "metadata": {},
   "outputs": [],
   "source": [
    "logistic_regressor = joblib.load(\"./models/logistic_regressor_scaled_features.mdl\")"
   ]
  },
  {
   "cell_type": "code",
   "execution_count": 27,
   "metadata": {},
   "outputs": [],
   "source": [
    "cdiff_pos_preprocess = ADMISSIONS_CDiff_preprocess.loc[ADMISSIONS_CDiff_preprocess['target'] == 1]\n",
    "cdiff_neg_preprocess = ADMISSIONS_CDiff_preprocess.loc[ADMISSIONS_CDiff_preprocess['target'] == 0]\n",
    "cdiff_pos_preprocess_inputs = cdiff_pos_preprocess.loc[:,cdiff_pos_preprocess.columns != 'target']\n",
    "cdiff_neg_preprocess_inputs = cdiff_neg_preprocess.loc[:,cdiff_neg_preprocess.columns != 'target']"
   ]
  },
  {
   "cell_type": "code",
   "execution_count": 28,
   "metadata": {},
   "outputs": [],
   "source": [
    "cdiff_pos_probs = logistic_regressor.predict_proba(cdiff_pos_preprocess_inputs.to_numpy())[:,1]\n",
    "cdiff_neg_probs = logistic_regressor.predict_proba(cdiff_neg_preprocess_inputs.to_numpy())[:,1]"
   ]
  },
  {
   "cell_type": "code",
   "execution_count": 29,
   "metadata": {},
   "outputs": [],
   "source": [
    "cdiff_pos_probs = pd.DataFrame({'C. diff. positive':cdiff_pos_probs})\n",
    "cdiff_neg_probs = pd.DataFrame({'C. diff. negative':cdiff_neg_probs})"
   ]
  },
  {
   "cell_type": "code",
   "execution_count": 32,
   "metadata": {},
   "outputs": [
    {
     "name": "stderr",
     "output_type": "stream",
     "text": [
      "/home/walter/software/anaconda3/envs/cdiff/lib/python3.7/site-packages/ipykernel_launcher.py:1: FutureWarning: The signature of `Series.to_csv` was aligned to that of `DataFrame.to_csv`, and argument 'header' will change its default value from False to True: please pass an explicit value to suppress this warning.\n",
      "  \"\"\"Entry point for launching an IPython kernel.\n",
      "/home/walter/software/anaconda3/envs/cdiff/lib/python3.7/site-packages/ipykernel_launcher.py:2: FutureWarning: The signature of `Series.to_csv` was aligned to that of `DataFrame.to_csv`, and argument 'header' will change its default value from False to True: please pass an explicit value to suppress this warning.\n",
      "  \n"
     ]
    }
   ],
   "source": [
    "cdiff_pos_probs['C. diff. positive'].to_csv(\"./data/p_dists/cdiff_pos_prob_scaled_features.csv\",index=False)\n",
    "cdiff_neg_probs['C. diff. negative'].to_csv(\"./data/p_dists/cdiff_neg_prob_scaled_features.csv\",index=False)"
   ]
  },
  {
   "cell_type": "code",
   "execution_count": 31,
   "metadata": {},
   "outputs": [
    {
     "data": {
      "image/png": "[encoded data removed]",
      "text/plain": [
       "<Figure size 432x360 with 1 Axes>"
      ]
     },
     "metadata": {
      "needs_background": "light"
     },
     "output_type": "display_data"
    }
   ],
   "source": [
    "ax=plt.gca()\n",
    "ax.set_xticks(np.arange(0.0,1.0,0.05),minor=True)\n",
    "ax.set_yticks(np.arange(0.0,3.0,0.25),minor=True)\n",
    "cdiff_pos_probs.hist(bins=50,density=True,grid=False,ax=ax,alpha=0.7);\n",
    "cdiff_neg_probs.hist(bins=300,density=True,grid=False,ax=ax,alpha=0.7);\n",
    "plt.title(label=\"\");\n",
    "cdiff_pos = mlines.Line2D([], [], c='b', lw=1.0, label = 'C. Diff. positive patients');\n",
    "cdiff_neg = mlines.Line2D([], [], c='orange', lw=1.0, label='C. Diff. negative patients');\n",
    "plt.legend(handles=[cdiff_pos,cdiff_neg],frameon=False,fontsize=15);\n",
    "plt.xlabel(\"Risk assessment\",fontsize=20);\n",
    "plt.ylabel(\"Patient frequency\",fontsize=20);\n",
    "plt.xticks([0.0,0.25,0.5,0.75,1.0],fontsize=20);\n",
    "plt.yticks([0.0,1.0,2.0],fontsize=20);\n",
    "plt.ylim([0,3.0]);\n",
    "plt.rcParams[\"figure.figsize\"] = [6.0,5.0];\n",
    "plt.tight_layout();\n",
    "plt.savefig(\"./week_4/cdiff_populations.jpg\")"
   ]
  },
  {
   "cell_type": "code",
   "execution_count": 33,
   "metadata": {},
   "outputs": [],
   "source": [
    "features_names = list(X_train_tree.columns)\n",
    "logistic_regression_coeffs = logistic_regressor.coef_"
   ]
  },
  {
   "cell_type": "code",
   "execution_count": 34,
   "metadata": {},
   "outputs": [
    {
     "data": {
      "image/png": "[encoded data removed]",
      "text/plain": [
       "<Figure size 432x360 with 1 Axes>"
      ]
     },
     "metadata": {
      "needs_background": "light"
     },
     "output_type": "display_data"
    }
   ],
   "source": [
    "import operator\n",
    "x = dict(zip(features_names,logistic_regression_coeffs[0]))\n",
    "sorted_x = sorted(x.items(), key=operator.itemgetter(1))\n",
    "features = [item[0] for item in sorted_x]\n",
    "coeffs = [item[1] for item in sorted_x]\n",
    "\n",
    "\n",
    "plt.bar(features, coeffs , label=\"Real distribution\")\n",
    "\n",
    "plt.ylim(-5,5)\n",
    "plt.ylabel ('Percentage')\n",
    "plt.xlabel ('Significant number')\n",
    "#plt.xticks(list(keys))\n",
    "plt.legend (bbox_to_anchor=(1, 1), loc=\"upper right\", borderaxespad=0.)\n",
    "\n",
    "plt.show()"
   ]
  },
  {
   "cell_type": "code",
   "execution_count": 35,
   "metadata": {},
   "outputs": [
    {
     "data": {
      "text/plain": [
       "[('CORONARY ARTERY DISEASE', -0.6397193868251428),\n",
       " ('PHYS REFERRAL/NORMAL DELI', -0.5764023931873339),\n",
       " ('ELECTIVE', -0.4526564653950997),\n",
       " ('CHEST PAIN', -0.31736456877874397),\n",
       " ('CLINIC REFERRAL/PREMATURE', -0.3080362911492345),\n",
       " ('URGENT', -0.2888966575202032),\n",
       " ('OTHER', -0.28309056595282234),\n",
       " ('HISPANIC', -0.2451015036853609),\n",
       " ('ASIAN', -0.10308116542936734),\n",
       " ('EMERGENCY ROOM ADMIT', -0.05249467753371697),\n",
       " ('INTRACRANIAL HEMORRHAGE', -0.02602530251593576),\n",
       " ('EMERGENCY', 0.0),\n",
       " ('** INFO NOT AVAILABLE **', 0.0),\n",
       " ('HMO REFERRAL/SICK', 0.0),\n",
       " ('TRANSFER FROM HOSP/EXTRAM', 0.0),\n",
       " ('TRANSFER FROM SKILLED NUR', 0.0),\n",
       " ('TRSF WITHIN THIS FACILITY', 0.0),\n",
       " ('BLACK', 0.0),\n",
       " ('CONGESTIVE HEART FAILURE', 0.0),\n",
       " ('UPPER GI BLEED', 0.0),\n",
       " ('GASTROINTESTINAL BLEED', 0.0),\n",
       " ('LOWER GI BLEED', 0.0),\n",
       " ('S/P FALL', 0.0),\n",
       " ('DYSPNEA', 0.0),\n",
       " ('GI BLEED', 0.0),\n",
       " ('TRANSIENT ISCHEMIC ATTACK', 0.0),\n",
       " ('UROSEPSIS', 0.0),\n",
       " ('RESPIRATORY DISTRESS', 0.0),\n",
       " ('WEAKNESS', 0.0),\n",
       " ('HIP FRACTURE', 0.0),\n",
       " ('SEIZURE', 0.0),\n",
       " ('SHORTNESS OF BREATH', 0.0),\n",
       " ('ASTHMA', 0.0),\n",
       " ('SUBDURAL HEMATOMA', 0.0),\n",
       " ('DIABETIC KETOACIDOSIS', 0.0),\n",
       " ('ANEMIA', 0.0),\n",
       " ('UPPER GASTROINTESTINAL BLEED', 0.0),\n",
       " ('LYMPHOMA', 0.0),\n",
       " ('BACTEREMIA', 0.0),\n",
       " ('HYPERKALEMIA', 0.0),\n",
       " ('BOWEL OBSTRUCTION', 0.0),\n",
       " ('CELLULITIS', 0.0),\n",
       " ('RENAL FAILURE', 0.0),\n",
       " ('CHOLECYSTITIS', 0.0),\n",
       " ('LIVER FAILURE', 0.0),\n",
       " ('BLUNT TRAUMA', 0.0),\n",
       " ('ABDOMINAL AORTIC ANEURYSM', 0.0),\n",
       " ('PANCREATIC MASS/SDA', 0.0),\n",
       " ('ACUTE LEUKEMIA', 0.0),\n",
       " ('temperature_F', 0.0010400214276297661),\n",
       " ('WHITE', 0.012837907007346036),\n",
       " ('PANCREATITIS', 0.043858879110568474),\n",
       " ('URINARY TRACT INFECTION', 0.06037385291451817),\n",
       " ('TRANSFER FROM OTHER HEALT', 0.12007960495326361),\n",
       " ('ALTERED MENTAL STATUS', 0.1547209484695538),\n",
       " ('DEHYDRATION', 0.1639314665221372),\n",
       " ('LOWER GASTROINTESTINAL BLEED', 0.19319104410322643),\n",
       " ('heart_rate_bps', 0.2507249408282876),\n",
       " ('RESPIRATORY FAILURE', 0.29815996528451777),\n",
       " ('ACUTE RENAL FAILURE', 0.43422928388327947),\n",
       " ('ages', 0.44772607013337246),\n",
       " ('URINARY TRACT INFECTION.1', 0.5003938389723549),\n",
       " ('ABDOMINAL PAIN', 0.6196194555884339),\n",
       " ('PNEUMONIA', 0.6221261710476547),\n",
       " ('LOS', 0.7040050231804215),\n",
       " ('FEVER', 0.8041208233249394),\n",
       " ('DIARRHEA', 1.0636934702030894),\n",
       " ('HYPOTENSION', 1.1137132644143415),\n",
       " ('SEPSIS', 1.3743141560280445),\n",
       " ('COLITIS', 2.1046999861471503)]"
      ]
     },
     "execution_count": 35,
     "metadata": {},
     "output_type": "execute_result"
    }
   ],
   "source": [
    "sorted_x"
   ]
  },
  {
   "cell_type": "code",
   "execution_count": null,
   "metadata": {},
   "outputs": [],
   "source": []
  }
 ],
 "metadata": {
  "kernelspec": {
   "display_name": "Python 3",
   "language": "python",
   "name": "python3"
  },
  "language_info": {
   "codemirror_mode": {
    "name": "ipython",
    "version": 3
   },
   "file_extension": ".py",
   "mimetype": "text/x-python",
   "name": "python",
   "nbconvert_exporter": "python",
   "pygments_lexer": "ipython3",
   "version": "3.7.3"
  }
 },
 "nbformat": 4,
 "nbformat_minor": 2
}
