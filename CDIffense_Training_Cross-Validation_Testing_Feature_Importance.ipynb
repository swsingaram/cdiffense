{
 "cells": [
  {
   "cell_type": "markdown",
   "metadata": {},
   "source": [
    "## pre-process for training"
   ]
  },
  {
   "cell_type": "code",
   "execution_count": 36,
   "metadata": {},
   "outputs": [],
   "source": [
    "import pandas as pd\n",
    "import matplotlib.pyplot as plt"
   ]
  },
  {
   "cell_type": "code",
   "execution_count": 3,
   "metadata": {},
   "outputs": [
    {
     "data": {
      "text/html": [
       "<div>\n",
       "<style scoped>\n",
       "    .dataframe tbody tr th:only-of-type {\n",
       "        vertical-align: middle;\n",
       "    }\n",
       "\n",
       "    .dataframe tbody tr th {\n",
       "        vertical-align: top;\n",
       "    }\n",
       "\n",
       "    .dataframe thead th {\n",
       "        text-align: right;\n",
       "    }\n",
       "</style>\n",
       "<table border=\"1\" class=\"dataframe\">\n",
       "  <thead>\n",
       "    <tr style=\"text-align: right;\">\n",
       "      <th></th>\n",
       "      <th>ELECTIVE</th>\n",
       "      <th>EMERGENCY</th>\n",
       "      <th>URGENT</th>\n",
       "      <th>** INFO NOT AVAILABLE **</th>\n",
       "      <th>CLINIC REFERRAL/PREMATURE</th>\n",
       "      <th>EMERGENCY ROOM ADMIT</th>\n",
       "      <th>HMO REFERRAL/SICK</th>\n",
       "      <th>PHYS REFERRAL/NORMAL DELI</th>\n",
       "      <th>TRANSFER FROM HOSP/EXTRAM</th>\n",
       "      <th>TRANSFER FROM OTHER HEALT</th>\n",
       "      <th>...</th>\n",
       "      <th>LIVER FAILURE</th>\n",
       "      <th>BLUNT TRAUMA</th>\n",
       "      <th>ABDOMINAL AORTIC ANEURYSM</th>\n",
       "      <th>PANCREATIC MASS/SDA</th>\n",
       "      <th>ACUTE LEUKEMIA</th>\n",
       "      <th>temperature_F</th>\n",
       "      <th>heart_rate_bps</th>\n",
       "      <th>ages</th>\n",
       "      <th>LOS</th>\n",
       "      <th>target</th>\n",
       "    </tr>\n",
       "  </thead>\n",
       "  <tbody>\n",
       "    <tr>\n",
       "      <th>0</th>\n",
       "      <td>0</td>\n",
       "      <td>1</td>\n",
       "      <td>0</td>\n",
       "      <td>0</td>\n",
       "      <td>0</td>\n",
       "      <td>1</td>\n",
       "      <td>0</td>\n",
       "      <td>0</td>\n",
       "      <td>0</td>\n",
       "      <td>0</td>\n",
       "      <td>...</td>\n",
       "      <td>0</td>\n",
       "      <td>0</td>\n",
       "      <td>0</td>\n",
       "      <td>0</td>\n",
       "      <td>0</td>\n",
       "      <td>-0.237072</td>\n",
       "      <td>-0.323032</td>\n",
       "      <td>1.376425</td>\n",
       "      <td>0.119097</td>\n",
       "      <td>1</td>\n",
       "    </tr>\n",
       "    <tr>\n",
       "      <th>1</th>\n",
       "      <td>1</td>\n",
       "      <td>0</td>\n",
       "      <td>0</td>\n",
       "      <td>0</td>\n",
       "      <td>0</td>\n",
       "      <td>0</td>\n",
       "      <td>0</td>\n",
       "      <td>1</td>\n",
       "      <td>0</td>\n",
       "      <td>0</td>\n",
       "      <td>...</td>\n",
       "      <td>0</td>\n",
       "      <td>0</td>\n",
       "      <td>0</td>\n",
       "      <td>0</td>\n",
       "      <td>0</td>\n",
       "      <td>-0.503778</td>\n",
       "      <td>0.430710</td>\n",
       "      <td>0.588919</td>\n",
       "      <td>1.532958</td>\n",
       "      <td>1</td>\n",
       "    </tr>\n",
       "    <tr>\n",
       "      <th>2</th>\n",
       "      <td>0</td>\n",
       "      <td>1</td>\n",
       "      <td>0</td>\n",
       "      <td>0</td>\n",
       "      <td>0</td>\n",
       "      <td>0</td>\n",
       "      <td>0</td>\n",
       "      <td>1</td>\n",
       "      <td>0</td>\n",
       "      <td>0</td>\n",
       "      <td>...</td>\n",
       "      <td>0</td>\n",
       "      <td>0</td>\n",
       "      <td>0</td>\n",
       "      <td>0</td>\n",
       "      <td>0</td>\n",
       "      <td>-0.414876</td>\n",
       "      <td>-0.215355</td>\n",
       "      <td>-1.254031</td>\n",
       "      <td>0.207916</td>\n",
       "      <td>1</td>\n",
       "    </tr>\n",
       "    <tr>\n",
       "      <th>3</th>\n",
       "      <td>0</td>\n",
       "      <td>1</td>\n",
       "      <td>0</td>\n",
       "      <td>0</td>\n",
       "      <td>0</td>\n",
       "      <td>1</td>\n",
       "      <td>0</td>\n",
       "      <td>0</td>\n",
       "      <td>0</td>\n",
       "      <td>0</td>\n",
       "      <td>...</td>\n",
       "      <td>0</td>\n",
       "      <td>0</td>\n",
       "      <td>0</td>\n",
       "      <td>0</td>\n",
       "      <td>0</td>\n",
       "      <td>0.059268</td>\n",
       "      <td>0.000000</td>\n",
       "      <td>0.918148</td>\n",
       "      <td>-0.032561</td>\n",
       "      <td>1</td>\n",
       "    </tr>\n",
       "    <tr>\n",
       "      <th>4</th>\n",
       "      <td>0</td>\n",
       "      <td>1</td>\n",
       "      <td>0</td>\n",
       "      <td>0</td>\n",
       "      <td>0</td>\n",
       "      <td>1</td>\n",
       "      <td>0</td>\n",
       "      <td>0</td>\n",
       "      <td>0</td>\n",
       "      <td>0</td>\n",
       "      <td>...</td>\n",
       "      <td>0</td>\n",
       "      <td>0</td>\n",
       "      <td>0</td>\n",
       "      <td>0</td>\n",
       "      <td>0</td>\n",
       "      <td>0.325974</td>\n",
       "      <td>0.753742</td>\n",
       "      <td>0.576515</td>\n",
       "      <td>0.532619</td>\n",
       "      <td>1</td>\n",
       "    </tr>\n",
       "  </tbody>\n",
       "</table>\n",
       "<p>5 rows × 71 columns</p>\n",
       "</div>"
      ],
      "text/plain": [
       "   ELECTIVE  EMERGENCY  URGENT  ** INFO NOT AVAILABLE **  \\\n",
       "0         0          1       0                         0   \n",
       "1         1          0       0                         0   \n",
       "2         0          1       0                         0   \n",
       "3         0          1       0                         0   \n",
       "4         0          1       0                         0   \n",
       "\n",
       "   CLINIC REFERRAL/PREMATURE  EMERGENCY ROOM ADMIT  HMO REFERRAL/SICK  \\\n",
       "0                          0                     1                  0   \n",
       "1                          0                     0                  0   \n",
       "2                          0                     0                  0   \n",
       "3                          0                     1                  0   \n",
       "4                          0                     1                  0   \n",
       "\n",
       "   PHYS REFERRAL/NORMAL DELI  TRANSFER FROM HOSP/EXTRAM  \\\n",
       "0                          0                          0   \n",
       "1                          1                          0   \n",
       "2                          1                          0   \n",
       "3                          0                          0   \n",
       "4                          0                          0   \n",
       "\n",
       "   TRANSFER FROM OTHER HEALT  ...  LIVER FAILURE  BLUNT TRAUMA  \\\n",
       "0                          0  ...              0             0   \n",
       "1                          0  ...              0             0   \n",
       "2                          0  ...              0             0   \n",
       "3                          0  ...              0             0   \n",
       "4                          0  ...              0             0   \n",
       "\n",
       "   ABDOMINAL AORTIC ANEURYSM  PANCREATIC MASS/SDA  ACUTE LEUKEMIA  \\\n",
       "0                          0                    0               0   \n",
       "1                          0                    0               0   \n",
       "2                          0                    0               0   \n",
       "3                          0                    0               0   \n",
       "4                          0                    0               0   \n",
       "\n",
       "   temperature_F  heart_rate_bps      ages       LOS  target  \n",
       "0      -0.237072       -0.323032  1.376425  0.119097       1  \n",
       "1      -0.503778        0.430710  0.588919  1.532958       1  \n",
       "2      -0.414876       -0.215355 -1.254031  0.207916       1  \n",
       "3       0.059268        0.000000  0.918148 -0.032561       1  \n",
       "4       0.325974        0.753742  0.576515  0.532619       1  \n",
       "\n",
       "[5 rows x 71 columns]"
      ]
     },
     "execution_count": 3,
     "metadata": {},
     "output_type": "execute_result"
    }
   ],
   "source": [
    "ADMISSIONS_CDiff_preprocess = pd.read_csv(\"./data/dataframes/admissions_cdiff_preprocess_feature_scaled.csv\",index_col=0)\n",
    "\n",
    "ADMISSIONS_CDiff_preprocess.drop(columns=[\"SUBJECT_ID\",\"HADM_ID\"],inplace=True)\n",
    "\n",
    "ADMISSIONS_CDiff_preprocess.drop(columns=[\"NEWBORN\"],inplace=True)\n",
    "\n",
    "ADMISSIONS_CDiff_preprocess.head()"
   ]
  },
  {
   "cell_type": "code",
   "execution_count": 4,
   "metadata": {},
   "outputs": [],
   "source": [
    "admissions_cdiff_preprocess_shuffled_df = ADMISSIONS_CDiff_preprocess.sample(frac=1).reset_index(drop=True)"
   ]
  },
  {
   "cell_type": "code",
   "execution_count": 5,
   "metadata": {},
   "outputs": [],
   "source": [
    "#tree regressions\n",
    "X_tree = admissions_cdiff_preprocess_shuffled_df.loc[:, admissions_cdiff_preprocess_shuffled_df.columns != 'target']\n",
    "y_tree = admissions_cdiff_preprocess_shuffled_df.loc[:, admissions_cdiff_preprocess_shuffled_df.columns == 'target']"
   ]
  },
  {
   "cell_type": "code",
   "execution_count": 6,
   "metadata": {},
   "outputs": [],
   "source": [
    "#logistic regression\n",
    "X_logreg = admissions_cdiff_preprocess_shuffled_df.loc[:, admissions_cdiff_preprocess_shuffled_df.columns != 'target']\n",
    "y_logreg = admissions_cdiff_preprocess_shuffled_df.loc[:, admissions_cdiff_preprocess_shuffled_df.columns == 'target']"
   ]
  },
  {
   "cell_type": "code",
   "execution_count": 7,
   "metadata": {},
   "outputs": [],
   "source": [
    "from sklearn.linear_model import LogisticRegression\n",
    "from sklearn.model_selection import train_test_split\n",
    "from sklearn.ensemble import RandomForestClassifier\n",
    "from sklearn.ensemble import GradientBoostingClassifier\n",
    "from sklearn.metrics import roc_curve\n",
    "from sklearn.metrics import roc_auc_score"
   ]
  },
  {
   "cell_type": "code",
   "execution_count": 8,
   "metadata": {},
   "outputs": [],
   "source": [
    "X_train_logreg, X_test_logreg, y_train_logreg, y_test_logreg = train_test_split(X_logreg, y_logreg, test_size=0.3, random_state=0)"
   ]
  },
  {
   "cell_type": "code",
   "execution_count": 13,
   "metadata": {},
   "outputs": [
    {
     "name": "stderr",
     "output_type": "stream",
     "text": [
      "/home/walter/software/anaconda3/envs/cdiff/lib/python3.7/site-packages/sklearn/linear_model/logistic.py:432: FutureWarning: Default solver will be changed to 'lbfgs' in 0.22. Specify a solver to silence this warning.\n",
      "  FutureWarning)\n"
     ]
    }
   ],
   "source": [
    "logistic_regressor = LogisticRegression(C=0.5,penalty='l1',class_weight='balanced',max_iter=100)\n",
    "logistic_regressor.fit(X_train_logreg.values, y_train_logreg[\"target\"].values)\n",
    "y_pred_logreg = logistic_regressor.predict(X_test_logreg)"
   ]
  },
  {
   "cell_type": "code",
   "execution_count": 14,
   "metadata": {},
   "outputs": [
    {
     "data": {
      "text/plain": [
       "0.7105457091956092"
      ]
     },
     "execution_count": 14,
     "metadata": {},
     "output_type": "execute_result"
    }
   ],
   "source": [
    "roc_auc_score(y_test_logreg, y_pred_logreg)"
   ]
  },
  {
   "cell_type": "markdown",
   "metadata": {},
   "source": [
    "Out of the box, the logistic regressor does pretty good!"
   ]
  },
  {
   "cell_type": "code",
   "execution_count": 15,
   "metadata": {},
   "outputs": [],
   "source": [
    "X_train_tree, X_test_tree, y_train_tree, y_test_tree = train_test_split(X_tree, y_tree, test_size=0.3, random_state=0)"
   ]
  },
  {
   "cell_type": "code",
   "execution_count": 16,
   "metadata": {},
   "outputs": [],
   "source": [
    "random_forest_clf=RandomForestClassifier(n_estimators=100,max_depth=3,class_weight='balanced')\n",
    "random_forest_clf.fit(X_train_tree.values,y_train_tree[\"target\"].values)\n",
    "y_pred_tree=random_forest_clf.predict(X_test_tree)"
   ]
  },
  {
   "cell_type": "code",
   "execution_count": 17,
   "metadata": {},
   "outputs": [
    {
     "data": {
      "text/plain": [
       "0.6815230784189645"
      ]
     },
     "execution_count": 17,
     "metadata": {},
     "output_type": "execute_result"
    }
   ],
   "source": [
    "roc_auc_score(y_test_tree, y_pred_tree)"
   ]
  },
  {
   "cell_type": "markdown",
   "metadata": {},
   "source": [
    "Interesting, the logistic regressor performs as well as the random forest classifier"
   ]
  },
  {
   "cell_type": "code",
   "execution_count": 18,
   "metadata": {},
   "outputs": [],
   "source": [
    "from imblearn.under_sampling import RandomUnderSampler as UnderSampler"
   ]
  },
  {
   "cell_type": "markdown",
   "metadata": {},
   "source": [
    "We need to balance the data ourselves to use gradient boosting in scikit-learn"
   ]
  },
  {
   "cell_type": "code",
   "execution_count": 19,
   "metadata": {},
   "outputs": [],
   "source": [
    "sampler = UnderSampler()\n",
    "X_tree_balanced, y_tree_balanced = sampler.fit_sample(X_train_tree.values,y_train_tree[\"target\"].values)"
   ]
  },
  {
   "cell_type": "code",
   "execution_count": 20,
   "metadata": {},
   "outputs": [],
   "source": [
    "random_forest_gb_clf=GradientBoostingClassifier(learning_rate=0.1,n_estimators=100,max_depth=3)\n",
    "random_forest_gb_clf.fit(X_tree_balanced,y_tree_balanced)\n",
    "y_pred_gb_tree=random_forest_gb_clf.predict(X_test_tree)"
   ]
  },
  {
   "cell_type": "code",
   "execution_count": 21,
   "metadata": {},
   "outputs": [
    {
     "data": {
      "text/plain": [
       "0.6942993481158908"
      ]
     },
     "execution_count": 21,
     "metadata": {},
     "output_type": "execute_result"
    }
   ],
   "source": [
    "roc_auc_score(y_test_tree, y_pred_gb_tree)"
   ]
  },
  {
   "cell_type": "markdown",
   "metadata": {},
   "source": [
    "Interesting, the logistic regressor performs as well as the gradient-boosted random forest classifier"
   ]
  },
  {
   "cell_type": "markdown",
   "metadata": {},
   "source": [
    "### CROSS-VALIDATE GRADIENT BOOST CLASSIFIER/LOGISTIC REGRESSION"
   ]
  },
  {
   "cell_type": "code",
   "execution_count": 22,
   "metadata": {},
   "outputs": [],
   "source": [
    "from sklearn.model_selection import GridSearchCV\n",
    "from sklearn.model_selection import RandomizedSearchCV\n",
    "from sklearn.metrics import classification_report\n",
    "from scipy.stats import uniform\n",
    "from sklearn import linear_model, datasets\n",
    "import joblib"
   ]
  },
  {
   "cell_type": "markdown",
   "metadata": {},
   "source": [
    "**Logistic Regressor**"
   ]
  },
  {
   "cell_type": "code",
   "execution_count": 24,
   "metadata": {},
   "outputs": [],
   "source": [
    "# Create regularization penalty space\n",
    "penalty = ['l1', 'l2']\n",
    "\n",
    "# Create regularization hyperparameter distribution using uniform distribution\n",
    "C = [0.01,0.03,0.1,0.3,1,3]\n",
    "\n",
    "# Create hyperparameter options\n",
    "hyperparameters = dict(C=C, penalty=penalty)"
   ]
  },
  {
   "cell_type": "markdown",
   "metadata": {},
   "source": [
    "Use RandomizedSearchCV random search of these hyperparameters"
   ]
  },
  {
   "cell_type": "code",
   "execution_count": 30,
   "metadata": {},
   "outputs": [],
   "source": [
    "logistic = linear_model.LogisticRegression()\n",
    "clf = RandomizedSearchCV(logistic, hyperparameters, random_state=1, n_iter=12, cv=5, verbose=0, n_jobs=-1)"
   ]
  },
  {
   "cell_type": "code",
   "execution_count": 31,
   "metadata": {},
   "outputs": [
    {
     "name": "stderr",
     "output_type": "stream",
     "text": [
      "/home/walter/software/anaconda3/envs/cdiff/lib/python3.7/site-packages/sklearn/linear_model/logistic.py:432: FutureWarning: Default solver will be changed to 'lbfgs' in 0.22. Specify a solver to silence this warning.\n",
      "  FutureWarning)\n"
     ]
    }
   ],
   "source": [
    "best_model = clf.fit(X_train_logreg.values, y_train_logreg[\"target\"].values)"
   ]
  },
  {
   "cell_type": "code",
   "execution_count": 32,
   "metadata": {},
   "outputs": [
    {
     "name": "stdout",
     "output_type": "stream",
     "text": [
      "Best Penalty: l1\n",
      "Best C: 0.01\n"
     ]
    }
   ],
   "source": [
    "# View best hyperparameters\n",
    "print('Best Penalty:', best_model.best_estimator_.get_params()['penalty'])\n",
    "print('Best C:', best_model.best_estimator_.get_params()['C'])"
   ]
  },
  {
   "cell_type": "markdown",
   "metadata": {},
   "source": [
    "Use GridSearchCV to finer hyperparameter search"
   ]
  },
  {
   "cell_type": "code",
   "execution_count": 34,
   "metadata": {},
   "outputs": [
    {
     "name": "stdout",
     "output_type": "stream",
     "text": [
      "# Tuning hyper-parameters for precision_macro\n",
      "\n"
     ]
    },
    {
     "name": "stderr",
     "output_type": "stream",
     "text": [
      "/home/walter/software/anaconda3/envs/cdiff/lib/python3.7/site-packages/sklearn/linear_model/logistic.py:432: FutureWarning: Default solver will be changed to 'lbfgs' in 0.22. Specify a solver to silence this warning.\n",
      "  FutureWarning)\n",
      "/home/walter/software/anaconda3/envs/cdiff/lib/python3.7/site-packages/sklearn/linear_model/logistic.py:432: FutureWarning: Default solver will be changed to 'lbfgs' in 0.22. Specify a solver to silence this warning.\n",
      "  FutureWarning)\n",
      "/home/walter/software/anaconda3/envs/cdiff/lib/python3.7/site-packages/sklearn/linear_model/logistic.py:432: FutureWarning: Default solver will be changed to 'lbfgs' in 0.22. Specify a solver to silence this warning.\n",
      "  FutureWarning)\n",
      "/home/walter/software/anaconda3/envs/cdiff/lib/python3.7/site-packages/sklearn/linear_model/logistic.py:432: FutureWarning: Default solver will be changed to 'lbfgs' in 0.22. Specify a solver to silence this warning.\n",
      "  FutureWarning)\n",
      "/home/walter/software/anaconda3/envs/cdiff/lib/python3.7/site-packages/sklearn/linear_model/logistic.py:432: FutureWarning: Default solver will be changed to 'lbfgs' in 0.22. Specify a solver to silence this warning.\n",
      "  FutureWarning)\n",
      "/home/walter/software/anaconda3/envs/cdiff/lib/python3.7/site-packages/sklearn/linear_model/logistic.py:432: FutureWarning: Default solver will be changed to 'lbfgs' in 0.22. Specify a solver to silence this warning.\n",
      "  FutureWarning)\n",
      "/home/walter/software/anaconda3/envs/cdiff/lib/python3.7/site-packages/sklearn/linear_model/logistic.py:432: FutureWarning: Default solver will be changed to 'lbfgs' in 0.22. Specify a solver to silence this warning.\n",
      "  FutureWarning)\n",
      "/home/walter/software/anaconda3/envs/cdiff/lib/python3.7/site-packages/sklearn/linear_model/logistic.py:432: FutureWarning: Default solver will be changed to 'lbfgs' in 0.22. Specify a solver to silence this warning.\n",
      "  FutureWarning)\n",
      "/home/walter/software/anaconda3/envs/cdiff/lib/python3.7/site-packages/sklearn/linear_model/logistic.py:432: FutureWarning: Default solver will be changed to 'lbfgs' in 0.22. Specify a solver to silence this warning.\n",
      "  FutureWarning)\n",
      "/home/walter/software/anaconda3/envs/cdiff/lib/python3.7/site-packages/sklearn/linear_model/logistic.py:432: FutureWarning: Default solver will be changed to 'lbfgs' in 0.22. Specify a solver to silence this warning.\n",
      "  FutureWarning)\n",
      "/home/walter/software/anaconda3/envs/cdiff/lib/python3.7/site-packages/sklearn/linear_model/logistic.py:432: FutureWarning: Default solver will be changed to 'lbfgs' in 0.22. Specify a solver to silence this warning.\n",
      "  FutureWarning)\n",
      "/home/walter/software/anaconda3/envs/cdiff/lib/python3.7/site-packages/sklearn/linear_model/logistic.py:432: FutureWarning: Default solver will be changed to 'lbfgs' in 0.22. Specify a solver to silence this warning.\n",
      "  FutureWarning)\n",
      "/home/walter/software/anaconda3/envs/cdiff/lib/python3.7/site-packages/sklearn/linear_model/logistic.py:432: FutureWarning: Default solver will be changed to 'lbfgs' in 0.22. Specify a solver to silence this warning.\n",
      "  FutureWarning)\n",
      "/home/walter/software/anaconda3/envs/cdiff/lib/python3.7/site-packages/sklearn/linear_model/logistic.py:432: FutureWarning: Default solver will be changed to 'lbfgs' in 0.22. Specify a solver to silence this warning.\n",
      "  FutureWarning)\n",
      "/home/walter/software/anaconda3/envs/cdiff/lib/python3.7/site-packages/sklearn/linear_model/logistic.py:432: FutureWarning: Default solver will be changed to 'lbfgs' in 0.22. Specify a solver to silence this warning.\n",
      "  FutureWarning)\n",
      "/home/walter/software/anaconda3/envs/cdiff/lib/python3.7/site-packages/sklearn/linear_model/logistic.py:432: FutureWarning: Default solver will be changed to 'lbfgs' in 0.22. Specify a solver to silence this warning.\n",
      "  FutureWarning)\n",
      "/home/walter/software/anaconda3/envs/cdiff/lib/python3.7/site-packages/sklearn/linear_model/logistic.py:432: FutureWarning: Default solver will be changed to 'lbfgs' in 0.22. Specify a solver to silence this warning.\n",
      "  FutureWarning)\n",
      "/home/walter/software/anaconda3/envs/cdiff/lib/python3.7/site-packages/sklearn/linear_model/logistic.py:432: FutureWarning: Default solver will be changed to 'lbfgs' in 0.22. Specify a solver to silence this warning.\n",
      "  FutureWarning)\n",
      "/home/walter/software/anaconda3/envs/cdiff/lib/python3.7/site-packages/sklearn/linear_model/logistic.py:432: FutureWarning: Default solver will be changed to 'lbfgs' in 0.22. Specify a solver to silence this warning.\n",
      "  FutureWarning)\n",
      "/home/walter/software/anaconda3/envs/cdiff/lib/python3.7/site-packages/sklearn/linear_model/logistic.py:432: FutureWarning: Default solver will be changed to 'lbfgs' in 0.22. Specify a solver to silence this warning.\n",
      "  FutureWarning)\n",
      "/home/walter/software/anaconda3/envs/cdiff/lib/python3.7/site-packages/sklearn/linear_model/logistic.py:432: FutureWarning: Default solver will be changed to 'lbfgs' in 0.22. Specify a solver to silence this warning.\n",
      "  FutureWarning)\n",
      "/home/walter/software/anaconda3/envs/cdiff/lib/python3.7/site-packages/sklearn/linear_model/logistic.py:432: FutureWarning: Default solver will be changed to 'lbfgs' in 0.22. Specify a solver to silence this warning.\n",
      "  FutureWarning)\n",
      "/home/walter/software/anaconda3/envs/cdiff/lib/python3.7/site-packages/sklearn/linear_model/logistic.py:432: FutureWarning: Default solver will be changed to 'lbfgs' in 0.22. Specify a solver to silence this warning.\n",
      "  FutureWarning)\n",
      "/home/walter/software/anaconda3/envs/cdiff/lib/python3.7/site-packages/sklearn/linear_model/logistic.py:432: FutureWarning: Default solver will be changed to 'lbfgs' in 0.22. Specify a solver to silence this warning.\n",
      "  FutureWarning)\n",
      "/home/walter/software/anaconda3/envs/cdiff/lib/python3.7/site-packages/sklearn/linear_model/logistic.py:432: FutureWarning: Default solver will be changed to 'lbfgs' in 0.22. Specify a solver to silence this warning.\n",
      "  FutureWarning)\n",
      "/home/walter/software/anaconda3/envs/cdiff/lib/python3.7/site-packages/sklearn/linear_model/logistic.py:432: FutureWarning: Default solver will be changed to 'lbfgs' in 0.22. Specify a solver to silence this warning.\n",
      "  FutureWarning)\n",
      "/home/walter/software/anaconda3/envs/cdiff/lib/python3.7/site-packages/sklearn/linear_model/logistic.py:432: FutureWarning: Default solver will be changed to 'lbfgs' in 0.22. Specify a solver to silence this warning.\n",
      "  FutureWarning)\n",
      "/home/walter/software/anaconda3/envs/cdiff/lib/python3.7/site-packages/sklearn/linear_model/logistic.py:432: FutureWarning: Default solver will be changed to 'lbfgs' in 0.22. Specify a solver to silence this warning.\n",
      "  FutureWarning)\n",
      "/home/walter/software/anaconda3/envs/cdiff/lib/python3.7/site-packages/sklearn/linear_model/logistic.py:432: FutureWarning: Default solver will be changed to 'lbfgs' in 0.22. Specify a solver to silence this warning.\n",
      "  FutureWarning)\n",
      "/home/walter/software/anaconda3/envs/cdiff/lib/python3.7/site-packages/sklearn/linear_model/logistic.py:432: FutureWarning: Default solver will be changed to 'lbfgs' in 0.22. Specify a solver to silence this warning.\n",
      "  FutureWarning)\n",
      "/home/walter/software/anaconda3/envs/cdiff/lib/python3.7/site-packages/sklearn/linear_model/logistic.py:432: FutureWarning: Default solver will be changed to 'lbfgs' in 0.22. Specify a solver to silence this warning.\n",
      "  FutureWarning)\n",
      "/home/walter/software/anaconda3/envs/cdiff/lib/python3.7/site-packages/sklearn/linear_model/logistic.py:432: FutureWarning: Default solver will be changed to 'lbfgs' in 0.22. Specify a solver to silence this warning.\n",
      "  FutureWarning)\n",
      "/home/walter/software/anaconda3/envs/cdiff/lib/python3.7/site-packages/sklearn/linear_model/logistic.py:432: FutureWarning: Default solver will be changed to 'lbfgs' in 0.22. Specify a solver to silence this warning.\n",
      "  FutureWarning)\n",
      "/home/walter/software/anaconda3/envs/cdiff/lib/python3.7/site-packages/sklearn/linear_model/logistic.py:432: FutureWarning: Default solver will be changed to 'lbfgs' in 0.22. Specify a solver to silence this warning.\n",
      "  FutureWarning)\n",
      "/home/walter/software/anaconda3/envs/cdiff/lib/python3.7/site-packages/sklearn/linear_model/logistic.py:432: FutureWarning: Default solver will be changed to 'lbfgs' in 0.22. Specify a solver to silence this warning.\n",
      "  FutureWarning)\n",
      "/home/walter/software/anaconda3/envs/cdiff/lib/python3.7/site-packages/sklearn/linear_model/logistic.py:432: FutureWarning: Default solver will be changed to 'lbfgs' in 0.22. Specify a solver to silence this warning.\n",
      "  FutureWarning)\n"
     ]
    },
    {
     "name": "stderr",
     "output_type": "stream",
     "text": [
      "/home/walter/software/anaconda3/envs/cdiff/lib/python3.7/site-packages/sklearn/linear_model/logistic.py:432: FutureWarning: Default solver will be changed to 'lbfgs' in 0.22. Specify a solver to silence this warning.\n",
      "  FutureWarning)\n",
      "/home/walter/software/anaconda3/envs/cdiff/lib/python3.7/site-packages/sklearn/linear_model/logistic.py:432: FutureWarning: Default solver will be changed to 'lbfgs' in 0.22. Specify a solver to silence this warning.\n",
      "  FutureWarning)\n",
      "/home/walter/software/anaconda3/envs/cdiff/lib/python3.7/site-packages/sklearn/linear_model/logistic.py:432: FutureWarning: Default solver will be changed to 'lbfgs' in 0.22. Specify a solver to silence this warning.\n",
      "  FutureWarning)\n",
      "/home/walter/software/anaconda3/envs/cdiff/lib/python3.7/site-packages/sklearn/linear_model/logistic.py:432: FutureWarning: Default solver will be changed to 'lbfgs' in 0.22. Specify a solver to silence this warning.\n",
      "  FutureWarning)\n",
      "/home/walter/software/anaconda3/envs/cdiff/lib/python3.7/site-packages/sklearn/linear_model/logistic.py:432: FutureWarning: Default solver will be changed to 'lbfgs' in 0.22. Specify a solver to silence this warning.\n",
      "  FutureWarning)\n",
      "/home/walter/software/anaconda3/envs/cdiff/lib/python3.7/site-packages/sklearn/linear_model/logistic.py:432: FutureWarning: Default solver will be changed to 'lbfgs' in 0.22. Specify a solver to silence this warning.\n",
      "  FutureWarning)\n"
     ]
    },
    {
     "name": "stdout",
     "output_type": "stream",
     "text": [
      "Best parameters set found on development set:\n",
      "\n",
      "{'C': 0.03}\n",
      "\n",
      "Grid scores on development set:\n",
      "\n",
      "0.528 (+/-0.003) for {'C': 0.08}\n",
      "0.528 (+/-0.003) for {'C': 0.09}\n",
      "0.526 (+/-0.002) for {'C': 0.01}\n",
      "0.527 (+/-0.005) for {'C': 0.02}\n",
      "0.528 (+/-0.004) for {'C': 0.03}\n",
      "0.528 (+/-0.003) for {'C': 0.1}\n",
      "0.528 (+/-0.003) for {'C': 0.3}\n",
      "0.528 (+/-0.002) for {'C': 1}\n",
      "\n",
      "Detailed classification report:\n",
      "\n",
      "The model is trained on the full development set.\n",
      "The scores are computed on the full evaluation set.\n",
      "\n",
      "              precision    recall  f1-score   support\n",
      "\n",
      "           0       0.99      0.73      0.84     14151\n",
      "           1       0.07      0.68      0.12       399\n",
      "\n",
      "    accuracy                           0.73     14550\n",
      "   macro avg       0.53      0.71      0.48     14550\n",
      "weighted avg       0.96      0.73      0.82     14550\n",
      "\n",
      "\n",
      "# Tuning hyper-parameters for recall_macro\n",
      "\n"
     ]
    },
    {
     "name": "stderr",
     "output_type": "stream",
     "text": [
      "/home/walter/software/anaconda3/envs/cdiff/lib/python3.7/site-packages/sklearn/linear_model/logistic.py:432: FutureWarning: Default solver will be changed to 'lbfgs' in 0.22. Specify a solver to silence this warning.\n",
      "  FutureWarning)\n",
      "/home/walter/software/anaconda3/envs/cdiff/lib/python3.7/site-packages/sklearn/linear_model/logistic.py:432: FutureWarning: Default solver will be changed to 'lbfgs' in 0.22. Specify a solver to silence this warning.\n",
      "  FutureWarning)\n",
      "/home/walter/software/anaconda3/envs/cdiff/lib/python3.7/site-packages/sklearn/linear_model/logistic.py:432: FutureWarning: Default solver will be changed to 'lbfgs' in 0.22. Specify a solver to silence this warning.\n",
      "  FutureWarning)\n",
      "/home/walter/software/anaconda3/envs/cdiff/lib/python3.7/site-packages/sklearn/linear_model/logistic.py:432: FutureWarning: Default solver will be changed to 'lbfgs' in 0.22. Specify a solver to silence this warning.\n",
      "  FutureWarning)\n",
      "/home/walter/software/anaconda3/envs/cdiff/lib/python3.7/site-packages/sklearn/linear_model/logistic.py:432: FutureWarning: Default solver will be changed to 'lbfgs' in 0.22. Specify a solver to silence this warning.\n",
      "  FutureWarning)\n",
      "/home/walter/software/anaconda3/envs/cdiff/lib/python3.7/site-packages/sklearn/linear_model/logistic.py:432: FutureWarning: Default solver will be changed to 'lbfgs' in 0.22. Specify a solver to silence this warning.\n",
      "  FutureWarning)\n",
      "/home/walter/software/anaconda3/envs/cdiff/lib/python3.7/site-packages/sklearn/linear_model/logistic.py:432: FutureWarning: Default solver will be changed to 'lbfgs' in 0.22. Specify a solver to silence this warning.\n",
      "  FutureWarning)\n",
      "/home/walter/software/anaconda3/envs/cdiff/lib/python3.7/site-packages/sklearn/linear_model/logistic.py:432: FutureWarning: Default solver will be changed to 'lbfgs' in 0.22. Specify a solver to silence this warning.\n",
      "  FutureWarning)\n",
      "/home/walter/software/anaconda3/envs/cdiff/lib/python3.7/site-packages/sklearn/linear_model/logistic.py:432: FutureWarning: Default solver will be changed to 'lbfgs' in 0.22. Specify a solver to silence this warning.\n",
      "  FutureWarning)\n",
      "/home/walter/software/anaconda3/envs/cdiff/lib/python3.7/site-packages/sklearn/linear_model/logistic.py:432: FutureWarning: Default solver will be changed to 'lbfgs' in 0.22. Specify a solver to silence this warning.\n",
      "  FutureWarning)\n",
      "/home/walter/software/anaconda3/envs/cdiff/lib/python3.7/site-packages/sklearn/linear_model/logistic.py:432: FutureWarning: Default solver will be changed to 'lbfgs' in 0.22. Specify a solver to silence this warning.\n",
      "  FutureWarning)\n",
      "/home/walter/software/anaconda3/envs/cdiff/lib/python3.7/site-packages/sklearn/linear_model/logistic.py:432: FutureWarning: Default solver will be changed to 'lbfgs' in 0.22. Specify a solver to silence this warning.\n",
      "  FutureWarning)\n",
      "/home/walter/software/anaconda3/envs/cdiff/lib/python3.7/site-packages/sklearn/linear_model/logistic.py:432: FutureWarning: Default solver will be changed to 'lbfgs' in 0.22. Specify a solver to silence this warning.\n",
      "  FutureWarning)\n",
      "/home/walter/software/anaconda3/envs/cdiff/lib/python3.7/site-packages/sklearn/linear_model/logistic.py:432: FutureWarning: Default solver will be changed to 'lbfgs' in 0.22. Specify a solver to silence this warning.\n",
      "  FutureWarning)\n",
      "/home/walter/software/anaconda3/envs/cdiff/lib/python3.7/site-packages/sklearn/linear_model/logistic.py:432: FutureWarning: Default solver will be changed to 'lbfgs' in 0.22. Specify a solver to silence this warning.\n",
      "  FutureWarning)\n",
      "/home/walter/software/anaconda3/envs/cdiff/lib/python3.7/site-packages/sklearn/linear_model/logistic.py:432: FutureWarning: Default solver will be changed to 'lbfgs' in 0.22. Specify a solver to silence this warning.\n",
      "  FutureWarning)\n",
      "/home/walter/software/anaconda3/envs/cdiff/lib/python3.7/site-packages/sklearn/linear_model/logistic.py:432: FutureWarning: Default solver will be changed to 'lbfgs' in 0.22. Specify a solver to silence this warning.\n",
      "  FutureWarning)\n",
      "/home/walter/software/anaconda3/envs/cdiff/lib/python3.7/site-packages/sklearn/linear_model/logistic.py:432: FutureWarning: Default solver will be changed to 'lbfgs' in 0.22. Specify a solver to silence this warning.\n",
      "  FutureWarning)\n",
      "/home/walter/software/anaconda3/envs/cdiff/lib/python3.7/site-packages/sklearn/linear_model/logistic.py:432: FutureWarning: Default solver will be changed to 'lbfgs' in 0.22. Specify a solver to silence this warning.\n",
      "  FutureWarning)\n",
      "/home/walter/software/anaconda3/envs/cdiff/lib/python3.7/site-packages/sklearn/linear_model/logistic.py:432: FutureWarning: Default solver will be changed to 'lbfgs' in 0.22. Specify a solver to silence this warning.\n",
      "  FutureWarning)\n",
      "/home/walter/software/anaconda3/envs/cdiff/lib/python3.7/site-packages/sklearn/linear_model/logistic.py:432: FutureWarning: Default solver will be changed to 'lbfgs' in 0.22. Specify a solver to silence this warning.\n",
      "  FutureWarning)\n",
      "/home/walter/software/anaconda3/envs/cdiff/lib/python3.7/site-packages/sklearn/linear_model/logistic.py:432: FutureWarning: Default solver will be changed to 'lbfgs' in 0.22. Specify a solver to silence this warning.\n",
      "  FutureWarning)\n",
      "/home/walter/software/anaconda3/envs/cdiff/lib/python3.7/site-packages/sklearn/linear_model/logistic.py:432: FutureWarning: Default solver will be changed to 'lbfgs' in 0.22. Specify a solver to silence this warning.\n",
      "  FutureWarning)\n",
      "/home/walter/software/anaconda3/envs/cdiff/lib/python3.7/site-packages/sklearn/linear_model/logistic.py:432: FutureWarning: Default solver will be changed to 'lbfgs' in 0.22. Specify a solver to silence this warning.\n",
      "  FutureWarning)\n",
      "/home/walter/software/anaconda3/envs/cdiff/lib/python3.7/site-packages/sklearn/linear_model/logistic.py:432: FutureWarning: Default solver will be changed to 'lbfgs' in 0.22. Specify a solver to silence this warning.\n",
      "  FutureWarning)\n",
      "/home/walter/software/anaconda3/envs/cdiff/lib/python3.7/site-packages/sklearn/linear_model/logistic.py:432: FutureWarning: Default solver will be changed to 'lbfgs' in 0.22. Specify a solver to silence this warning.\n",
      "  FutureWarning)\n",
      "/home/walter/software/anaconda3/envs/cdiff/lib/python3.7/site-packages/sklearn/linear_model/logistic.py:432: FutureWarning: Default solver will be changed to 'lbfgs' in 0.22. Specify a solver to silence this warning.\n",
      "  FutureWarning)\n",
      "/home/walter/software/anaconda3/envs/cdiff/lib/python3.7/site-packages/sklearn/linear_model/logistic.py:432: FutureWarning: Default solver will be changed to 'lbfgs' in 0.22. Specify a solver to silence this warning.\n",
      "  FutureWarning)\n",
      "/home/walter/software/anaconda3/envs/cdiff/lib/python3.7/site-packages/sklearn/linear_model/logistic.py:432: FutureWarning: Default solver will be changed to 'lbfgs' in 0.22. Specify a solver to silence this warning.\n",
      "  FutureWarning)\n",
      "/home/walter/software/anaconda3/envs/cdiff/lib/python3.7/site-packages/sklearn/linear_model/logistic.py:432: FutureWarning: Default solver will be changed to 'lbfgs' in 0.22. Specify a solver to silence this warning.\n",
      "  FutureWarning)\n",
      "/home/walter/software/anaconda3/envs/cdiff/lib/python3.7/site-packages/sklearn/linear_model/logistic.py:432: FutureWarning: Default solver will be changed to 'lbfgs' in 0.22. Specify a solver to silence this warning.\n",
      "  FutureWarning)\n",
      "/home/walter/software/anaconda3/envs/cdiff/lib/python3.7/site-packages/sklearn/linear_model/logistic.py:432: FutureWarning: Default solver will be changed to 'lbfgs' in 0.22. Specify a solver to silence this warning.\n",
      "  FutureWarning)\n",
      "/home/walter/software/anaconda3/envs/cdiff/lib/python3.7/site-packages/sklearn/linear_model/logistic.py:432: FutureWarning: Default solver will be changed to 'lbfgs' in 0.22. Specify a solver to silence this warning.\n",
      "  FutureWarning)\n",
      "/home/walter/software/anaconda3/envs/cdiff/lib/python3.7/site-packages/sklearn/linear_model/logistic.py:432: FutureWarning: Default solver will be changed to 'lbfgs' in 0.22. Specify a solver to silence this warning.\n",
      "  FutureWarning)\n",
      "/home/walter/software/anaconda3/envs/cdiff/lib/python3.7/site-packages/sklearn/linear_model/logistic.py:432: FutureWarning: Default solver will be changed to 'lbfgs' in 0.22. Specify a solver to silence this warning.\n",
      "  FutureWarning)\n",
      "/home/walter/software/anaconda3/envs/cdiff/lib/python3.7/site-packages/sklearn/linear_model/logistic.py:432: FutureWarning: Default solver will be changed to 'lbfgs' in 0.22. Specify a solver to silence this warning.\n",
      "  FutureWarning)\n"
     ]
    },
    {
     "name": "stderr",
     "output_type": "stream",
     "text": [
      "/home/walter/software/anaconda3/envs/cdiff/lib/python3.7/site-packages/sklearn/linear_model/logistic.py:432: FutureWarning: Default solver will be changed to 'lbfgs' in 0.22. Specify a solver to silence this warning.\n",
      "  FutureWarning)\n",
      "/home/walter/software/anaconda3/envs/cdiff/lib/python3.7/site-packages/sklearn/linear_model/logistic.py:432: FutureWarning: Default solver will be changed to 'lbfgs' in 0.22. Specify a solver to silence this warning.\n",
      "  FutureWarning)\n",
      "/home/walter/software/anaconda3/envs/cdiff/lib/python3.7/site-packages/sklearn/linear_model/logistic.py:432: FutureWarning: Default solver will be changed to 'lbfgs' in 0.22. Specify a solver to silence this warning.\n",
      "  FutureWarning)\n",
      "/home/walter/software/anaconda3/envs/cdiff/lib/python3.7/site-packages/sklearn/linear_model/logistic.py:432: FutureWarning: Default solver will be changed to 'lbfgs' in 0.22. Specify a solver to silence this warning.\n",
      "  FutureWarning)\n"
     ]
    },
    {
     "name": "stdout",
     "output_type": "stream",
     "text": [
      "Best parameters set found on development set:\n",
      "\n",
      "{'C': 0.03}\n",
      "\n",
      "Grid scores on development set:\n",
      "\n",
      "0.707 (+/-0.023) for {'C': 0.08}\n",
      "0.708 (+/-0.020) for {'C': 0.09}\n",
      "0.702 (+/-0.022) for {'C': 0.01}\n",
      "0.708 (+/-0.037) for {'C': 0.02}\n",
      "0.715 (+/-0.035) for {'C': 0.03}\n",
      "0.709 (+/-0.020) for {'C': 0.1}\n",
      "0.706 (+/-0.019) for {'C': 0.3}\n",
      "0.705 (+/-0.012) for {'C': 1}\n",
      "\n",
      "Detailed classification report:\n",
      "\n",
      "The model is trained on the full development set.\n",
      "The scores are computed on the full evaluation set.\n",
      "\n",
      "              precision    recall  f1-score   support\n",
      "\n",
      "           0       0.99      0.73      0.84     14151\n",
      "           1       0.07      0.68      0.12       399\n",
      "\n",
      "    accuracy                           0.73     14550\n",
      "   macro avg       0.53      0.71      0.48     14550\n",
      "weighted avg       0.96      0.73      0.82     14550\n",
      "\n",
      "\n",
      "# Tuning hyper-parameters for roc_auc\n",
      "\n"
     ]
    },
    {
     "name": "stderr",
     "output_type": "stream",
     "text": [
      "/home/walter/software/anaconda3/envs/cdiff/lib/python3.7/site-packages/sklearn/linear_model/logistic.py:432: FutureWarning: Default solver will be changed to 'lbfgs' in 0.22. Specify a solver to silence this warning.\n",
      "  FutureWarning)\n",
      "/home/walter/software/anaconda3/envs/cdiff/lib/python3.7/site-packages/sklearn/linear_model/logistic.py:432: FutureWarning: Default solver will be changed to 'lbfgs' in 0.22. Specify a solver to silence this warning.\n",
      "  FutureWarning)\n",
      "/home/walter/software/anaconda3/envs/cdiff/lib/python3.7/site-packages/sklearn/linear_model/logistic.py:432: FutureWarning: Default solver will be changed to 'lbfgs' in 0.22. Specify a solver to silence this warning.\n",
      "  FutureWarning)\n",
      "/home/walter/software/anaconda3/envs/cdiff/lib/python3.7/site-packages/sklearn/linear_model/logistic.py:432: FutureWarning: Default solver will be changed to 'lbfgs' in 0.22. Specify a solver to silence this warning.\n",
      "  FutureWarning)\n",
      "/home/walter/software/anaconda3/envs/cdiff/lib/python3.7/site-packages/sklearn/linear_model/logistic.py:432: FutureWarning: Default solver will be changed to 'lbfgs' in 0.22. Specify a solver to silence this warning.\n",
      "  FutureWarning)\n",
      "/home/walter/software/anaconda3/envs/cdiff/lib/python3.7/site-packages/sklearn/linear_model/logistic.py:432: FutureWarning: Default solver will be changed to 'lbfgs' in 0.22. Specify a solver to silence this warning.\n",
      "  FutureWarning)\n",
      "/home/walter/software/anaconda3/envs/cdiff/lib/python3.7/site-packages/sklearn/linear_model/logistic.py:432: FutureWarning: Default solver will be changed to 'lbfgs' in 0.22. Specify a solver to silence this warning.\n",
      "  FutureWarning)\n",
      "/home/walter/software/anaconda3/envs/cdiff/lib/python3.7/site-packages/sklearn/linear_model/logistic.py:432: FutureWarning: Default solver will be changed to 'lbfgs' in 0.22. Specify a solver to silence this warning.\n",
      "  FutureWarning)\n",
      "/home/walter/software/anaconda3/envs/cdiff/lib/python3.7/site-packages/sklearn/linear_model/logistic.py:432: FutureWarning: Default solver will be changed to 'lbfgs' in 0.22. Specify a solver to silence this warning.\n",
      "  FutureWarning)\n",
      "/home/walter/software/anaconda3/envs/cdiff/lib/python3.7/site-packages/sklearn/linear_model/logistic.py:432: FutureWarning: Default solver will be changed to 'lbfgs' in 0.22. Specify a solver to silence this warning.\n",
      "  FutureWarning)\n",
      "/home/walter/software/anaconda3/envs/cdiff/lib/python3.7/site-packages/sklearn/linear_model/logistic.py:432: FutureWarning: Default solver will be changed to 'lbfgs' in 0.22. Specify a solver to silence this warning.\n",
      "  FutureWarning)\n",
      "/home/walter/software/anaconda3/envs/cdiff/lib/python3.7/site-packages/sklearn/linear_model/logistic.py:432: FutureWarning: Default solver will be changed to 'lbfgs' in 0.22. Specify a solver to silence this warning.\n",
      "  FutureWarning)\n",
      "/home/walter/software/anaconda3/envs/cdiff/lib/python3.7/site-packages/sklearn/linear_model/logistic.py:432: FutureWarning: Default solver will be changed to 'lbfgs' in 0.22. Specify a solver to silence this warning.\n",
      "  FutureWarning)\n",
      "/home/walter/software/anaconda3/envs/cdiff/lib/python3.7/site-packages/sklearn/linear_model/logistic.py:432: FutureWarning: Default solver will be changed to 'lbfgs' in 0.22. Specify a solver to silence this warning.\n",
      "  FutureWarning)\n",
      "/home/walter/software/anaconda3/envs/cdiff/lib/python3.7/site-packages/sklearn/linear_model/logistic.py:432: FutureWarning: Default solver will be changed to 'lbfgs' in 0.22. Specify a solver to silence this warning.\n",
      "  FutureWarning)\n",
      "/home/walter/software/anaconda3/envs/cdiff/lib/python3.7/site-packages/sklearn/linear_model/logistic.py:432: FutureWarning: Default solver will be changed to 'lbfgs' in 0.22. Specify a solver to silence this warning.\n",
      "  FutureWarning)\n",
      "/home/walter/software/anaconda3/envs/cdiff/lib/python3.7/site-packages/sklearn/linear_model/logistic.py:432: FutureWarning: Default solver will be changed to 'lbfgs' in 0.22. Specify a solver to silence this warning.\n",
      "  FutureWarning)\n",
      "/home/walter/software/anaconda3/envs/cdiff/lib/python3.7/site-packages/sklearn/linear_model/logistic.py:432: FutureWarning: Default solver will be changed to 'lbfgs' in 0.22. Specify a solver to silence this warning.\n",
      "  FutureWarning)\n",
      "/home/walter/software/anaconda3/envs/cdiff/lib/python3.7/site-packages/sklearn/linear_model/logistic.py:432: FutureWarning: Default solver will be changed to 'lbfgs' in 0.22. Specify a solver to silence this warning.\n",
      "  FutureWarning)\n",
      "/home/walter/software/anaconda3/envs/cdiff/lib/python3.7/site-packages/sklearn/linear_model/logistic.py:432: FutureWarning: Default solver will be changed to 'lbfgs' in 0.22. Specify a solver to silence this warning.\n",
      "  FutureWarning)\n",
      "/home/walter/software/anaconda3/envs/cdiff/lib/python3.7/site-packages/sklearn/linear_model/logistic.py:432: FutureWarning: Default solver will be changed to 'lbfgs' in 0.22. Specify a solver to silence this warning.\n",
      "  FutureWarning)\n",
      "/home/walter/software/anaconda3/envs/cdiff/lib/python3.7/site-packages/sklearn/linear_model/logistic.py:432: FutureWarning: Default solver will be changed to 'lbfgs' in 0.22. Specify a solver to silence this warning.\n",
      "  FutureWarning)\n",
      "/home/walter/software/anaconda3/envs/cdiff/lib/python3.7/site-packages/sklearn/linear_model/logistic.py:432: FutureWarning: Default solver will be changed to 'lbfgs' in 0.22. Specify a solver to silence this warning.\n",
      "  FutureWarning)\n",
      "/home/walter/software/anaconda3/envs/cdiff/lib/python3.7/site-packages/sklearn/linear_model/logistic.py:432: FutureWarning: Default solver will be changed to 'lbfgs' in 0.22. Specify a solver to silence this warning.\n",
      "  FutureWarning)\n",
      "/home/walter/software/anaconda3/envs/cdiff/lib/python3.7/site-packages/sklearn/linear_model/logistic.py:432: FutureWarning: Default solver will be changed to 'lbfgs' in 0.22. Specify a solver to silence this warning.\n",
      "  FutureWarning)\n",
      "/home/walter/software/anaconda3/envs/cdiff/lib/python3.7/site-packages/sklearn/linear_model/logistic.py:432: FutureWarning: Default solver will be changed to 'lbfgs' in 0.22. Specify a solver to silence this warning.\n",
      "  FutureWarning)\n",
      "/home/walter/software/anaconda3/envs/cdiff/lib/python3.7/site-packages/sklearn/linear_model/logistic.py:432: FutureWarning: Default solver will be changed to 'lbfgs' in 0.22. Specify a solver to silence this warning.\n",
      "  FutureWarning)\n",
      "/home/walter/software/anaconda3/envs/cdiff/lib/python3.7/site-packages/sklearn/linear_model/logistic.py:432: FutureWarning: Default solver will be changed to 'lbfgs' in 0.22. Specify a solver to silence this warning.\n",
      "  FutureWarning)\n",
      "/home/walter/software/anaconda3/envs/cdiff/lib/python3.7/site-packages/sklearn/linear_model/logistic.py:432: FutureWarning: Default solver will be changed to 'lbfgs' in 0.22. Specify a solver to silence this warning.\n",
      "  FutureWarning)\n",
      "/home/walter/software/anaconda3/envs/cdiff/lib/python3.7/site-packages/sklearn/linear_model/logistic.py:432: FutureWarning: Default solver will be changed to 'lbfgs' in 0.22. Specify a solver to silence this warning.\n",
      "  FutureWarning)\n",
      "/home/walter/software/anaconda3/envs/cdiff/lib/python3.7/site-packages/sklearn/linear_model/logistic.py:432: FutureWarning: Default solver will be changed to 'lbfgs' in 0.22. Specify a solver to silence this warning.\n",
      "  FutureWarning)\n",
      "/home/walter/software/anaconda3/envs/cdiff/lib/python3.7/site-packages/sklearn/linear_model/logistic.py:432: FutureWarning: Default solver will be changed to 'lbfgs' in 0.22. Specify a solver to silence this warning.\n",
      "  FutureWarning)\n",
      "/home/walter/software/anaconda3/envs/cdiff/lib/python3.7/site-packages/sklearn/linear_model/logistic.py:432: FutureWarning: Default solver will be changed to 'lbfgs' in 0.22. Specify a solver to silence this warning.\n",
      "  FutureWarning)\n",
      "/home/walter/software/anaconda3/envs/cdiff/lib/python3.7/site-packages/sklearn/linear_model/logistic.py:432: FutureWarning: Default solver will be changed to 'lbfgs' in 0.22. Specify a solver to silence this warning.\n",
      "  FutureWarning)\n",
      "/home/walter/software/anaconda3/envs/cdiff/lib/python3.7/site-packages/sklearn/linear_model/logistic.py:432: FutureWarning: Default solver will be changed to 'lbfgs' in 0.22. Specify a solver to silence this warning.\n",
      "  FutureWarning)\n",
      "/home/walter/software/anaconda3/envs/cdiff/lib/python3.7/site-packages/sklearn/linear_model/logistic.py:432: FutureWarning: Default solver will be changed to 'lbfgs' in 0.22. Specify a solver to silence this warning.\n",
      "  FutureWarning)\n"
     ]
    },
    {
     "name": "stderr",
     "output_type": "stream",
     "text": [
      "/home/walter/software/anaconda3/envs/cdiff/lib/python3.7/site-packages/sklearn/linear_model/logistic.py:432: FutureWarning: Default solver will be changed to 'lbfgs' in 0.22. Specify a solver to silence this warning.\n",
      "  FutureWarning)\n",
      "/home/walter/software/anaconda3/envs/cdiff/lib/python3.7/site-packages/sklearn/linear_model/logistic.py:432: FutureWarning: Default solver will be changed to 'lbfgs' in 0.22. Specify a solver to silence this warning.\n",
      "  FutureWarning)\n",
      "/home/walter/software/anaconda3/envs/cdiff/lib/python3.7/site-packages/sklearn/linear_model/logistic.py:432: FutureWarning: Default solver will be changed to 'lbfgs' in 0.22. Specify a solver to silence this warning.\n",
      "  FutureWarning)\n",
      "/home/walter/software/anaconda3/envs/cdiff/lib/python3.7/site-packages/sklearn/linear_model/logistic.py:432: FutureWarning: Default solver will be changed to 'lbfgs' in 0.22. Specify a solver to silence this warning.\n",
      "  FutureWarning)\n",
      "/home/walter/software/anaconda3/envs/cdiff/lib/python3.7/site-packages/sklearn/linear_model/logistic.py:432: FutureWarning: Default solver will be changed to 'lbfgs' in 0.22. Specify a solver to silence this warning.\n",
      "  FutureWarning)\n"
     ]
    },
    {
     "name": "stdout",
     "output_type": "stream",
     "text": [
      "Best parameters set found on development set:\n",
      "\n",
      "{'C': 0.1}\n",
      "\n",
      "Grid scores on development set:\n",
      "\n",
      "0.789 (+/-0.015) for {'C': 0.08}\n",
      "0.789 (+/-0.015) for {'C': 0.09}\n",
      "0.775 (+/-0.019) for {'C': 0.01}\n",
      "0.782 (+/-0.019) for {'C': 0.02}\n",
      "0.785 (+/-0.017) for {'C': 0.03}\n",
      "0.789 (+/-0.015) for {'C': 0.1}\n",
      "0.788 (+/-0.013) for {'C': 0.3}\n",
      "0.786 (+/-0.010) for {'C': 1}\n",
      "\n",
      "Detailed classification report:\n",
      "\n",
      "The model is trained on the full development set.\n",
      "The scores are computed on the full evaluation set.\n",
      "\n",
      "              precision    recall  f1-score   support\n",
      "\n",
      "           0       0.99      0.74      0.85     14151\n",
      "           1       0.07      0.67      0.12       399\n",
      "\n",
      "    accuracy                           0.74     14550\n",
      "   macro avg       0.53      0.71      0.49     14550\n",
      "weighted avg       0.96      0.74      0.83     14550\n",
      "\n",
      "\n"
     ]
    }
   ],
   "source": [
    "# Set the parameters by cross-validation\n",
    "tuned_parameters = [{'C': [0.08, 0.09,0.01,0.02, 0.03,0.1, 0.3, 1]}]\n",
    "\n",
    "scores = ['precision_macro', 'recall_macro','roc_auc']\n",
    "\n",
    "for score in scores:\n",
    "    print(\"# Tuning hyper-parameters for %s\" % score)\n",
    "    print()\n",
    "\n",
    "    clf = GridSearchCV(LogisticRegression(penalty='l1',class_weight='balanced',max_iter=100), tuned_parameters, cv=5,\n",
    "                       scoring='%s' % score)\n",
    "    clf.fit(X_train_logreg.values, y_train_logreg[\"target\"].values)\n",
    "\n",
    "    print(\"Best parameters set found on development set:\")\n",
    "    print()\n",
    "    print(clf.best_params_)\n",
    "    print()\n",
    "    print(\"Grid scores on development set:\")\n",
    "    print()\n",
    "    means = clf.cv_results_['mean_test_score']\n",
    "    stds = clf.cv_results_['std_test_score']\n",
    "    for mean, std, params in zip(means, stds, clf.cv_results_['params']):\n",
    "        print(\"%0.3f (+/-%0.03f) for %r\"\n",
    "              % (mean, std * 2, params))\n",
    "    print()\n",
    "\n",
    "    print(\"Detailed classification report:\")\n",
    "    print()\n",
    "    print(\"The model is trained on the full development set.\")\n",
    "    print(\"The scores are computed on the full evaluation set.\")\n",
    "    print()\n",
    "    y_true, y_pred = y_test_logreg, clf.predict(X_test_logreg)\n",
    "    print(classification_report(y_true, y_pred))\n",
    "    print()"
   ]
  },
  {
   "cell_type": "code",
   "execution_count": 41,
   "metadata": {},
   "outputs": [
    {
     "data": {
      "image/png": "[encoded data removed]",
      "text/plain": [
       "<Figure size 432x360 with 1 Axes>"
      ]
     },
     "metadata": {
      "needs_background": "light"
     },
     "output_type": "display_data"
    }
   ],
   "source": [
    "plt.figure()\n",
    "plt.plot([0.01,0.02,0.03,0.1,0.3,1],[0.775,0.782,0.785,0.789,0.788,0.786], c='k',lw=0.7,marker=\"s\",ms=10,label='Logistic Regression CV')\n",
    "plt.xticks([0.0,0.5, 1.0],fontsize=20)\n",
    "plt.yticks([0.775,0.78,0.785,0.79],fontsize=20)\n",
    "plt.xlim([-0.1, 1.05])\n",
    "plt.ylim([0.77, 0.795])\n",
    "plt.xlabel('C / Regularization parameter',fontsize=20)\n",
    "plt.ylabel('Area under ROC curve',fontsize=20)\n",
    "#plt.title('Receiver operating characteristic')\n",
    "#plt.legend(loc=\"lower right\")\n",
    "plt.legend(frameon=False,loc=\"upper left\",fontsize=15)\n",
    "plt.tight_layout()\n",
    "plt.rcParams[\"figure.figsize\"] = [6.0,5.0];\n",
    "plt.savefig('./week_4/Logistic_Regression_CV.jpg')\n",
    "plt.show()"
   ]
  },
  {
   "cell_type": "markdown",
   "metadata": {},
   "source": [
    "Cross-validation shows we can use any of the above values for C -- they all show the same performance"
   ]
  },
  {
   "cell_type": "markdown",
   "metadata": {},
   "source": [
    "**Gradient-boosted Random Forest Classifier**"
   ]
  },
  {
   "cell_type": "code",
   "execution_count": 42,
   "metadata": {},
   "outputs": [
    {
     "name": "stdout",
     "output_type": "stream",
     "text": [
      "# Tuning hyper-parameters for precision_macro\n",
      "\n",
      "Best parameters set found on development set:\n",
      "\n",
      "{'max_depth': 3}\n",
      "\n",
      "Grid scores on development set:\n",
      "\n",
      "0.708 (+/-0.041) for {'max_depth': 3}\n",
      "0.699 (+/-0.046) for {'max_depth': 5}\n",
      "0.687 (+/-0.037) for {'max_depth': 10}\n",
      "0.668 (+/-0.031) for {'max_depth': 15}\n",
      "\n",
      "Detailed classification report:\n",
      "\n",
      "The model is trained on the full development set.\n",
      "The scores are computed on the full evaluation set.\n",
      "\n",
      "              precision    recall  f1-score   support\n",
      "\n",
      "           0       0.99      0.68      0.80     14151\n",
      "           1       0.06      0.71      0.11       399\n",
      "\n",
      "    accuracy                           0.68     14550\n",
      "   macro avg       0.52      0.69      0.46     14550\n",
      "weighted avg       0.96      0.68      0.78     14550\n",
      "\n",
      "\n",
      "# Tuning hyper-parameters for recall_macro\n",
      "\n",
      "Best parameters set found on development set:\n",
      "\n",
      "{'max_depth': 3}\n",
      "\n",
      "Grid scores on development set:\n",
      "\n",
      "0.709 (+/-0.038) for {'max_depth': 3}\n",
      "0.702 (+/-0.048) for {'max_depth': 5}\n",
      "0.687 (+/-0.033) for {'max_depth': 10}\n",
      "0.665 (+/-0.041) for {'max_depth': 15}\n",
      "\n",
      "Detailed classification report:\n",
      "\n",
      "The model is trained on the full development set.\n",
      "The scores are computed on the full evaluation set.\n",
      "\n",
      "              precision    recall  f1-score   support\n",
      "\n",
      "           0       0.99      0.68      0.80     14151\n",
      "           1       0.06      0.71      0.11       399\n",
      "\n",
      "    accuracy                           0.68     14550\n",
      "   macro avg       0.52      0.69      0.46     14550\n",
      "weighted avg       0.96      0.68      0.78     14550\n",
      "\n",
      "\n",
      "# Tuning hyper-parameters for roc_auc\n",
      "\n",
      "Best parameters set found on development set:\n",
      "\n",
      "{'max_depth': 3}\n",
      "\n",
      "Grid scores on development set:\n",
      "\n",
      "0.785 (+/-0.048) for {'max_depth': 3}\n",
      "0.771 (+/-0.044) for {'max_depth': 5}\n",
      "0.751 (+/-0.026) for {'max_depth': 10}\n",
      "0.729 (+/-0.043) for {'max_depth': 15}\n",
      "\n",
      "Detailed classification report:\n",
      "\n",
      "The model is trained on the full development set.\n",
      "The scores are computed on the full evaluation set.\n",
      "\n",
      "              precision    recall  f1-score   support\n",
      "\n",
      "           0       0.99      0.68      0.80     14151\n",
      "           1       0.06      0.71      0.11       399\n",
      "\n",
      "    accuracy                           0.68     14550\n",
      "   macro avg       0.52      0.69      0.46     14550\n",
      "weighted avg       0.96      0.68      0.78     14550\n",
      "\n",
      "\n"
     ]
    }
   ],
   "source": [
    "# Set the parameters by cross-validation\n",
    "tuned_parameters = [{'max_depth': [3, 5, 10, 15]}]\n",
    "\n",
    "scores = ['precision_macro', 'recall_macro','roc_auc']\n",
    "\n",
    "for score in scores:\n",
    "    print(\"# Tuning hyper-parameters for %s\" % score)\n",
    "    print()\n",
    "\n",
    "    clf = GridSearchCV(GradientBoostingClassifier(learning_rate=0.2,n_estimators=25), tuned_parameters, cv=5,\n",
    "                       scoring='%s' % score)\n",
    "    clf.fit(X_tree_balanced, y_tree_balanced)\n",
    "\n",
    "    print(\"Best parameters set found on development set:\")\n",
    "    print()\n",
    "    print(clf.best_params_)\n",
    "    print()\n",
    "    print(\"Grid scores on development set:\")\n",
    "    print()\n",
    "    means = clf.cv_results_['mean_test_score']\n",
    "    stds = clf.cv_results_['std_test_score']\n",
    "    for mean, std, params in zip(means, stds, clf.cv_results_['params']):\n",
    "        print(\"%0.3f (+/-%0.03f) for %r\"\n",
    "              % (mean, std * 2, params))\n",
    "    print()\n",
    "\n",
    "    print(\"Detailed classification report:\")\n",
    "    print()\n",
    "    print(\"The model is trained on the full development set.\")\n",
    "    print(\"The scores are computed on the full evaluation set.\")\n",
    "    print()\n",
    "    y_true, y_pred = y_test_tree, clf.predict(X_test_tree)\n",
    "    print(classification_report(y_true, y_pred))\n",
    "    print()\n",
    "\n",
    "# Note the problem is too easy: the hyperparameter plateau is too flat and the\n",
    "# output model is the same for precision and recall with ties in quality."
   ]
  },
  {
   "cell_type": "markdown",
   "metadata": {},
   "source": [
    "Max depth of 3 is as good as any.  In a gradient-boosted random forest the product of the number of trees (n_estimators) and the learning rate should be constant across the cross-validation set.  I've made a table below showing the results of the cross-validation for various values of the learning rate and the maximum depth of the tree."
   ]
  },
  {
   "cell_type": "code",
   "execution_count": 43,
   "metadata": {},
   "outputs": [],
   "source": [
    "roc_auc_df = pd.DataFrame(index=[0.01,0.03,0.1,0.2],columns=[3,5,10,15])"
   ]
  },
  {
   "cell_type": "code",
   "execution_count": 44,
   "metadata": {},
   "outputs": [],
   "source": [
    "roc_auc_df.iloc[0] = [0.78,0.77,0.75,0.711]\n",
    "roc_auc_df.iloc[1] = [0.78,0.77,0.75,0.72]\n",
    "roc_auc_df.iloc[2] = [0.77,0.77,0.75,0.72]\n",
    "roc_auc_df.iloc[3] = [0.78,0.76,0.75,0.72]"
   ]
  },
  {
   "cell_type": "code",
   "execution_count": 45,
   "metadata": {},
   "outputs": [
    {
     "data": {
      "text/html": [
       "<div>\n",
       "<style scoped>\n",
       "    .dataframe tbody tr th:only-of-type {\n",
       "        vertical-align: middle;\n",
       "    }\n",
       "\n",
       "    .dataframe tbody tr th {\n",
       "        vertical-align: top;\n",
       "    }\n",
       "\n",
       "    .dataframe thead th {\n",
       "        text-align: right;\n",
       "    }\n",
       "</style>\n",
       "<table border=\"1\" class=\"dataframe\">\n",
       "  <thead>\n",
       "    <tr style=\"text-align: right;\">\n",
       "      <th></th>\n",
       "      <th>3</th>\n",
       "      <th>5</th>\n",
       "      <th>10</th>\n",
       "      <th>15</th>\n",
       "    </tr>\n",
       "  </thead>\n",
       "  <tbody>\n",
       "    <tr>\n",
       "      <th>0.01</th>\n",
       "      <td>0.78</td>\n",
       "      <td>0.77</td>\n",
       "      <td>0.75</td>\n",
       "      <td>0.711</td>\n",
       "    </tr>\n",
       "    <tr>\n",
       "      <th>0.03</th>\n",
       "      <td>0.78</td>\n",
       "      <td>0.77</td>\n",
       "      <td>0.75</td>\n",
       "      <td>0.72</td>\n",
       "    </tr>\n",
       "    <tr>\n",
       "      <th>0.10</th>\n",
       "      <td>0.77</td>\n",
       "      <td>0.77</td>\n",
       "      <td>0.75</td>\n",
       "      <td>0.72</td>\n",
       "    </tr>\n",
       "    <tr>\n",
       "      <th>0.20</th>\n",
       "      <td>0.78</td>\n",
       "      <td>0.76</td>\n",
       "      <td>0.75</td>\n",
       "      <td>0.72</td>\n",
       "    </tr>\n",
       "  </tbody>\n",
       "</table>\n",
       "</div>"
      ],
      "text/plain": [
       "        3     5     10     15\n",
       "0.01  0.78  0.77  0.75  0.711\n",
       "0.03  0.78  0.77  0.75   0.72\n",
       "0.10  0.77  0.77  0.75   0.72\n",
       "0.20  0.78  0.76  0.75   0.72"
      ]
     },
     "execution_count": 45,
     "metadata": {},
     "output_type": "execute_result"
    }
   ],
   "source": [
    "roc_auc_df"
   ]
  },
  {
   "cell_type": "markdown",
   "metadata": {},
   "source": [
    "## ROC Curve for optimal parameters \n",
    "### Logistic Regressor (C = 0.03, n_iter = 100)\n",
    "### Gradient-boosted random forest (learning rate=0.1,max_depth=3,n_estimators=50)"
   ]
  },
  {
   "cell_type": "code",
   "execution_count": 46,
   "metadata": {},
   "outputs": [
    {
     "name": "stderr",
     "output_type": "stream",
     "text": [
      "/home/walter/software/anaconda3/envs/cdiff/lib/python3.7/site-packages/sklearn/linear_model/logistic.py:432: FutureWarning: Default solver will be changed to 'lbfgs' in 0.22. Specify a solver to silence this warning.\n",
      "  FutureWarning)\n"
     ]
    }
   ],
   "source": [
    "#C=0.03-1,auc is 0.78\n",
    "logistic_regressor_cv = LogisticRegression(C=0.03,penalty='l1',class_weight='balanced',max_iter=100)\n",
    "logistic_regressor_cv.fit(X_train_logreg.values, y_train_logreg[\"target\"].values)\n",
    "y_pred_logreg = logistic_regressor_cv.predict(X_test_logreg)"
   ]
  },
  {
   "cell_type": "code",
   "execution_count": 47,
   "metadata": {},
   "outputs": [],
   "source": [
    "random_forest_gb_auc_clf=GradientBoostingClassifier(learning_rate=0.1,n_estimators=100,max_depth=3)\n",
    "random_forest_gb_auc_clf.fit(X_tree_balanced,y_tree_balanced)\n",
    "y_pred_gb_tree=random_forest_gb_auc_clf.predict(X_test_tree)"
   ]
  },
  {
   "cell_type": "code",
   "execution_count": 49,
   "metadata": {},
   "outputs": [
    {
     "data": {
      "image/png": "[encoded data removed]",
      "text/plain": [
       "<Figure size 432x360 with 1 Axes>"
      ]
     },
     "metadata": {
      "needs_background": "light"
     },
     "output_type": "display_data"
    }
   ],
   "source": [
    "logit_roc_auc_logreg = roc_auc_score(y_test_logreg, y_pred_logreg)\n",
    "logit_roc_auc_rf = roc_auc_score(y_test_tree, y_pred_tree)\n",
    "logit_roc_auc_gbrf = roc_auc_score(y_test_tree, y_pred_gb_tree)\n",
    "fpr,tpr, thresholds = roc_curve(y_test_logreg, logistic_regressor_cv.predict_proba(X_test_logreg)[:,1])\n",
    "fpr2,tpr2,thresholds2 = roc_curve(y_test_tree, random_forest_clf.predict_proba(X_test_tree)[:,1])\n",
    "fpr3,tpr3, thresholds3 = roc_curve(y_test_tree, random_forest_gb_auc_clf.predict_proba(X_test_tree)[:,1])\n",
    "plt.figure()\n",
    "plt.plot(fpr, tpr, c='magenta',lw=3.0,label='Logistic Regression (area = %0.2f)' % logit_roc_auc_logreg)\n",
    "plt.plot(fpr,tpr,c='black',lw=1.0,ls='--',label='Random Forest (area = %0.2f)' % logit_roc_auc_rf)\n",
    "plt.plot(fpr3, tpr3, c='black',lw=1.0,label='GB Random Forest (area = %0.2f)' % logit_roc_auc_gbrf)\n",
    "#for x, y, txt in zip(fpr[::100], tpr[::100], thresholds[::100]):\n",
    "#    plt.annotate(np.round(txt,2), (x, y-0.06),fontsize=15)\n",
    "plt.plot([0, 1], [0, 1],'k--')\n",
    "plt.xticks([0.0,0.5,1.0],fontsize=20)\n",
    "plt.yticks([0.0,0.5,1.0],fontsize=20)\n",
    "plt.xlim([0.0, 1.0])\n",
    "plt.ylim([0.0, 1.5])\n",
    "plt.xlabel('False Positive Rate',fontsize=20)\n",
    "plt.ylabel('True Positive Rate',fontsize=20)\n",
    "#plt.title('Receiver operating characteristic')\n",
    "#plt.legend(loc=\"lower right\")\n",
    "plt.legend(frameon=False,loc=\"upper left\",fontsize=15)\n",
    "plt.tight_layout()\n",
    "plt.rcParams[\"figure.figsize\"] = [6.0,5.0];\n",
    "plt.savefig('./week_4/Logistic_Regression_RF_GBRF_AUCROC.jpg')\n",
    "plt.show()"
   ]
  },
  {
   "cell_type": "markdown",
   "metadata": {},
   "source": [
    "Logistic Regression, Random Forest, and Gradient-Boosted Random Forest perform the same"
   ]
  },
  {
   "cell_type": "markdown",
   "metadata": {},
   "source": [
    "## Precision-Recall Curves"
   ]
  },
  {
   "cell_type": "markdown",
   "metadata": {},
   "source": [
    "We also want a sense of how precise (TP/(TP+FP)) our model and the recall (TP/(TP+FN))"
   ]
  },
  {
   "cell_type": "code",
   "execution_count": 50,
   "metadata": {},
   "outputs": [],
   "source": [
    "from sklearn.metrics import precision_recall_curve\n",
    "from sklearn import metrics"
   ]
  },
  {
   "cell_type": "code",
   "execution_count": 51,
   "metadata": {},
   "outputs": [],
   "source": [
    "sampler2 = UnderSampler(sampling_strategy=0.5)\n",
    "X_tree_balanced2, y_tree_balanced2 = sampler2.fit_sample(X_train_tree.values,y_train_tree[\"target\"].values)\n",
    "sampler10 = UnderSampler(sampling_strategy=0.1)\n",
    "X_tree_balanced10, y_tree_balanced10 = sampler10.fit_sample(X_train_tree.values,y_train_tree[\"target\"].values)"
   ]
  },
  {
   "cell_type": "code",
   "execution_count": 75,
   "metadata": {},
   "outputs": [
    {
     "data": {
      "image/png": "[encoded data removed]",
      "text/plain": [
       "<Figure size 432x360 with 1 Axes>"
      ]
     },
     "metadata": {
      "needs_background": "light"
     },
     "output_type": "display_data"
    }
   ],
   "source": [
    "#logit_roc_auc = roc_auc_score(y_test_tree, y_pred_gb_tree)\n",
    "precision_train,recall_train, thresholds_train = precision_recall_curve(y_tree_balanced, logistic_regressor_cv.predict_proba(X_tree_balanced)[:,1])\n",
    "precision2,recall2, thresholds2 = precision_recall_curve(y_tree_balanced2, logistic_regressor_cv.predict_proba(X_tree_balanced2)[:,1])\n",
    "precision10,recall10, thresholds10 = precision_recall_curve(y_tree_balanced10, logistic_regressor_cv.predict_proba(X_tree_balanced10)[:,1])\n",
    "precision,recall, thresholds = precision_recall_curve(y_test_logreg, logistic_regressor_cv.predict_proba(X_test_logreg)[:,1])\n",
    "\n",
    "plt.figure()\n",
    "plt.plot(recall_train, precision_train, label='+/- = 1:1 (area = %0.2f)' % metrics.auc(recall_train,precision_train))\n",
    "plt.plot(recall2, precision2, label='+/- = 1:2 (area = %0.2f)' % metrics.auc(recall2,precision2))\n",
    "plt.plot(recall10, precision10, label='+/- = 1:10 (area = %0.2f)' % metrics.auc(recall10,precision10))\n",
    "plt.plot(recall, precision, label='+/- = 2:98 (area = %0.2f)' % metrics.auc(recall,precision))\n",
    "\n",
    "#plt.plot([0, 1], [0, 1],'r--')\n",
    "#for x, y, txt in zip(recall[::3000], precision[::3000], thresholds[::3000]):\n",
    "#    plt.annotate(np.round(txt,2), (x, y-0.04))\n",
    "plt.xlim([0.0, 1.0])\n",
    "plt.ylim([0.0, 1.5])\n",
    "plt.xticks([0.0,0.5,1.0],fontsize=20)\n",
    "plt.yticks([0.0,0.5,1.0],fontsize=20)\n",
    "plt.xlabel('Recall',fontsize=20)\n",
    "plt.ylabel('Precision',fontsize=20)\n",
    "#plt.title('Precision-Recall Curve')\n",
    "plt.legend(loc=\"upper right\",fontsize=15,frameon=False)\n",
    "plt.rcParams[\"figure.figsize\"] = [6.0,5.0];\n",
    "plt.tight_layout()\n",
    "plt.savefig('./week_4/Logistic_regression_precision_recall_detection_limit.jpg')\n",
    "plt.show()"
   ]
  },
  {
   "cell_type": "code",
   "execution_count": 58,
   "metadata": {},
   "outputs": [],
   "source": [
    "import random\n",
    "def random_classifier(frac_pos_class,num_targets):\n",
    "    random_guess = [0]*num_targets\n",
    "    for idx,i in enumerate(random_guess):\n",
    "        x = random.uniform(0,1)\n",
    "        if x >= (1-frac_pos_class):\n",
    "            random_guess[idx] = 1\n",
    "    return random_guess"
   ]
  },
  {
   "cell_type": "code",
   "execution_count": 54,
   "metadata": {},
   "outputs": [
    {
     "data": {
      "text/plain": [
       "(14550, 1)"
      ]
     },
     "execution_count": 54,
     "metadata": {},
     "output_type": "execute_result"
    }
   ],
   "source": [
    "y_test_logreg.shape"
   ]
  },
  {
   "cell_type": "code",
   "execution_count": 71,
   "metadata": {},
   "outputs": [],
   "source": [
    "random_guess_2 = random_classifier(0.02,len(y_test_logreg))\n",
    "random_guess_10 = random_classifier(0.1,len(y_tree_balanced10))\n",
    "random_guess_50 = random_classifier(0.5,len(y_tree_balanced))"
   ]
  },
  {
   "cell_type": "code",
   "execution_count": 80,
   "metadata": {},
   "outputs": [
    {
     "data": {
      "image/png": "[encoded data removed]",
      "text/plain": [
       "<Figure size 432x360 with 1 Axes>"
      ]
     },
     "metadata": {
      "needs_background": "light"
     },
     "output_type": "display_data"
    }
   ],
   "source": [
    "precision_train,recall_train, thresholds_train = precision_recall_curve(y_tree_balanced, logistic_regressor_cv.predict_proba(X_tree_balanced)[:,1])\n",
    "precision_random_50,recall_random_50, thresholds_random_50 = precision_recall_curve(y_tree_balanced, random_guess_50)\n",
    "precision_random_2,recall_random_2, thresholds_random_2 = precision_recall_curve(y_test_logreg, random_guess_2)\n",
    "precision,recall, thresholds = precision_recall_curve(y_test_logreg, logistic_regressor_cv.predict_proba(X_test_logreg)[:,1])\n",
    "precision_random_10,recall_random_10, thresholds_random_10 = precision_recall_curve(y_tree_balanced10, random_guess_10)\n",
    "precision10,recall10, thresholds10 = precision_recall_curve(y_tree_balanced10, logistic_regressor_cv.predict_proba(X_tree_balanced10)[:,1])\n",
    "plt.figure()\n",
    "plt.plot(recall_random_2, precision_random_2, c='r', ls = '--', label='+/- = 2:98 random')\n",
    "plt.plot(recall_random_10, precision_random_10, c='k', ls= '--', label='+/- = 1:10 random')\n",
    "plt.plot(recall_random_50, precision_random_50, c='b',ls= '--', label='+/- = 50:50 random')\n",
    "plt.plot(recall, precision, c='r',label='+/- = 2:98 Logist. Regr.')\n",
    "plt.plot(recall10, precision10,c='k', label='+/- = 1:10 Logist. Regr.')\n",
    "plt.plot(recall_train, precision_train,c='b', label='+/- = 50:50 Logist. Regr.')\n",
    "#plt.plot([0, 1], [0, 1],'r--')\n",
    "#for x, y, txt in zip(recall[::3000], precision[::3000], thresholds[::3000]):\n",
    " #   plt.annotate(np.round(txt,2), (x, y-0.04))\n",
    "plt.xlim([0.0, 1.05])\n",
    "plt.ylim([0.0, 2.0])\n",
    "plt.xlabel('Recall',fontsize=20)\n",
    "plt.ylabel('Precision',fontsize=20)\n",
    "plt.xticks([0,0.5,1.0],fontsize=20)\n",
    "plt.yticks([0,0.5,1.0],fontsize=20)\n",
    "#plt.title('Precision-Recall Curve')\n",
    "plt.legend(fontsize=15,frameon=False)\n",
    "plt.rcParams[\"figure.figsize\"] = [6.0,5.0];\n",
    "plt.tight_layout()\n",
    "plt.savefig('./week_4/Logistic_regression_precision_recall_vs_random.jpg')\n",
    "plt.show()"
   ]
  },
  {
   "cell_type": "markdown",
   "metadata": {},
   "source": [
    "The area under the precision-recall curves decreases as the class-imbalance increases.  Nevertheless, our model consistently performs better than a random classifier. "
   ]
  },
  {
   "cell_type": "markdown",
   "metadata": {},
   "source": [
    "## Feature Importance in Logistic Regressor"
   ]
  },
  {
   "cell_type": "code",
   "execution_count": 81,
   "metadata": {},
   "outputs": [],
   "source": [
    "features_names = list(X_train_tree.columns)\n",
    "logistic_regression_coeffs = logistic_regressor_cv.coef_"
   ]
  },
  {
   "cell_type": "code",
   "execution_count": 82,
   "metadata": {},
   "outputs": [
    {
     "data": {
      "image/png": "[encoded data removed]",
      "text/plain": [
       "<Figure size 432x360 with 1 Axes>"
      ]
     },
     "metadata": {
      "needs_background": "light"
     },
     "output_type": "display_data"
    }
   ],
   "source": [
    "import operator\n",
    "x = dict(zip(features_names,logistic_regression_coeffs[0]))\n",
    "sorted_x = sorted(x.items(), key=operator.itemgetter(1))\n",
    "features = [item[0] for item in sorted_x]\n",
    "coeffs = [item[1] for item in sorted_x]\n",
    "\n",
    "\n",
    "plt.bar(features, coeffs , label=\"Real distribution\")\n",
    "\n",
    "plt.ylim(-5,5)\n",
    "plt.ylabel ('Percentage')\n",
    "plt.xlabel ('Significant number')\n",
    "#plt.xticks(list(keys))\n",
    "plt.legend (bbox_to_anchor=(1, 1), loc=\"upper right\", borderaxespad=0.)\n",
    "\n",
    "plt.show()"
   ]
  },
  {
   "cell_type": "code",
   "execution_count": 83,
   "metadata": {},
   "outputs": [
    {
     "data": {
      "text/plain": [
       "[('CORONARY ARTERY DISEASE', -1.1288832628589467),\n",
       " ('PHYS REFERRAL/NORMAL DELI', -0.72169023128718),\n",
       " ('ELECTIVE', -0.7000908151571384),\n",
       " ('CHEST PAIN', -0.4762815932911932),\n",
       " ('OTHER', -0.34549641635480527),\n",
       " ('CLINIC REFERRAL/PREMATURE', -0.33850395933254707),\n",
       " ('EMERGENCY ROOM ADMIT', -0.19715705012293974),\n",
       " ('INTRACRANIAL HEMORRHAGE', -0.15133328248499506),\n",
       " ('HISPANIC', -0.092722308634423),\n",
       " ('URGENT', -0.058843501662313856),\n",
       " ('** INFO NOT AVAILABLE **', 0.0),\n",
       " ('HMO REFERRAL/SICK', 0.0),\n",
       " ('TRANSFER FROM HOSP/EXTRAM', 0.0),\n",
       " ('TRANSFER FROM SKILLED NUR', 0.0),\n",
       " ('TRSF WITHIN THIS FACILITY', 0.0),\n",
       " ('ASIAN', 0.0),\n",
       " ('WHITE', 0.0),\n",
       " ('CONGESTIVE HEART FAILURE', 0.0),\n",
       " ('ABDOMINAL PAIN', 0.0),\n",
       " ('ALTERED MENTAL STATUS', 0.0),\n",
       " ('PANCREATITIS', 0.0),\n",
       " ('GASTROINTESTINAL BLEED', 0.0),\n",
       " ('LOWER GI BLEED', 0.0),\n",
       " ('LOWER GASTROINTESTINAL BLEED', 0.0),\n",
       " ('S/P FALL', 0.0),\n",
       " ('DYSPNEA', 0.0),\n",
       " ('GI BLEED', 0.0),\n",
       " ('TRANSIENT ISCHEMIC ATTACK', 0.0),\n",
       " ('DEHYDRATION', 0.0),\n",
       " ('RESPIRATORY DISTRESS', 0.0),\n",
       " ('WEAKNESS', 0.0),\n",
       " ('HIP FRACTURE', 0.0),\n",
       " ('SEIZURE', 0.0),\n",
       " ('SHORTNESS OF BREATH', 0.0),\n",
       " ('ASTHMA', 0.0),\n",
       " ('SUBDURAL HEMATOMA', 0.0),\n",
       " ('DIABETIC KETOACIDOSIS', 0.0),\n",
       " ('ANEMIA', 0.0),\n",
       " ('UPPER GASTROINTESTINAL BLEED', 0.0),\n",
       " ('LYMPHOMA', 0.0),\n",
       " ('BACTEREMIA', 0.0),\n",
       " ('HYPERKALEMIA', 0.0),\n",
       " ('BOWEL OBSTRUCTION', 0.0),\n",
       " ('CELLULITIS', 0.0),\n",
       " ('RENAL FAILURE', 0.0),\n",
       " ('CHOLECYSTITIS', 0.0),\n",
       " ('LIVER FAILURE', 0.0),\n",
       " ('BLUNT TRAUMA', 0.0),\n",
       " ('ABDOMINAL AORTIC ANEURYSM', 0.0),\n",
       " ('PANCREATIC MASS/SDA', 0.0),\n",
       " ('ACUTE LEUKEMIA', 0.0),\n",
       " ('temperature_F', 0.0),\n",
       " ('ACUTE RENAL FAILURE', 0.023434644374466258),\n",
       " ('BLACK', 0.024592614933713043),\n",
       " ('EMERGENCY', 0.06600190137355938),\n",
       " ('UPPER GI BLEED', 0.11193910100358151),\n",
       " ('URINARY TRACT INFECTION', 0.16208390338389794),\n",
       " ('RESPIRATORY FAILURE', 0.26138123507750816),\n",
       " ('heart_rate_bps', 0.27196032311519686),\n",
       " ('TRANSFER FROM OTHER HEALT', 0.32235902616075185),\n",
       " ('ages', 0.43011199227017677),\n",
       " ('UROSEPSIS', 0.45996591164544887),\n",
       " ('URINARY TRACT INFECTION.1', 0.46286335776219606),\n",
       " ('PNEUMONIA', 0.5109024544704388),\n",
       " ('FEVER', 0.5550388409132369),\n",
       " ('LOS', 0.702471739192705),\n",
       " ('HYPOTENSION', 0.9652399482038989),\n",
       " ('DIARRHEA', 1.2101247856740047),\n",
       " ('SEPSIS', 1.3306445374864144),\n",
       " ('COLITIS', 1.8956131830240204)]"
      ]
     },
     "execution_count": 83,
     "metadata": {},
     "output_type": "execute_result"
    }
   ],
   "source": [
    "sorted_x"
   ]
  },
  {
   "cell_type": "code",
   "execution_count": 84,
   "metadata": {},
   "outputs": [],
   "source": [
    "log_reg_feature_importance = pd.DataFrame({'feature':['Colitis','Sepsis','Fever','Diarrhea','Hypotension','Length of Stay','Age'],'weight':[1.63,1.4,1.1,1.03,1.03,0.7,0.49]})"
   ]
  },
  {
   "cell_type": "code",
   "execution_count": 85,
   "metadata": {},
   "outputs": [
    {
     "data": {
      "image/png": "[encoded data removed]",
      "text/plain": [
       "<Figure size 432x360 with 1 Axes>"
      ]
     },
     "metadata": {
      "needs_background": "light"
     },
     "output_type": "display_data"
    }
   ],
   "source": [
    "log_reg_feature_importance.plot(kind='bar',legend=None,x='feature',y='weight',facecolor='deepskyblue',edgecolor='black');\n",
    "plt.xticks(fontsize=20)\n",
    "plt.xlabel('');\n",
    "plt.yticks([0.0,1.0,2.0,3.0],fontsize=20);\n",
    "plt.ylabel('weights',fontsize=20);\n",
    "plt.rcParams[\"figure.figsize\"] = [6.0,5.0];\n",
    "plt.tight_layout();\n",
    "#plt.savefig(\"./week_4/feature_importance_log_reg.jpg\")"
   ]
  },
  {
   "cell_type": "markdown",
   "metadata": {},
   "source": [
    "## PROBABILITY DISTRIBUTION OF POSTIVE AND NEGATIVE CASES"
   ]
  },
  {
   "cell_type": "code",
   "execution_count": 86,
   "metadata": {},
   "outputs": [],
   "source": [
    "logistic_regressor = joblib.load(\"./models/logistic_regressor_scaled_features.mdl\")"
   ]
  },
  {
   "cell_type": "code",
   "execution_count": 87,
   "metadata": {},
   "outputs": [],
   "source": [
    "cdiff_pos_preprocess = ADMISSIONS_CDiff_preprocess.loc[ADMISSIONS_CDiff_preprocess['target'] == 1]\n",
    "cdiff_neg_preprocess = ADMISSIONS_CDiff_preprocess.loc[ADMISSIONS_CDiff_preprocess['target'] == 0]\n",
    "cdiff_pos_preprocess_inputs = cdiff_pos_preprocess.loc[:,cdiff_pos_preprocess.columns != 'target']\n",
    "cdiff_neg_preprocess_inputs = cdiff_neg_preprocess.loc[:,cdiff_neg_preprocess.columns != 'target']"
   ]
  },
  {
   "cell_type": "code",
   "execution_count": 88,
   "metadata": {},
   "outputs": [],
   "source": [
    "cdiff_pos_probs = logistic_regressor.predict_proba(cdiff_pos_preprocess_inputs.to_numpy())[:,1]\n",
    "cdiff_neg_probs = logistic_regressor.predict_proba(cdiff_neg_preprocess_inputs.to_numpy())[:,1]"
   ]
  },
  {
   "cell_type": "code",
   "execution_count": 89,
   "metadata": {},
   "outputs": [],
   "source": [
    "cdiff_pos_probs = pd.DataFrame({'C. diff. positive':cdiff_pos_probs})\n",
    "cdiff_neg_probs = pd.DataFrame({'C. diff. negative':cdiff_neg_probs})"
   ]
  },
  {
   "cell_type": "code",
   "execution_count": 90,
   "metadata": {},
   "outputs": [
    {
     "name": "stderr",
     "output_type": "stream",
     "text": [
      "/home/walter/software/anaconda3/envs/cdiff/lib/python3.7/site-packages/ipykernel_launcher.py:1: FutureWarning: The signature of `Series.to_csv` was aligned to that of `DataFrame.to_csv`, and argument 'header' will change its default value from False to True: please pass an explicit value to suppress this warning.\n",
      "  \"\"\"Entry point for launching an IPython kernel.\n",
      "/home/walter/software/anaconda3/envs/cdiff/lib/python3.7/site-packages/ipykernel_launcher.py:2: FutureWarning: The signature of `Series.to_csv` was aligned to that of `DataFrame.to_csv`, and argument 'header' will change its default value from False to True: please pass an explicit value to suppress this warning.\n",
      "  \n"
     ]
    }
   ],
   "source": [
    "cdiff_pos_probs['C. diff. positive'].to_csv(\"./data/p_dists/cdiff_pos_prob_scaled_features.csv\",index=False)\n",
    "cdiff_neg_probs['C. diff. negative'].to_csv(\"./data/p_dists/cdiff_neg_prob_scaled_features.csv\",index=False)"
   ]
  },
  {
   "cell_type": "code",
   "execution_count": 94,
   "metadata": {},
   "outputs": [],
   "source": [
    "import numpy as np\n",
    "import matplotlib.lines as mlines"
   ]
  },
  {
   "cell_type": "code",
   "execution_count": 95,
   "metadata": {},
   "outputs": [
    {
     "data": {
      "image/png": "[encoded data removed]",
      "text/plain": [
       "<Figure size 432x360 with 1 Axes>"
      ]
     },
     "metadata": {
      "needs_background": "light"
     },
     "output_type": "display_data"
    }
   ],
   "source": [
    "ax=plt.gca()\n",
    "ax.set_xticks(np.arange(0.0,1.0,0.05),minor=True)\n",
    "ax.set_yticks(np.arange(0.0,3.0,0.25),minor=True)\n",
    "cdiff_pos_probs.hist(bins=50,density=True,grid=False,ax=ax,alpha=0.7);\n",
    "cdiff_neg_probs.hist(bins=300,density=True,grid=False,ax=ax,alpha=0.7);\n",
    "plt.title(label=\"\");\n",
    "cdiff_pos = mlines.Line2D([], [], c='b', lw=1.0, label = 'C. Diff. positive patients');\n",
    "cdiff_neg = mlines.Line2D([], [], c='orange', lw=1.0, label='C. Diff. negative patients');\n",
    "plt.legend(handles=[cdiff_pos,cdiff_neg],frameon=False,fontsize=15);\n",
    "plt.xlabel(\"Risk assessment\",fontsize=20);\n",
    "plt.ylabel(\"Patient frequency\",fontsize=20);\n",
    "plt.xticks([0.0,0.25,0.5,0.75,1.0],fontsize=20);\n",
    "plt.yticks([0.0,1.0,2.0],fontsize=20);\n",
    "plt.ylim([0,3.0]);\n",
    "plt.rcParams[\"figure.figsize\"] = [6.0,5.0];\n",
    "plt.tight_layout();\n",
    "#plt.savefig(\"./week_4/cdiff_populations.jpg\")"
   ]
  },
  {
   "cell_type": "code",
   "execution_count": null,
   "metadata": {},
   "outputs": [],
   "source": [
    "a"
   ]
  }
 ],
 "metadata": {
  "kernelspec": {
   "display_name": "Python 3",
   "language": "python",
   "name": "python3"
  },
  "language_info": {
   "codemirror_mode": {
    "name": "ipython",
    "version": 3
   },
   "file_extension": ".py",
   "mimetype": "text/x-python",
   "name": "python",
   "nbconvert_exporter": "python",
   "pygments_lexer": "ipython3",
   "version": "3.7.3"
  }
 },
 "nbformat": 4,
 "nbformat_minor": 2
}
